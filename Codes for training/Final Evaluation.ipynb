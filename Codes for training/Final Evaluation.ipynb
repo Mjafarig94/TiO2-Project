{
 "cells": [
  {
   "cell_type": "code",
   "execution_count": 1,
   "metadata": {},
   "outputs": [],
   "source": [
    "import joblib\n",
    "import pandas as pd\n",
    "from sklearn.metrics import accuracy_score, precision_score, recall_score ,accuracy_score\n",
    "from time import time\n",
    "import numpy as np\n",
    "import matplotlib.pyplot as plt\n",
    "from sklearn.metrics import r2_score\n",
    "from sklearn.metrics import mean_squared_error as mse\n",
    "from sklearn.metrics import mean_absolute_error as mae\n",
    "from math import sqrt\n",
    "from sklearn import preprocessing\n",
    "from pyGRNN import GRNN\n",
    "\n",
    "\n",
    "\n",
    "\n",
    "\n",
    "from sklearn.model_selection import cross_val_score\n",
    "from sklearn.ensemble import GradientBoostingRegressor\n",
    "import numpy as np\n",
    "import pandas as pd\n",
    "import pickle\n",
    "from sklearn import metrics \n",
    "from sklearn import preprocessing\n",
    "from sklearn.model_selection import train_test_split\n",
    "from sklearn.model_selection import cross_val_predict\n",
    "import matplotlib.pyplot as plt\n",
    "#from neupy.algorithms import RBFKMeans\n",
    "#from neupy.algorithms import GRNN\n",
    "#from neupy.algorithms import PNN\n",
    "from sklearn.ensemble import RandomForestRegressor\n",
    "from sklearn.metrics import r2_score\n",
    "from sklearn.svm import SVR\n",
    "from sklearn.neural_network import MLPRegressor\n",
    "from sklearn.neural_network import MLPClassifier\n",
    "from sklearn.linear_model import LogisticRegression\n",
    "from sklearn.tree import DecisionTreeRegressor\n",
    "from sklearn.ensemble import AdaBoostRegressor\n",
    "from sklearn import linear_model\n",
    "import seaborn as sn\n",
    "import joblib\n",
    "import pandas as pd\n",
    "from sklearn.linear_model import LogisticRegression\n",
    "from sklearn.model_selection import GridSearchCV\n",
    "import warnings\n",
    "warnings.filterwarnings('ignore', category=FutureWarning)\n",
    "warnings.filterwarnings('ignore', category=DeprecationWarning)\n"
   ]
  },
  {
   "cell_type": "code",
   "execution_count": 3,
   "metadata": {},
   "outputs": [],
   "source": [
    "\n",
    "\n",
    "\n",
    "\n",
    "\n",
    "\n",
    "GRNN_X_test_standard=np.load('GRNN_X_test_standard.npy')\n",
    "GRNN_Y_train_standard= np.load('GRNN_Y_train_standard.npy')\n",
    "GRNN_X_train_standard= np.load('GRNN_X_train_standard.npy')\n",
    "GRNN_Y_test_standard= np.load('GRNN_Y_test_standard.npy')\n",
    "\n"
   ]
  },
  {
   "cell_type": "code",
   "execution_count": 4,
   "metadata": {},
   "outputs": [],
   "source": [
    "\n",
    "GB_fullRun_X_train_standard=np.load('GB_fullRun_X_train_standard.npy')\n",
    "GB_fullRun_Y_train_standard= np.load('GB_fullRun_Y_train_standard.npy')\n",
    "GB_fullRun_X_test_standard= np.load('GB_fullRun_X_test_standard.npy')\n",
    "GB_fullRun_Y_test_standard= np.load('GB_fullRun_Y_test_standard.npy')"
   ]
  },
  {
   "cell_type": "code",
   "execution_count": 5,
   "metadata": {},
   "outputs": [],
   "source": [
    "MLP_X_test_standard=np.load('MLP_X_test_standard.npy')\n",
    "MLP_Y_train_standard= np.load('MLP_Y_train_standard.npy')\n",
    "MLP_X_train_standard= np.load('MLP_X_train_standard.npy')\n",
    "MLP_Y_test_standard= np.load('MLP_Y_test_standard.npy')"
   ]
  },
  {
   "cell_type": "code",
   "execution_count": null,
   "metadata": {},
   "outputs": [],
   "source": []
  },
  {
   "cell_type": "code",
   "execution_count": 6,
   "metadata": {},
   "outputs": [],
   "source": [
    "\n",
    "SVMlinear_X_test_standard=np.load('SVMlinear_X_test_standard.npy')\n",
    "SVMlinear_Y_train_standard= np.load('SVMlinear_Y_train_standard.npy')\n",
    "SVMlinear_X_train_standard= np.load('SVMlinear_X_train_standard.npy')\n",
    "SVMlinear_Y_test_standard= np.load('SVMlinear_Y_test_standard.npy')"
   ]
  },
  {
   "cell_type": "code",
   "execution_count": 7,
   "metadata": {},
   "outputs": [],
   "source": [
    "\n",
    "SVMrbf_X_test_standard=np.load('SVMrbf_X_test_standard.npy')\n",
    "SVMrbf_Y_train_standard= np.load('SVMrbf_Y_train_standard.npy')\n",
    "SVMrbf_X_train_standard= np.load('SVMrbf_X_train_standard.npy')\n",
    "SVMrbf_Y_test_standard= np.load('SVMrbf_Y_test_standard.npy')"
   ]
  },
  {
   "cell_type": "code",
   "execution_count": null,
   "metadata": {},
   "outputs": [],
   "source": []
  },
  {
   "cell_type": "code",
   "execution_count": null,
   "metadata": {},
   "outputs": [],
   "source": []
  },
  {
   "cell_type": "code",
   "execution_count": null,
   "metadata": {},
   "outputs": [],
   "source": [
    "\n"
   ]
  },
  {
   "cell_type": "code",
   "execution_count": null,
   "metadata": {},
   "outputs": [],
   "source": []
  },
  {
   "cell_type": "code",
   "execution_count": null,
   "metadata": {},
   "outputs": [],
   "source": []
  },
  {
   "cell_type": "code",
   "execution_count": 8,
   "metadata": {},
   "outputs": [],
   "source": [
    "MLP=joblib.load('MLP_model.pkl')"
   ]
  },
  {
   "cell_type": "code",
   "execution_count": 9,
   "metadata": {},
   "outputs": [
    {
     "data": {
      "text/plain": [
       "0.92"
      ]
     },
     "execution_count": 9,
     "metadata": {},
     "output_type": "execute_result"
    }
   ],
   "source": [
    "CVS_MLP=cross_val_score(MLP, MLP_X_train_standard, MLP_Y_train_standard, scoring='r2', cv=5)\n",
    "CVS_MLP.mean().round(2)\n"
   ]
  },
  {
   "cell_type": "code",
   "execution_count": 10,
   "metadata": {},
   "outputs": [],
   "source": [
    "#PNN=joblib.load('PNN_model.pkl')"
   ]
  },
  {
   "cell_type": "code",
   "execution_count": null,
   "metadata": {},
   "outputs": [],
   "source": []
  },
  {
   "cell_type": "code",
   "execution_count": null,
   "metadata": {},
   "outputs": [],
   "source": []
  },
  {
   "cell_type": "code",
   "execution_count": null,
   "metadata": {},
   "outputs": [],
   "source": []
  },
  {
   "cell_type": "code",
   "execution_count": 11,
   "metadata": {},
   "outputs": [],
   "source": [
    "Gradboost=joblib.load('Gradboost_fullRun_model.pkl')"
   ]
  },
  {
   "cell_type": "code",
   "execution_count": 12,
   "metadata": {},
   "outputs": [
    {
     "data": {
      "text/plain": [
       "GradientBoostingRegressor(criterion='mse', learning_rate=1, max_depth=4,\n",
       "                          max_features='auto', min_samples_split=3,\n",
       "                          n_estimators=5, random_state=10, subsample=1)"
      ]
     },
     "execution_count": 12,
     "metadata": {},
     "output_type": "execute_result"
    }
   ],
   "source": [
    "Gradboost"
   ]
  },
  {
   "cell_type": "code",
   "execution_count": null,
   "metadata": {},
   "outputs": [],
   "source": []
  },
  {
   "cell_type": "code",
   "execution_count": 13,
   "metadata": {},
   "outputs": [],
   "source": [
    "SVMlinear=joblib.load('SVM_modellinear.pkl') #linear"
   ]
  },
  {
   "cell_type": "code",
   "execution_count": 14,
   "metadata": {},
   "outputs": [],
   "source": [
    "SVMrbf=joblib.load('SVM_modelrbf.pkl') #rbf"
   ]
  },
  {
   "cell_type": "code",
   "execution_count": null,
   "metadata": {},
   "outputs": [],
   "source": []
  },
  {
   "cell_type": "code",
   "execution_count": null,
   "metadata": {},
   "outputs": [],
   "source": []
  },
  {
   "cell_type": "code",
   "execution_count": 15,
   "metadata": {},
   "outputs": [],
   "source": [
    "KernelRidgePoly=joblib.load('KernelRidge_modelPoly.pkl')\n",
    "KernelRidgelaplacian=joblib.load('KernelRidge_modellaplacian.pkl')\n"
   ]
  },
  {
   "cell_type": "code",
   "execution_count": 67,
   "metadata": {},
   "outputs": [
    {
     "data": {
      "text/plain": [
       "KernelRidge(degree=5, kernel='poly')"
      ]
     },
     "execution_count": 67,
     "metadata": {},
     "output_type": "execute_result"
    }
   ],
   "source": [
    "KernelRidgePoly"
   ]
  },
  {
   "cell_type": "code",
   "execution_count": null,
   "metadata": {},
   "outputs": [],
   "source": []
  },
  {
   "cell_type": "code",
   "execution_count": 16,
   "metadata": {},
   "outputs": [],
   "source": [
    "GRNN=joblib.load('GRNN_model.pkl')"
   ]
  },
  {
   "cell_type": "code",
   "execution_count": 17,
   "metadata": {},
   "outputs": [
    {
     "data": {
      "text/plain": [
       "MLPRegressor(activation='tanh', hidden_layer_sizes=(2, 2, 1), max_iter=1000,\n",
       "             random_state=5, solver='lbfgs')"
      ]
     },
     "execution_count": 17,
     "metadata": {},
     "output_type": "execute_result"
    }
   ],
   "source": [
    "MLP"
   ]
  },
  {
   "cell_type": "code",
   "execution_count": 18,
   "metadata": {},
   "outputs": [
    {
     "data": {
      "text/plain": [
       "0.9639"
      ]
     },
     "execution_count": 18,
     "metadata": {},
     "output_type": "execute_result"
    }
   ],
   "source": [
    "Gradboost.score(GB_fullRun_X_test_standard, GB_fullRun_Y_test_standard).round(4)"
   ]
  },
  {
   "cell_type": "code",
   "execution_count": 19,
   "metadata": {},
   "outputs": [
    {
     "data": {
      "text/plain": [
       "0.05962803152649281"
      ]
     },
     "execution_count": 19,
     "metadata": {},
     "output_type": "execute_result"
    }
   ],
   "source": [
    "CVS_GB=cross_val_score(Gradboost, GB_fullRun_X_train_standard, GB_fullRun_Y_train_standard, scoring='r2', cv=5)\n",
    "CVS_GB.mean().round(2)\n",
    "CVS_GB.std()"
   ]
  },
  {
   "cell_type": "code",
   "execution_count": 20,
   "metadata": {},
   "outputs": [
    {
     "data": {
      "text/plain": [
       "0.976"
      ]
     },
     "execution_count": 20,
     "metadata": {},
     "output_type": "execute_result"
    }
   ],
   "source": [
    "MLP.score(MLP_X_test_standard, MLP_Y_test_standard).round(4)"
   ]
  },
  {
   "cell_type": "code",
   "execution_count": 21,
   "metadata": {},
   "outputs": [
    {
     "data": {
      "text/plain": [
       "MLPRegressor(activation='tanh', hidden_layer_sizes=(2, 2, 1), max_iter=1000,\n",
       "             random_state=5, solver='lbfgs')"
      ]
     },
     "execution_count": 21,
     "metadata": {},
     "output_type": "execute_result"
    }
   ],
   "source": [
    "MLP"
   ]
  },
  {
   "cell_type": "code",
   "execution_count": 22,
   "metadata": {},
   "outputs": [
    {
     "data": {
      "text/plain": [
       "0.9725"
      ]
     },
     "execution_count": 22,
     "metadata": {},
     "output_type": "execute_result"
    }
   ],
   "source": [
    "SVMrbf.score(SVMrbf_X_test_standard, SVMrbf_Y_test_standard).round(4)"
   ]
  },
  {
   "cell_type": "code",
   "execution_count": 23,
   "metadata": {},
   "outputs": [
    {
     "data": {
      "text/plain": [
       "SVR(C=0.91, degree=1, epsilon=0)"
      ]
     },
     "execution_count": 23,
     "metadata": {},
     "output_type": "execute_result"
    }
   ],
   "source": [
    "SVMrbf"
   ]
  },
  {
   "cell_type": "code",
   "execution_count": 24,
   "metadata": {},
   "outputs": [
    {
     "data": {
      "text/plain": [
       "0.426"
      ]
     },
     "execution_count": 24,
     "metadata": {},
     "output_type": "execute_result"
    }
   ],
   "source": [
    "SVMlinear.score(SVMlinear_X_test_standard, SVMlinear_Y_test_standard).round(4)"
   ]
  },
  {
   "cell_type": "code",
   "execution_count": 25,
   "metadata": {},
   "outputs": [
    {
     "data": {
      "text/plain": [
       "SVR(C=1, degree=1, kernel='linear')"
      ]
     },
     "execution_count": 25,
     "metadata": {},
     "output_type": "execute_result"
    }
   ],
   "source": [
    "SVMlinear"
   ]
  },
  {
   "cell_type": "code",
   "execution_count": 26,
   "metadata": {},
   "outputs": [],
   "source": [
    "\n",
    "KernelRidgePoly_fullRun_X_train_standard=np.load('KernelRidgePoly_fulRun_X_train_standard.npy')\n",
    "KernelRidgePoly_fullRun_Y_train_standard= np.load('KernelRidgePoly_fulRun_Y_train_standard.npy')\n",
    "KernelRidgePoly_fullRun_X_test_standard= np.load('KernelRidgePoly_fulRun_X_test_standard.npy')\n",
    "KernelRidgePoly_fullRun_Y_test_standard= np.load('KernelRidgePoly_fulRun_Y_test_standard.npy')\n"
   ]
  },
  {
   "cell_type": "code",
   "execution_count": 27,
   "metadata": {},
   "outputs": [],
   "source": [
    "KernelRidgelaplacian_fullRun_X_train_standard=np.load('KernelRidgelaplacian_fulRun_X_train_standard.npy')\n",
    "KernelRidgelaplacian_fullRun_Y_train_standard= np.load('KernelRidgelaplacian_fulRun_Y_train_standard.npy')\n",
    "KernelRidgelaplacian_fullRun_X_test_standard= np.load('KernelRidgelaplacian_fulRun_X_test_standard.npy')\n",
    "KernelRidgelaplacian_fullRun_Y_test_standard= np.load('KernelRidgelaplacian_fulRun_Y_test_standard.npy')"
   ]
  },
  {
   "cell_type": "code",
   "execution_count": 28,
   "metadata": {},
   "outputs": [
    {
     "name": "stdout",
     "output_type": "stream",
     "text": [
      "SVMlinear test RMSE: 0.8150212965498171 and R2: 0.426 and MAE: 0.602\n",
      "SVMlinear train RMSE: 0.7051656056177521 and R2: 0.503 and MAE: 0.436\n",
      "KernelRidgePoly test RMSE: 0.12402138867879435 and R2: 0.987 and MAE: 0.104\n",
      "KernelRidgePoly train RMSE: 0.15899384423164983 and R2: 0.975 and MAE: 0.11\n",
      "KernelRidgelaplacian test RMSE: 0.39081351211383797 and R2: 0.769 and MAE: 0.296\n",
      "KernelRidgelaplacian train RMSE: 0.6740178328855205 and R2: 0.546 and MAE: 0.539\n",
      "SVMrbf test RMSE: 0.14945075945418712 and R2: 0.972 and MAE: 0.115\n",
      "SVMrbf train RMSE: 0.18057268473319765 and R2: 0.967 and MAE: 0.103\n"
     ]
    }
   ],
   "source": [
    "Y_pred_SVMlinear=SVMlinear.predict(SVMlinear_X_test_standard)\n",
    "Y_pred_SVMlinear_train=SVMlinear.predict(SVMlinear_X_train_standard)\n",
    "Cross_validation_SVMlinear= cross_val_score(SVMlinear, SVMlinear_X_train_standard, SVMlinear_Y_train_standard, scoring='r2', cv=5)\n",
    "Cross_validation_Accuracy_SVMlinear= Cross_validation_SVMlinear.mean().round(2)\n",
    "\n",
    "R2SVMlinear = r2_score(SVMlinear_Y_test_standard, Y_pred_SVMlinear)\n",
    "R2SVMlinear_train = r2_score(SVMlinear_Y_train_standard, Y_pred_SVMlinear_train)\n",
    "\n",
    "print(\"SVMlinear test RMSE: {0} and R2: {1} and MAE: {2}\".format(sqrt(np.mean((SVMlinear_Y_test_standard - Y_pred_SVMlinear)**2)), R2SVMlinear.round(3),mae(SVMlinear_Y_test_standard, Y_pred_SVMlinear).round(3)))\n",
    "print(\"SVMlinear train RMSE: {0} and R2: {1} and MAE: {2}\".format(sqrt(np.mean((SVMlinear_Y_train_standard - Y_pred_SVMlinear_train)**2)), R2SVMlinear_train.round(3),mae(SVMlinear_Y_train_standard, Y_pred_SVMlinear_train).round(3)))\n",
    "\n",
    "\n",
    "Y_pred_KernelRidgePoly=KernelRidgePoly.predict(KernelRidgePoly_fullRun_X_test_standard)\n",
    "Y_pred_KernelRidgePoly_train=KernelRidgePoly.predict(KernelRidgePoly_fullRun_X_train_standard)\n",
    "Cross_validation_KernelRidgePoly= cross_val_score(KernelRidgePoly, KernelRidgePoly_fullRun_X_train_standard, KernelRidgePoly_fullRun_Y_train_standard, scoring='r2', cv=5)\n",
    "Cross_validation_Accuracy_KernelRidgePoly= Cross_validation_KernelRidgePoly.mean().round(2)\n",
    "\n",
    "R2KernelRidgePoly = r2_score(KernelRidgePoly_fullRun_Y_test_standard, Y_pred_KernelRidgePoly)\n",
    "R2KernelRidgePoly_train = r2_score(KernelRidgePoly_fullRun_Y_train_standard, Y_pred_KernelRidgePoly_train)\n",
    "\n",
    "print(\"KernelRidgePoly test RMSE: {0} and R2: {1} and MAE: {2}\".format(sqrt(np.mean((KernelRidgePoly_fullRun_Y_test_standard - Y_pred_KernelRidgePoly)**2)), R2KernelRidgePoly.round(3),mae(KernelRidgePoly_fullRun_Y_test_standard, Y_pred_KernelRidgePoly).round(3)))\n",
    "print(\"KernelRidgePoly train RMSE: {0} and R2: {1} and MAE: {2}\".format(sqrt(np.mean((KernelRidgePoly_fullRun_Y_train_standard - Y_pred_KernelRidgePoly_train)**2)), R2KernelRidgePoly_train.round(3),mae(KernelRidgePoly_fullRun_Y_train_standard, Y_pred_KernelRidgePoly_train).round(3)))\n",
    "\n",
    "Y_pred_KernelRidgelaplacian=KernelRidgelaplacian.predict(KernelRidgelaplacian_fullRun_X_test_standard)\n",
    "Y_pred_KernelRidgelaplacian_train=KernelRidgelaplacian.predict(KernelRidgelaplacian_fullRun_X_train_standard)\n",
    "Cross_validation_KernelRidgelaplacian= cross_val_score(KernelRidgelaplacian, KernelRidgelaplacian_fullRun_X_train_standard, KernelRidgelaplacian_fullRun_Y_train_standard, scoring='r2', cv=5)\n",
    "Cross_validation_Accuracy_KernelRidgelaplacian= Cross_validation_KernelRidgelaplacian.mean().round(2)\n",
    "\n",
    "R2KernelRidgelaplacian = r2_score(KernelRidgelaplacian_fullRun_Y_test_standard, Y_pred_KernelRidgelaplacian)\n",
    "R2KernelRidgelaplacian_train = r2_score(KernelRidgelaplacian_fullRun_Y_train_standard, Y_pred_KernelRidgelaplacian_train)\n",
    "\n",
    "print(\"KernelRidgelaplacian test RMSE: {0} and R2: {1} and MAE: {2}\".format(sqrt(np.mean((KernelRidgelaplacian_fullRun_Y_test_standard - Y_pred_KernelRidgelaplacian)**2)), R2KernelRidgelaplacian.round(3),mae(KernelRidgelaplacian_fullRun_Y_test_standard, Y_pred_KernelRidgelaplacian).round(3)))\n",
    "print(\"KernelRidgelaplacian train RMSE: {0} and R2: {1} and MAE: {2}\".format(sqrt(np.mean((KernelRidgelaplacian_fullRun_Y_train_standard - Y_pred_KernelRidgelaplacian_train)**2)), R2KernelRidgelaplacian_train.round(3),mae(KernelRidgelaplacian_fullRun_Y_train_standard, Y_pred_KernelRidgelaplacian_train).round(3)))\n",
    "\n",
    "Y_pred_SVMrbf=SVMrbf.predict(SVMrbf_X_test_standard)\n",
    "Y_pred_SVMrbf_train=SVMrbf.predict(SVMrbf_X_train_standard)\n",
    "Cross_validation_SVMrbf= cross_val_score(SVMrbf, SVMrbf_X_train_standard, SVMrbf_Y_train_standard, scoring='r2', cv=5)\n",
    "Cross_validation_Accuracy_SVMrbf= Cross_validation_SVMrbf.mean().round(2)\n",
    "\n",
    "R2SVMrbf = r2_score(SVMrbf_Y_test_standard, Y_pred_SVMrbf)\n",
    "R2SVMrbf_train = r2_score(SVMrbf_Y_train_standard, Y_pred_SVMrbf_train)\n",
    "\n",
    "print(\"SVMrbf test RMSE: {0} and R2: {1} and MAE: {2}\".format(sqrt(np.mean((SVMrbf_Y_test_standard - Y_pred_SVMrbf)**2)), R2SVMrbf.round(3),mae(SVMrbf_Y_test_standard, Y_pred_SVMrbf).round(3)))\n",
    "print(\"SVMrbf train RMSE: {0} and R2: {1} and MAE: {2}\".format(sqrt(np.mean((SVMrbf_Y_train_standard - Y_pred_SVMrbf_train)**2)), R2SVMrbf_train.round(3),mae(SVMrbf_Y_train_standard, Y_pred_SVMrbf_train).round(3)))\n"
   ]
  },
  {
   "cell_type": "code",
   "execution_count": 31,
   "metadata": {},
   "outputs": [
    {
     "data": {
      "image/png": "[encoded data removed]",
      "text/plain": [
       "<Figure size 720x244.8 with 3 Axes>"
      ]
     },
     "metadata": {
      "needs_background": "light"
     },
     "output_type": "display_data"
    }
   ],
   "source": [
    "meanpointprops = dict(marker='o', markeredgecolor='firebrick',markerfacecolor='firebrick')\n",
    "fig=plt.figure( figsize=(10,3.4))\n",
    "hfont = {'fontname':'Times New Roman'}\n",
    "\n",
    "KernelRidgelinear_CV=np.load('KernelRidgelinear_CV.npy')\n",
    "KernelRidgelinear_R2= np.load('KernelRidgelinear_R2.npy')\n",
    "KernelRidgelinear_R2_train= np.load('KernelRidgelinear_R2_train.npy')\n",
    "\n",
    "SVMlinear_CV=np.load('SVMlinear_CV.npy')\n",
    "SVMlinear_R2= np.load('SVMlinear_R2.npy')\n",
    "SVMlinear_R2_train= np.load('SVMlinear_R2_train.npy')\n",
    "\n",
    "\n",
    "lr_CV=np.load('lr_CV.npy')\n",
    "lr_R2= np.load('lr_R2.npy')\n",
    "lr_R2_train= np.load('lr_R2_train.npy')\n",
    "\n",
    "fig.add_subplot(131)\n",
    "CV=np.column_stack((lr_CV,KernelRidgelinear_CV,SVMlinear_CV))\n",
    "CV_score=pd.DataFrame(CV, columns=['OLS','KRR (Linear)','SVR (Linear)'])\n",
    "axis = CV_score.boxplot(whis=(5,95),showmeans=True,meanprops=meanpointprops)\n",
    "axis.set_ylim([0,1.1]);\n",
    "axis.grid(False)\n",
    "plt.title('Overall CV score',size= 15,**hfont)\n",
    "plt.ylabel('Score',size= 15,**hfont)\n",
    "plt.yticks(np.arange(0, 1.1, 0.2))\n",
    "\n",
    "\n",
    "fig.add_subplot(132)\n",
    "R2=np.column_stack((lr_R2,KernelRidgelinear_R2,SVMlinear_R2))\n",
    "R2_score_test=pd.DataFrame(R2, columns=[ 'OLS','KRR (Linear)','SVR (Linear)'])\n",
    "axis = R2_score_test.boxplot(whis=(5,95),showmeans=True, meanprops=meanpointprops)\n",
    "axis.set_ylim([0,1.1]);\n",
    "axis.grid(False)\n",
    "plt.xlabel('Methods',size= 15,**hfont)\n",
    "plt.title('Overall test sets $R^2$',size= 15,**hfont)\n",
    "plt.yticks(np.arange(0, 1.1, 0.2))\n",
    "\n",
    "fig.add_subplot(133)\n",
    "R2=np.column_stack((lr_R2_train,KernelRidgelinear_R2_train,SVMlinear_R2_train))\n",
    "R2_score=pd.DataFrame(R2, columns=[ 'OLS','KRR (Linear)','SVR (Linear)'])\n",
    "axis = R2_score.boxplot(whis=(5,95),showmeans=True,meanprops=meanpointprops)\n",
    "axis.set_ylim([0,1.1]);\n",
    "axis.grid(False)\n",
    "plt.title('Overall train sets $R^2$',size= 15,**hfont)\n",
    "plt.yticks(np.arange(0, 1.1, 0.2))\n",
    "plt.tight_layout(pad=0.5) \n",
    "\n",
    "plt.savefig('parametric_scores.png' , dpi=500)"
   ]
  },
  {
   "cell_type": "code",
   "execution_count": 36,
   "metadata": {},
   "outputs": [
    {
     "name": "stdout",
     "output_type": "stream",
     "text": [
      "RMSE: 0.05745715176133393 and R2: 0.976 and MAE: 0.042\n",
      "RMSE: 0.041537044588803196 and R2: 0.973 and MAE: 0.035\n"
     ]
    }
   ],
   "source": [
    "Y_pred_MLP=MLP.predict(MLP_X_test_standard)\n",
    "Y_pred_MLP_train=MLP.predict(MLP_X_train_standard)\n",
    "Cross_validation_MLP= cross_val_score(MLP, MLP_X_train_standard, MLP_Y_train_standard, scoring='r2', cv=5)\n",
    "Cross_validation_Accuracy_MLP= Cross_validation_MLP.mean().round(2)\n",
    "\n",
    "R2MLP = r2_score(MLP_Y_test_standard, Y_pred_MLP)\n",
    "R2MLP_train = r2_score(MLP_Y_train_standard, Y_pred_MLP_train)\n",
    "\n",
    "print(\"RMSE: {0} and R2: {1} and MAE: {2}\".format(sqrt(np.mean((MLP_Y_test_standard - Y_pred_MLP)**2)), R2MLP.round(3),mae(MLP_Y_test_standard, Y_pred_MLP).round(3)))\n",
    "print(\"RMSE: {0} and R2: {1} and MAE: {2}\".format(sqrt(np.mean((MLP_Y_train_standard - Y_pred_MLP_train)**2)), R2MLP_train.round(3),mae(MLP_Y_train_standard, Y_pred_MLP_train).round(3)))\n"
   ]
  },
  {
   "cell_type": "code",
   "execution_count": null,
   "metadata": {},
   "outputs": [],
   "source": []
  },
  {
   "cell_type": "code",
   "execution_count": 37,
   "metadata": {},
   "outputs": [
    {
     "name": "stdout",
     "output_type": "stream",
     "text": [
      "RMSE: 0.04969861020003054 and R2: 0.972 and MAE: 0.032\n",
      "RMSE: 0.03860472035846102 and R2: 0.978 and MAE: 0.022\n"
     ]
    }
   ],
   "source": [
    "Y_pred_GRNN=GRNN.predict(GRNN_X_test_standard)\n",
    "Y_pred_GRNN_train=GRNN.predict(GRNN_X_train_standard)\n",
    "\n",
    "Cross_validation_GRNN= cross_val_score(GRNN, GRNN_X_train_standard, GRNN_Y_train_standard, scoring='r2', cv=5)\n",
    "Cross_validation_Accuracy_GRNN= Cross_validation_GRNN.mean().round(2)\n",
    "R2GRNN_train = r2_score(GRNN_Y_train_standard, Y_pred_GRNN_train)\n",
    "    \n",
    "R2GRNN = r2_score(GRNN_Y_test_standard, Y_pred_GRNN)\n",
    "print(\"RMSE: {0} and R2: {1} and MAE: {2}\".format(sqrt(np.mean((GRNN_Y_test_standard - Y_pred_GRNN)**2)), R2GRNN.round(3),mae(GRNN_Y_test_standard, Y_pred_GRNN).round(3)))\n",
    "print(\"RMSE: {0} and R2: {1} and MAE: {2}\".format(sqrt(np.mean((GRNN_Y_train_standard - Y_pred_GRNN_train)**2)), R2GRNN_train.round(3),mae(GRNN_Y_train_standard, Y_pred_GRNN_train).round(3)))\n",
    "\n"
   ]
  },
  {
   "cell_type": "code",
   "execution_count": 38,
   "metadata": {},
   "outputs": [
    {
     "name": "stdout",
     "output_type": "stream",
     "text": [
      "RMSE: 0.18968560394785627 and R2: 0.964 and MAE: 0.151\n",
      "RMSE: 0.021464078992492888 and R2: 1.0 and MAE: 0.015\n"
     ]
    }
   ],
   "source": [
    "Y_pred_Gradboost=Gradboost.predict(GB_fullRun_X_test_standard)\n",
    "Y_pred_Gradboost_train=Gradboost.predict(GB_fullRun_X_train_standard)\n",
    "\n",
    "Cross_validation_Gradboost= cross_val_score(Gradboost, GB_fullRun_X_train_standard, GB_fullRun_Y_train_standard, scoring='r2', cv=5)\n",
    "Cross_validation_Accuracy_Gradboost= Cross_validation_Gradboost.mean().round(2)\n",
    "R2Gradboost_train = r2_score(GB_fullRun_Y_train_standard, Y_pred_Gradboost_train)\n",
    "    \n",
    "\n",
    "R2Gradboost = r2_score(GB_fullRun_Y_test_standard, Y_pred_Gradboost)\n",
    "print(\"RMSE: {0} and R2: {1} and MAE: {2}\".format(sqrt(np.mean((GB_fullRun_Y_test_standard - Y_pred_Gradboost)**2)), R2Gradboost.round(3),mae(GB_fullRun_Y_test_standard, Y_pred_Gradboost).round(3)))\n",
    "print(\"RMSE: {0} and R2: {1} and MAE: {2}\".format(sqrt(np.mean((GB_fullRun_Y_train_standard - Y_pred_Gradboost_train)**2)), R2Gradboost_train.round(3),mae(GB_fullRun_Y_train_standard, Y_pred_Gradboost_train).round(3)))"
   ]
  },
  {
   "cell_type": "code",
   "execution_count": 40,
   "metadata": {},
   "outputs": [],
   "source": [
    "MLP_Y_train_standard_realscale= np.load('MLP_Y_train_standard_realscale.npy')\n",
    "MLP_Y_test_standard_realscale=np.load('MLP_Y_test_standard_realscale.npy')\n",
    "MLP_pred_Y_train_standard_realscale= np.load('MLP_pred_Y_train_standard_realscale.npy')\n",
    "MLP_pred_Y_test_standard_realscale=np.load('MLP_pred_Y_test_standard_realscale.npy')"
   ]
  },
  {
   "cell_type": "code",
   "execution_count": 41,
   "metadata": {},
   "outputs": [],
   "source": [
    "GRNN_Y_train_standard_realscale= np.load('GRNN_Y_train_standard_realscale.npy')\n",
    "GRNN_Y_test_standard_realscale=np.load('GRNN_Y_test_standard_realscale.npy')\n",
    "GRNN_pred_Y_train_standard_realscale= np.load('GRNN_pred_Y_train_standard_realscale.npy')\n",
    "GRNN_pred_Y_test_standard_realscale=np.load('GRNN_pred_Y_test_standard_realscale.npy')"
   ]
  },
  {
   "cell_type": "code",
   "execution_count": 42,
   "metadata": {},
   "outputs": [],
   "source": [
    "GBR_Y_train_standard_realscale= np.load('GBR_Y_train_standard_realscale.npy')\n",
    "GBR_Y_test_standard_realscale=np.load('GBR_Y_test_standard_realscale.npy')\n",
    "GBR_pred_Y_train_standard_realscale= np.load('GBR_pred_Y_train_standard_realscale.npy')\n",
    "GBR_pred_Y_test_standard_realscale=np.load('GBR_pred_Y_test_standard_realscale.npy')"
   ]
  },
  {
   "cell_type": "code",
   "execution_count": 43,
   "metadata": {},
   "outputs": [],
   "source": [
    "SVMrbf_Y_train_standard_realscale= np.load('SVMrbf_Y_train_standard_realscale.npy')\n",
    "SVMrbf_Y_test_standard_realscale=np.load('SVMrbf_Y_test_standard_realscale.npy')\n",
    "SVMrbf_pred_Y_train_standard_realscale= np.load('SVMrbf_pred_Y_train_standard_realscale.npy')\n",
    "SVMrbf_pred_Y_test_standard_realscale=np.load('SVMrbf_pred_Y_test_standard_realscale.npy')"
   ]
  },
  {
   "cell_type": "code",
   "execution_count": null,
   "metadata": {},
   "outputs": [],
   "source": []
  },
  {
   "cell_type": "code",
   "execution_count": 44,
   "metadata": {},
   "outputs": [],
   "source": [
    "SVMlinear_Y_train_standard_realscale= np.load('SVMlinear_Y_train_standard_realscale.npy')\n",
    "SVMlinear_Y_test_standard_realscale=np.load('SVMlinear_Y_test_standard_realscale.npy')\n",
    "SVMlinear_pred_Y_train_standard_realscale= np.load('SVMlinear_pred_Y_train_standard_realscale.npy')\n",
    "SVMlinear_pred_Y_test_standard_realscale=np.load('SVMlinear_pred_Y_test_standard_realscale.npy')"
   ]
  },
  {
   "cell_type": "code",
   "execution_count": 45,
   "metadata": {},
   "outputs": [],
   "source": [
    "KernelRidgelaplacian_Y_train_standard_realscale= np.load('KernelRidgelaplacian_Y_train_standard_realscale.npy')\n",
    "KernelRidgelaplacian_Y_test_standard_realscale=np.load('KernelRidgelaplacian_Y_test_standard_realscale.npy')\n",
    "KernelRidgelaplacian_pred_Y_train_standard_realscale= np.load('KernelRidgelaplacian_pred_Y_train_standard_realscale.npy')\n",
    "KernelRidgelaplacian_pred_Y_test_standard_realscale=np.load('KernelRidgelaplacian_pred_Y_test_standard_realscale.npy')"
   ]
  },
  {
   "cell_type": "code",
   "execution_count": 46,
   "metadata": {},
   "outputs": [],
   "source": [
    "KernelRidgePoly_Y_train_standard_realscale= np.load('KernelRidgePoly_Y_train_standard_realscale.npy')\n",
    "KernelRidgePoly_Y_test_standard_realscale=np.load('KernelRidgePoly_Y_test_standard_realscale.npy')\n",
    "KernelRidgePoly_pred_Y_train_standard_realscale= np.load('KernelRidgePoly_pred_Y_train_standard_realscale.npy')\n",
    "KernelRidgePoly_pred_Y_test_standard_realscale=np.load('KernelRidgePoly_pred_Y_test_standard_realscale.npy')"
   ]
  },
  {
   "cell_type": "code",
   "execution_count": 64,
   "metadata": {},
   "outputs": [
    {
     "name": "stdout",
     "output_type": "stream",
     "text": [
      "KernelRidgePoly test RMSE: 1.661236586595276 and R2: 0.987 and MAE: 1.398\n",
      "KernelRidgePoly train RMSE: 2.1296841931444073 and R2: 0.975 and MAE: 1.475\n",
      "GRNN test RMSE: 2.534629120201557 and R2: 0.972 and MAE: 1.628\n",
      "GRNN train RMSE: 1.9688407382815118 and R2: 0.978 and MAE: 1.117\n",
      "SVMrbf test RMSE: 2.075719967094124 and R2: 0.972 and MAE: 1.591\n",
      "SVMrbf train RMSE: 2.507972047658868 and R2: 0.967 and MAE: 1.428\n"
     ]
    }
   ],
   "source": [
    "\n",
    "R2KernelRidgePoly = r2_score(KernelRidgePoly_Y_test_standard_realscale, KernelRidgePoly_pred_Y_test_standard_realscale)\n",
    "R2KernelRidgePoly_train = r2_score(KernelRidgePoly_Y_train_standard_realscale, KernelRidgePoly_pred_Y_train_standard_realscale)\n",
    "\n",
    "print(\"KernelRidgePoly test RMSE: {0} and R2: {1} and MAE: {2}\".format(sqrt(np.mean((KernelRidgePoly_Y_test_standard_realscale - KernelRidgePoly_pred_Y_test_standard_realscale)**2)), R2KernelRidgePoly.round(3),mae(KernelRidgePoly_Y_test_standard_realscale, KernelRidgePoly_pred_Y_test_standard_realscale).round(3)))\n",
    "print(\"KernelRidgePoly train RMSE: {0} and R2: {1} and MAE: {2}\".format(sqrt(np.mean((KernelRidgePoly_Y_train_standard_realscale - KernelRidgePoly_pred_Y_train_standard_realscale)**2)), R2KernelRidgePoly_train.round(3),mae(KernelRidgePoly_Y_train_standard_realscale, KernelRidgePoly_pred_Y_train_standard_realscale).round(3)))\n",
    "\n",
    "\n",
    "R2GRNN = r2_score(GRNN_Y_test_standard_realscale, GRNN_pred_Y_test_standard_realscale)\n",
    "R2GRNN_train = r2_score(GRNN_Y_train_standard_realscale, GRNN_pred_Y_train_standard_realscale)\n",
    "\n",
    "print(\"GRNN test RMSE: {0} and R2: {1} and MAE: {2}\".format(sqrt(np.mean((GRNN_Y_test_standard_realscale - GRNN_pred_Y_test_standard_realscale)**2)), R2GRNN.round(3),mae(GRNN_Y_test_standard_realscale, GRNN_pred_Y_test_standard_realscale).round(3)))\n",
    "print(\"GRNN train RMSE: {0} and R2: {1} and MAE: {2}\".format(sqrt(np.mean((GRNN_Y_train_standard_realscale - GRNN_pred_Y_train_standard_realscale)**2)), R2GRNN_train.round(3),mae(GRNN_Y_train_standard_realscale, GRNN_pred_Y_train_standard_realscale).round(3)))\n",
    "\n",
    "\n",
    "R2SVMrbf = r2_score(SVMrbf_Y_test_standard_realscale, SVMrbf_pred_Y_test_standard_realscale)\n",
    "R2SVMrbf_train = r2_score(SVMrbf_Y_train_standard_realscale, SVMrbf_pred_Y_train_standard_realscale)\n",
    "\n",
    "print(\"SVMrbf test RMSE: {0} and R2: {1} and MAE: {2}\".format(sqrt(np.mean((SVMrbf_Y_test_standard_realscale - SVMrbf_pred_Y_test_standard_realscale)**2)), R2SVMrbf.round(3),mae(SVMrbf_Y_test_standard_realscale, SVMrbf_pred_Y_test_standard_realscale).round(3)))\n",
    "print(\"SVMrbf train RMSE: {0} and R2: {1} and MAE: {2}\".format(sqrt(np.mean((SVMrbf_Y_train_standard_realscale - SVMrbf_pred_Y_train_standard_realscale)**2)), R2SVMrbf_train.round(3),mae(SVMrbf_Y_train_standard_realscale, SVMrbf_pred_Y_train_standard_realscale).round(3)))\n"
   ]
  },
  {
   "cell_type": "code",
   "execution_count": 65,
   "metadata": {},
   "outputs": [
    {
     "name": "stdout",
     "output_type": "stream",
     "text": [
      "GBR test RMSE: 2.5848497763411986 and R2: 0.964 and MAE: 2.059\n",
      "GBR train RMSE: 0.2924914628648712 and R2: 1.0 and MAE: 0.199\n"
     ]
    }
   ],
   "source": [
    "\n",
    "R2GBR = r2_score(GBR_Y_test_standard_realscale, GBR_pred_Y_test_standard_realscale)\n",
    "R2GBR_train = r2_score(GBR_Y_train_standard_realscale, GBR_pred_Y_train_standard_realscale)\n",
    "\n",
    "print(\"GBR test RMSE: {0} and R2: {1} and MAE: {2}\".format(sqrt(np.mean((GBR_Y_test_standard_realscale - GBR_pred_Y_test_standard_realscale)**2)), R2GBR.round(3),mae(GBR_Y_test_standard_realscale, GBR_pred_Y_test_standard_realscale).round(3)))\n",
    "print(\"GBR train RMSE: {0} and R2: {1} and MAE: {2}\".format(sqrt(np.mean((GBR_Y_train_standard_realscale - GBR_pred_Y_train_standard_realscale)**2)), R2GBR_train.round(3),mae(GBR_Y_train_standard_realscale, GBR_pred_Y_train_standard_realscale).round(3)))\n"
   ]
  },
  {
   "cell_type": "code",
   "execution_count": 66,
   "metadata": {},
   "outputs": [
    {
     "name": "stdout",
     "output_type": "stream",
     "text": [
      "MLP test RMSE: 2.7579432845440284 and R2: 0.976 and MAE: 2.007\n",
      "MLP train RMSE: 1.9937781402625536 and R2: 0.973 and MAE: 1.684\n"
     ]
    }
   ],
   "source": [
    "\n",
    "R2MLP = r2_score(MLP_Y_test_standard_realscale, MLP_pred_Y_test_standard_realscale)\n",
    "R2MLP_train = r2_score(MLP_Y_train_standard_realscale, MLP_pred_Y_train_standard_realscale)\n",
    "\n",
    "print(\"MLP test RMSE: {0} and R2: {1} and MAE: {2}\".format(sqrt(np.mean((MLP_Y_test_standard_realscale - MLP_pred_Y_test_standard_realscale)**2)), R2MLP.round(3),mae(MLP_Y_test_standard_realscale, MLP_pred_Y_test_standard_realscale).round(3)))\n",
    "print(\"MLP train RMSE: {0} and R2: {1} and MAE: {2}\".format(sqrt(np.mean((MLP_Y_train_standard_realscale - MLP_pred_Y_train_standard_realscale)**2)), R2MLP_train.round(3),mae(MLP_Y_train_standard_realscale, MLP_pred_Y_train_standard_realscale).round(3)))\n"
   ]
  },
  {
   "cell_type": "code",
   "execution_count": 54,
   "metadata": {},
   "outputs": [
    {
     "data": {
      "image/png": "[encoded data removed]",
      "text/plain": [
       "<Figure size 648x432 with 5 Axes>"
      ]
     },
     "metadata": {
      "needs_background": "light"
     },
     "output_type": "display_data"
    }
   ],
   "source": [
    "import matplotlib.font_manager as font_manager\n",
    "hfont = {'fontname':'Times New Roman'}\n",
    "\n",
    "x=([0,60])\n",
    "y=([0,60])\n",
    "x1=([0,60])\n",
    "y1=([0,60])\n",
    "fig=plt.figure( figsize=(9,6))\n",
    "\n",
    "font = font_manager.FontProperties(family='Times New Roman')\n",
    "\n",
    "\n",
    "ax=fig.add_subplot(231)\n",
    "plt.scatter(SVMrbf_Y_test_standard_realscale,SVMrbf_pred_Y_test_standard_realscale, color=\"black\",edgecolor=\"black\",marker='o' ,label='Test')\n",
    "plt.scatter(SVMrbf_Y_train_standard_realscale,SVMrbf_pred_Y_train_standard_realscale, color=\"none\",edgecolor=\"red\",marker='o',label='Train' )\n",
    "plt.title('SVR (RBF)',size= 'large',**hfont)\n",
    "\n",
    "plt.plot(x1,y1) \n",
    "\n",
    "#plt.text(0.77, 0.35, '$R^2$ train=%s'%(R2SVMrbf_train.round(2)), horizontalalignment='center',\n",
    " #        verticalalignment='center', transform=ax.transAxes,fontsize=12,**hfont)\n",
    "#plt.text(0.77, 0.25, '$R^2$ test=%s'%(R2SVMrbf.round(2)), horizontalalignment='center', \n",
    " #        verticalalignment='center', transform=ax.transAxes,fontsize=12,**hfont)\n",
    "plt.text(0.77, 0.05, 'RS=5009', horizontalalignment='center', verticalalignment='center', \n",
    "         transform=ax.transAxes,fontsize=12,**hfont)\n",
    "plt.text(0.77, 0.15, 'CV score=%s'%(Cross_validation_Accuracy_SVMrbf.round(2)),\n",
    "         horizontalalignment='center', verticalalignment='center', transform=ax.transAxes,fontsize=12,**hfont)\n",
    "plt.ylabel('Predicted UV Time',size= 'large',**hfont)\n",
    "\n",
    "plt.legend(prop=font)\n",
    "plt.xlabel('Actual UV Time',size= 'large',**hfont)\n",
    "\n",
    "\n",
    "\n",
    "ax=fig.add_subplot(232)\n",
    "plt.scatter(KernelRidgePoly_Y_test_standard_realscale,KernelRidgePoly_pred_Y_test_standard_realscale, color=\"black\",edgecolor=\"black\",marker='o' ,label='Test')\n",
    "plt.scatter(KernelRidgePoly_Y_train_standard_realscale,KernelRidgePoly_pred_Y_train_standard_realscale, color=\"none\",edgecolor=\"red\",marker='o',label='Train' )\n",
    "plt.title('KRR (Poly)',size= 'large',**hfont)\n",
    "plt.plot(x1,y1) \n",
    "\n",
    "#plt.text(0.77, 0.35, '$R^2$ train=%s'%(R2KernelRidgePoly_train.round(2)), horizontalalignment='center',\n",
    " #        verticalalignment='center', transform=ax.transAxes,fontsize=12,**hfont)\n",
    "#plt.text(0.77, 0.25, '$R^2$ test=%s'%(R2KernelRidgePoly.round(2)), horizontalalignment='center', \n",
    " #        verticalalignment='center', transform=ax.transAxes,fontsize=12,**hfont)\n",
    "plt.text(0.77, 0.05, 'RS=5000', horizontalalignment='center', verticalalignment='center', \n",
    "         transform=ax.transAxes,fontsize=12,**hfont)\n",
    "plt.text(0.77, 0.15, 'CV score=%s'%(Cross_validation_Accuracy_KernelRidgePoly.round(2)),\n",
    "         horizontalalignment='center', verticalalignment='center', transform=ax.transAxes,fontsize=12,**hfont)\n",
    "\n",
    "plt.legend(prop=font)\n",
    "plt.xlabel('Actual UV Time',size= 'large',**hfont)\n",
    "\n",
    "\n",
    "#ax=fig.add_subplot(233)\n",
    "#plt.scatter(KernelRidgelaplacian_Y_test_standard_realscale,KernelRidgelaplacian_pred_Y_test_standard_realscale, color=\"black\",edgecolor=\"black\",marker='o' ,label='Test')\n",
    "#plt.scatter(KernelRidgelaplacian_Y_train_standard_realscale,KernelRidgelaplacian_pred_Y_train_standard_realscale, color=\"none\",edgecolor=\"red\",marker='o',label='Train' )\n",
    "#plt.title('KRR (Laplacian)',size= 'large',**hfont)\n",
    "#plt.plot(x1,y1) \n",
    "\n",
    "#plt.text(0.77, 0.35, '$R^2$ train=%s'%(R2KernelRidgelaplacian_train.round(2)), horizontalalignment='center',\n",
    " #        verticalalignment='center', transform=ax.transAxes,fontsize=12,**hfont)\n",
    "#plt.text(0.77, 0.25, '$R^2 $test=%s'%(R2KernelRidgelaplacian.round(2)), horizontalalignment='center', \n",
    " #        verticalalignment='center', transform=ax.transAxes,fontsize=12,**hfont)\n",
    "#plt.text(0.77, 0.05, 'RS=5001', horizontalalignment='center', verticalalignment='center', \n",
    " #        transform=ax.transAxes,fontsize=12,**hfont)\n",
    "#plt.text(0.77, 0.15, 'CV score=%s'%(Cross_validation_Accuracy_KernelRidgelaplacian.round(2)),\n",
    " #        horizontalalignment='center', verticalalignment='center', transform=ax.transAxes,fontsize=12,**hfont)\n",
    "\n",
    "\n",
    "ax=fig.add_subplot(233)\n",
    "plt.scatter(GBR_Y_test_standard_realscale,GBR_pred_Y_test_standard_realscale, color=\"black\",edgecolor=\"black\",marker='o' ,label='Test')\n",
    "plt.scatter(GBR_Y_train_standard_realscale,GBR_pred_Y_train_standard_realscale, color=\"none\",edgecolor=\"red\",marker='o',label='Train' )\n",
    "plt.title('GBR',**hfont)\n",
    "plt.plot(x,y) \n",
    "\n",
    "#plt.text(0.77, 0.35, '$R^2$ train=%s'%(R2Gradboost_train.round(2)), horizontalalignment='center',\n",
    " #        verticalalignment='center', transform=ax.transAxes,fontsize=12,**hfont)\n",
    "#plt.text(0.77, 0.25, '$R^2$ test=%s'%(R2Gradboost.round(2)), horizontalalignment='center', \n",
    " #        verticalalignment='center', transform=ax.transAxes,fontsize=12,**hfont)\n",
    "plt.text(0.77, 0.05, 'RS=5011', horizontalalignment='center', verticalalignment='center', \n",
    "         transform=ax.transAxes,fontsize=12,**hfont)\n",
    "plt.text(0.77, 0.15, 'CV score=%s'%(Cross_validation_Accuracy_Gradboost.round(2)),\n",
    "         horizontalalignment='center', verticalalignment='center', transform=ax.transAxes,fontsize=12,**hfont)\n",
    "plt.xlabel('Actual UV Time',size= 'large',**hfont)\n",
    "\n",
    "plt.legend(prop=font)\n",
    "\n",
    "\n",
    "ax=fig.add_subplot(234)\n",
    "plt.scatter(MLP_Y_test_standard_realscale,MLP_pred_Y_test_standard_realscale, color=\"black\",edgecolor=\"black\",marker='o' ,label='Test')\n",
    "plt.scatter(MLP_Y_train_standard_realscale,MLP_pred_Y_train_standard_realscale, color=\"none\",edgecolor=\"red\",marker='o',label='Train' )\n",
    "x2=([0,60])\n",
    "y2=([0,60])\n",
    "plt.plot(x2,y2) \n",
    "plt.title('MLP',**hfont)\n",
    "#plt.text(0.77, 0.25, '$R^2$ test=%s'%(R2MLP.round(2)), horizontalalignment='center', \n",
    " #       verticalalignment='center', transform=ax.transAxes,fontsize=12,**hfont)\n",
    "plt.text(0.77, 0.05, 'RS=5006', horizontalalignment='center', verticalalignment='center',\n",
    "         transform=ax.transAxes,fontsize=12,**hfont)\n",
    "plt.text(0.77, 0.15, 'CV score=%s'%(Cross_validation_Accuracy_MLP.round(2)), horizontalalignment='center',\n",
    "         verticalalignment='center', transform=ax.transAxes,fontsize=12,**hfont)\n",
    "#plt.text(0.77, 0.35, '$R^2$ train=%s'%(R2MLP_train.round(2)), horizontalalignment='center', \n",
    "#        verticalalignment='center', transform=ax.transAxes,fontsize=12,**hfont)\n",
    "plt.ylabel('Predicted UV Time',size= 'large',**hfont)\n",
    "\n",
    "plt.legend(prop=font)\n",
    "plt.xlabel('Actual UV Time',size= 'large',**hfont)\n",
    "\n",
    "\n",
    "ax=fig.add_subplot(235)\n",
    "plt.scatter(GRNN_Y_test_standard_realscale,GRNN_pred_Y_test_standard_realscale, color=\"black\",edgecolor=\"black\",marker='o' ,label='Test')\n",
    "plt.scatter(GRNN_Y_train_standard_realscale,GRNN_pred_Y_train_standard_realscale, color=\"none\",edgecolor=\"red\",marker='o',label='Train' )\n",
    "x3=([0,60])\n",
    "y3=([0,60.])\n",
    "plt.plot(x3,y3) \n",
    "plt.title('GRNN',**hfont)\n",
    "#plt.text(0.77, 0.25, '$R^2$ test=%s'%(R2GRNN.round(2)), horizontalalignment='center', verticalalignment='center',\n",
    " #        transform=ax.transAxes,fontsize=12,**hfont)\n",
    "plt.text(0.77, 0.05, 'RS=5048', horizontalalignment='center', verticalalignment='center', \n",
    "         transform=ax.transAxes,fontsize=12,**hfont)\n",
    "plt.text(0.77, 0.15, 'CV score=%s'%(Cross_validation_Accuracy_GRNN.round(2)), horizontalalignment='center', \n",
    "         verticalalignment='center', transform=ax.transAxes,fontsize=12,**hfont)\n",
    "#plt.text(0.77, 0.35, '$R^2$ train=%s'%(R2GRNN_train.round(2)), horizontalalignment='center',\n",
    " #        verticalalignment='center', transform=ax.transAxes ,fontsize=12,**hfont)\n",
    "\n",
    "plt.legend(prop=font)\n",
    "plt.xlabel('Actual UV Time',size= 'large',**hfont)\n",
    "plt.tight_layout(pad=0.5) \n",
    "\n",
    "\n",
    "\n",
    "plt.savefig('Evaluation(2,2).png' , dpi=500)"
   ]
  },
  {
   "cell_type": "code",
   "execution_count": 89,
   "metadata": {},
   "outputs": [
    {
     "name": "stdout",
     "output_type": "stream",
     "text": [
      "KernelRidgePoly test RMSE: 2.4444333075353057 and R2: 0.632 and MAE: 2.008\n",
      "GRNN test RMSE: 1.0407315934322952 and R2: 0.933 and MAE: 0.831\n",
      "SVMrbf test RMSE: 4.0930653326128 and R2: -0.031 and MAE: 3.377\n",
      "MLP test RMSE: 1.6083691493948675 and R2: 0.841 and MAE: 1.137\n",
      "GBR test RMSE: 1.9037292892219995 and R2: 0.777 and MAE: 1.387\n"
     ]
    }
   ],
   "source": [
    "\n",
    "file_name_test = 'CA0.5'\n",
    "dataset = pd.read_csv(file_name_test + '.csv', header=0)\n",
    "x2= dataset.ca\n",
    "Y= np.asarray(dataset.uv).reshape(-1, 1)\n",
    "ypredgbr=np.load('actually_gbr.npy')\n",
    "ypredsvm=np.load('actually_svmrbf.npy')\n",
    "ypredmlp=np.load('actually_mlp.npy')\n",
    "ypredgrnn=np.load('actually_grnn.npy')\n",
    "ypredkr=np.load('actually_kr.npy')\n",
    "ypredKernelRidgelaplacian=np.load('actually_krlaplacian.npy')\n",
    "ypredsvm=np.load('actually_svmrbf.npy')\n",
    "ypredKernelRidgePoly=np.load('actually_KrPoly.npy')\n",
    "ypredSVMlinear=np.load('actually_SVMlinear.npy')\n",
    "\n",
    "\n",
    "\n",
    "\n",
    "R2KernelRidgePoly = r2_score(Y, ypredKernelRidgePoly)\n",
    "print(\"KernelRidgePoly test RMSE: {0} and R2: {1} and MAE: {2}\".format(sqrt(np.mean((Y - ypredKernelRidgePoly)**2)), R2KernelRidgePoly.round(3),mae(Y, ypredKernelRidgePoly).round(3)))\n",
    "\n",
    "\n",
    "R2GRNN = r2_score(Y, ypredgrnn)\n",
    "print(\"GRNN test RMSE: {0} and R2: {1} and MAE: {2}\".format(sqrt(np.mean((Y - ypredgrnn)**2)), R2GRNN.round(3),mae(Y, ypredgrnn).round(3)))\n",
    "\n",
    "\n",
    "R2SVMrbf = r2_score(Y, ypredsvm)\n",
    "print(\"SVMrbf test RMSE: {0} and R2: {1} and MAE: {2}\".format(sqrt(np.mean((Y - ypredsvm)**2)), R2SVMrbf.round(3),mae(Y, ypredsvm).round(3)))\n",
    "\n",
    "R2mlp = r2_score(Y, ypredmlp)\n",
    "print(\"MLP test RMSE: {0} and R2: {1} and MAE: {2}\".format(sqrt(np.mean((Y - ypredmlp)**2)), R2mlp.round(3),mae(Y, ypredmlp).round(3)))\n",
    "\n",
    "R2gbr = r2_score(Y, ypredgbr)\n",
    "print(\"GBR test RMSE: {0} and R2: {1} and MAE: {2}\".format(sqrt(np.mean((Y - ypredgbr)**2)), R2gbr.round(3),mae(Y, ypredgbr).round(3)))\n",
    "\n"
   ]
  },
  {
   "cell_type": "code",
   "execution_count": 105,
   "metadata": {},
   "outputs": [
    {
     "data": {
      "image/png": "[encoded data removed]",
      "text/plain": [
       "<Figure size 648x432 with 5 Axes>"
      ]
     },
     "metadata": {
      "needs_background": "light"
     },
     "output_type": "display_data"
    }
   ],
   "source": [
    "import matplotlib.font_manager as font_manager\n",
    "hfont = {'fontname':'Times New Roman'}\n",
    "\n",
    "\n",
    "file_name_test = 'CA0.5'\n",
    "dataset = pd.read_csv(file_name_test + '.csv', header=0)\n",
    "x2= dataset.ca\n",
    "Y= np.asarray(dataset.uv).reshape(-1, 1)\n",
    "ypredgbr=np.load('actually_gbr.npy')\n",
    "ypredsvm=np.load('actually_svmrbf.npy')\n",
    "ypredmlp=np.load('actually_mlp.npy')\n",
    "ypredgrnn=np.load('actually_grnn.npy')\n",
    "ypredkr=np.load('actually_kr.npy')\n",
    "ypredKernelRidgelaplacian=np.load('actually_krlaplacian.npy')\n",
    "ypredsvm=np.load('actually_svmrbf.npy')\n",
    "ypredKernelRidgePoly=np.load('actually_KrPoly.npy')\n",
    "ypredSVMlinear=np.load('actually_SVMlinear.npy')\n",
    "\n",
    "\n",
    "fig=plt.figure( figsize=(9,6))\n",
    "\n",
    "font = font_manager.FontProperties(family='Times New Roman')\n",
    "\n",
    "\n",
    "ax=fig.add_subplot(231)\n",
    "plt.scatter(x2,ypredsvm,color=\"black\",edgecolor=\"black\",marker='+',label='Predicted' )\n",
    "plt.scatter(x2,Y, color=\"none\",edgecolor=\"red\",marker='o',label='Actuall' )\n",
    "plt.title('SVR (RBF)',**hfont)\n",
    "\n",
    "#plt.text(0.05, 0.05, 'RMSE = 4.01', horizontalalignment='left', \n",
    "#         verticalalignment='center', transform=ax.transAxes,fontsize=12,**hfont)\n",
    "#plt.text(0.05, 0.15, 'MAE = 3.38', horizontalalignment='left', \n",
    "#         verticalalignment='center', transform=ax.transAxes,fontsize=12,**hfont)\n",
    "#plt.text(0.05, 0.25, '$R^2$ = -0.03', horizontalalignment='left', \n",
    " #        verticalalignment='center', transform=ax.transAxes,fontsize=12,**hfont)\n",
    "\n",
    "plt.ylabel('UV Exposure Time (min)',size= 'large',**hfont)\n",
    "\n",
    "plt.legend(prop=font)\n",
    "plt.xlabel('Contact Angle ',size= 'large',**hfont)\n",
    "\n",
    "plt.yticks(np.arange(0,15,2), fontsize=10)\n",
    "\n",
    "ax=fig.add_subplot(232)\n",
    "plt.scatter(x2,ypredKernelRidgePoly, color=\"black\",edgecolor=\"black\",marker='+' ,label='Predicted')\n",
    "plt.scatter(x2,Y, color=\"none\",edgecolor=\"red\",marker='o' ,label='Actuall')\n",
    "plt.title('KernelRidgePoly',**hfont)\n",
    "\n",
    "#plt.text(0.60, 0.48, 'RMSE = 2.44', horizontalalignment='left', \n",
    "#         verticalalignment='center', transform=ax.transAxes,fontsize=12,**hfont)\n",
    "#plt.text(0.60, 0.58, 'MAE = 2.00', horizontalalignment='left', \n",
    "#         verticalalignment='center', transform=ax.transAxes,fontsize=12,**hfont)\n",
    "#plt.text(0.60, 0.68, '$R^2$ = 0.63', horizontalalignment='left', \n",
    " #        verticalalignment='center', transform=ax.transAxes,fontsize=12,**hfont)\n",
    "\n",
    "plt.legend(prop=font)\n",
    "plt.xlabel('Contact Angle ',size= 'large',**hfont)\n",
    "\n",
    "plt.yticks(np.arange(0,15,2), fontsize=10)\n",
    "\n",
    "\n",
    "ax=fig.add_subplot(233)\n",
    "plt.scatter(x2,ypredgbr, color=\"black\",edgecolor=\"black\",marker='+' ,label='Predicted')\n",
    "plt.scatter(x2,Y, color=\"none\",edgecolor=\"red\",marker='o',label='Actual' )\n",
    "plt.title('GBR',**hfont)\n",
    "\n",
    "#plt.text(0.2, 0.05, '$R^2 = 0.94$', horizontalalignment='center', verticalalignment='center', \n",
    "#         transform=ax.transAxes,fontsize=10,**hfont)\n",
    "plt.xlabel('Contact Angle ',size= 'large',**hfont)\n",
    "\n",
    "\n",
    "plt.legend(prop=font)\n",
    "\n",
    "\n",
    "plt.yticks(np.arange(0,15,2), fontsize=10)\n",
    "\n",
    "ax=fig.add_subplot(234)\n",
    "plt.scatter(x2,ypredmlp, color=\"black\",edgecolor=\"black\",marker='+' ,label='Predicted')\n",
    "plt.scatter(x2,Y, color=\"none\",edgecolor=\"red\",marker='o' ,label='Actual')\n",
    "plt.title('MLP',**hfont)\n",
    "plt.ylabel('UV Exposure Time (min)',size= 'large',**hfont)\n",
    "\n",
    "#plt.text(0.2, 0.05, '$R^2 = 0.84$', horizontalalignment='center', verticalalignment='center',\n",
    " #        transform=ax.transAxes,fontsize=10,**hfont)\n",
    "\n",
    "plt.legend(prop=font)\n",
    "plt.xlabel('Contact Angle ',size= 'large',**hfont)\n",
    "\n",
    "plt.yticks(np.arange(0,15,2), fontsize=10)\n",
    "\n",
    "ax=fig.add_subplot(235)\n",
    "plt.scatter(x2,ypredgrnn, color=\"black\",edgecolor=\"black\",marker='+',label='Predicted' )\n",
    "plt.scatter(x2,Y, color=\"none\",edgecolor=\"red\",marker='o' ,label='Actual')\n",
    "plt.title('GRNN',**hfont)\n",
    "#plt.text(0.2, 0.05, '$R^2 = 0.93$', horizontalalignment='center', verticalalignment='center',\n",
    " #        transform=ax.transAxes,fontsize=10,**hfont)\n",
    "\n",
    "plt.legend(prop=font)\n",
    "plt.xlabel('Contact Angle ',size= 'large',**hfont)\n",
    "plt.tight_layout(pad=0.5) \n",
    "plt.yticks(np.arange(0,15,2), fontsize=10)\n",
    "\n",
    "\n",
    "plt.savefig('EvaluationTest.png' , dpi=500, facecolor='w', edgecolor='w',\n",
    "        orientation='portrait', format=None,\n",
    "        transparent=False, bbox_inches=None, pad_inches=0.1, metadata=None)"
   ]
  },
  {
   "cell_type": "code",
   "execution_count": 68,
   "metadata": {},
   "outputs": [
    {
     "data": {
      "image/png": "[encoded data removed]",
      "text/plain": [
       "<Figure size 360x648 with 3 Axes>"
      ]
     },
     "metadata": {
      "needs_background": "light"
     },
     "output_type": "display_data"
    }
   ],
   "source": [
    "meanpointprops = dict(marker='o', markeredgecolor='firebrick',\n",
    "                      markerfacecolor='firebrick')\n",
    "hfont = {'fontname':'Times New Roman'}\n",
    "\n",
    "fig=plt.figure( figsize=(5,9))\n",
    "\n",
    "\n",
    "KernelRidgelaplacian_CV=np.load('KernelRidgelaplacian_CV.npy')\n",
    "KernelRidgelaplacian_R2= np.load('KernelRidgelaplacian_R2.npy')\n",
    "KernelRidgelaplacian_R2_train= np.load('KernelRidgelaplacian_R2_train.npy')\n",
    "\n",
    "SVMlinear_CV=np.load('SVMlinear_CV.npy')\n",
    "SVMlinear_R2= np.load('SVMlinear_R2.npy')\n",
    "SVMlinear_R2_train= np.load('SVMlinear_R2_train.npy')\n",
    "\n",
    "SVMrbf_CV=np.load('SVMrbf_CV.npy')\n",
    "SVMrbf_R2= np.load('SVMrbf_R2.npy')\n",
    "SVMrbf_R2_train= np.load('SVMrbf_R2_train.npy')\n",
    "\n",
    "KernelRidgePoly_CV=np.load('KernelRidgePoly_CV.npy')\n",
    "KernelRidgePoly_R2= np.load('KernelRidgePoly_R2.npy')\n",
    "KernelRidgePoly_R2_train= np.load('KernelRidgePoly_R2_train.npy')\n",
    "\n",
    "GB_CV=np.load('GB_CV.npy')\n",
    "GB_R2= np.load('GB_R2.npy')\n",
    "GB_R2_train= np.load('GB_R2_train.npy')\n",
    "\n",
    "\n",
    "MLP_CV=np.load('MLP_CV.npy')\n",
    "MLP_R2= np.load('MLP_R2.npy')\n",
    "MLP_R2_train= np.load('MLP_R2_train.npy')\n",
    "\n",
    "GRNN_CV=np.load('GRNN_CV.npy')\n",
    "GRNN_R2= np.load('GRNN_R2.npy')\n",
    "GRNN_R2_train= np.load('GRNN_R2_train.npy')\n",
    "\n",
    "\n",
    "fig.add_subplot(311)\n",
    "CV=np.column_stack((SVMrbf_CV,KernelRidgePoly_CV,GB_CV,MLP_CV,GRNN_CV))\n",
    "CV_score=pd.DataFrame(CV, columns=['SVR (RBF)', 'KRR (P)', 'GBR','MLP','GRNN'])\n",
    "axis = CV_score.boxplot(whis=(5,95),showmeans=True,meanprops=meanpointprops)\n",
    "axis.set_ylim([0,1.1]);\n",
    "axis.grid(False)\n",
    "\n",
    "plt.title('Overall CV score',**hfont)\n",
    "plt.ylabel('Score',**hfont, fontsize=15)\n",
    "plt.yticks(np.arange(0, 1.1, 0.2))\n",
    "\n",
    "\n",
    "fig.add_subplot(312)\n",
    "R2=np.column_stack((SVMrbf_R2,KernelRidgePoly_R2,GB_R2,MLP_R2,GRNN_R2))\n",
    "R2_score_test=pd.DataFrame(R2, columns=['SVR (RBF)', 'KRR (P)', 'GBR','MLP','GRNN'])\n",
    "axis = R2_score_test.boxplot(whis=(5,95),showmeans=True,meanprops=meanpointprops)\n",
    "axis.set_ylim([0,1.1]);\n",
    "axis.grid(False)\n",
    "plt.title('Overall test sets $R^2$ ',**hfont)\n",
    "plt.yticks(np.arange(0, 1.1, 0.2))\n",
    "plt.ylabel('Score',**hfont, fontsize=15)\n",
    "\n",
    "fig.add_subplot(313)\n",
    "R2=np.column_stack((SVMrbf_R2_train,KernelRidgePoly_R2_train,GB_R2_train,MLP_R2_train,GRNN_R2_train))\n",
    "R2_score=pd.DataFrame(R2, columns=[ 'SVR (RBF)', 'KRR (P)', 'GBR','MLP','GRNN'])\n",
    "axis = R2_score.boxplot(whis=(5,95),showmeans=True,meanprops=meanpointprops)\n",
    "axis.set_ylim([0,1.1]);\n",
    "axis.grid(False)\n",
    "plt.title('Overall train sets $R^2$',**hfont)\n",
    "plt.yticks(np.arange(0, 1.1, 0.2))\n",
    "plt.ylabel('Score',**hfont, fontsize=15)\n",
    "plt.xlabel('Methods',**hfont,  fontsize='large')\n",
    "\n",
    "plt.tight_layout(pad=0.5) \n",
    "\n",
    "plt.savefig('scores(2,2).png' , dpi=500)"
   ]
  },
  {
   "cell_type": "code",
   "execution_count": 84,
   "metadata": {},
   "outputs": [
    {
     "name": "stdout",
     "output_type": "stream",
     "text": [
      " GRNN test five 0.97 nintyfive 0.99 mean 0.9802470299209503 deviation 0.02\n"
     ]
    }
   ],
   "source": [
    "five=np.percentile(R2_score.GRNN, 5).round(2)\n",
    "nintyfive=np.percentile(R2_score.GRNN, 95).round(2)\n",
    "mean=np.mean(R2_score.GRNN)\n",
    "deviation=nintyfive- five\n",
    "print(\" GRNN test five {0} nintyfive {1} mean {2} deviation {3}\".format(five,nintyfive,mean,deviation.round(2)))"
   ]
  },
  {
   "cell_type": "code",
   "execution_count": 85,
   "metadata": {},
   "outputs": [
    {
     "name": "stdout",
     "output_type": "stream",
     "text": [
      " GBR test five 0.98 nintyfive 1.0 mean 0.9934705882352941 deviation 0.02\n"
     ]
    }
   ],
   "source": [
    "five=np.percentile(R2_score.GBR, 5).round(2)\n",
    "nintyfive=np.percentile(R2_score.GBR, 95).round(2)\n",
    "mean=np.mean(R2_score.GBR)\n",
    "deviation=nintyfive- five\n",
    "print(\" GBR test five {0} nintyfive {1} mean {2} deviation {3}\".format(five,nintyfive,mean,deviation.round(2)))"
   ]
  },
  {
   "cell_type": "code",
   "execution_count": 86,
   "metadata": {},
   "outputs": [
    {
     "name": "stdout",
     "output_type": "stream",
     "text": [
      " MLP test five 0.94 nintyfive 0.98 mean 0.9611529411764709 deviation 0.04\n"
     ]
    }
   ],
   "source": [
    "five=np.percentile(R2_score.MLP, 5).round(2)\n",
    "nintyfive=np.percentile(R2_score.MLP, 95).round(2)\n",
    "mean=np.mean(R2_score.MLP)\n",
    "deviation=nintyfive- five\n",
    "print(\" MLP test five {0} nintyfive {1} mean {2} deviation {3}\".format(five,nintyfive,mean,deviation.round(2)))"
   ]
  },
  {
   "cell_type": "code",
   "execution_count": 87,
   "metadata": {},
   "outputs": [
    {
     "name": "stdout",
     "output_type": "stream",
     "text": [
      " SVR (RBF) test five 0.95 nintyfive 0.98 mean 0.9621450980392156 deviation 0.03\n"
     ]
    }
   ],
   "source": [
    "five=np.percentile(R2_score['SVR (RBF)'], 5).round(2)\n",
    "nintyfive=np.percentile(R2_score['SVR (RBF)'], 95).round(2)\n",
    "mean=np.mean(R2_score['SVR (RBF)'])\n",
    "deviation=nintyfive- five\n",
    "print(\" SVR (RBF) test five {0} nintyfive {1} mean {2} deviation {3}\".format(five,nintyfive,mean,deviation.round(2)))"
   ]
  },
  {
   "cell_type": "code",
   "execution_count": 88,
   "metadata": {},
   "outputs": [
    {
     "name": "stdout",
     "output_type": "stream",
     "text": [
      " KRR (P) test five 0.97 nintyfive 0.99 mean 0.9780843137254901 deviation 0.02\n"
     ]
    }
   ],
   "source": [
    "five=np.percentile(R2_score['KRR (P)'], 5).round(2)\n",
    "nintyfive=np.percentile(R2_score['KRR (P)'], 95).round(2)\n",
    "mean=np.mean(R2_score['KRR (P)'])\n",
    "deviation=nintyfive- five\n",
    "print(\" KRR (P) test five {0} nintyfive {1} mean {2} deviation {3}\".format(five,nintyfive,mean,deviation.round(2)))"
   ]
  },
  {
   "cell_type": "code",
   "execution_count": null,
   "metadata": {},
   "outputs": [],
   "source": []
  }
 ],
 "metadata": {
  "kernelspec": {
   "display_name": "Python 3",
   "language": "python",
   "name": "python3"
  },
  "language_info": {
   "codemirror_mode": {
    "name": "ipython",
    "version": 3
   },
   "file_extension": ".py",
   "mimetype": "text/x-python",
   "name": "python",
   "nbconvert_exporter": "python",
   "pygments_lexer": "ipython3",
   "version": "3.8.5"
  }
 },
 "nbformat": 4,
 "nbformat_minor": 4
}
