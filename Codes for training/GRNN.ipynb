{
 "cells": [
  {
   "cell_type": "code",
   "execution_count": 2,
   "metadata": {},
   "outputs": [],
   "source": [
    "#!pip install pyGRNN\n"
   ]
  },
  {
   "cell_type": "code",
   "execution_count": 7,
   "metadata": {},
   "outputs": [],
   "source": [
    "#from neupy.algorithms import GRNN\n"
   ]
  },
  {
   "cell_type": "code",
   "execution_count": 3,
   "metadata": {},
   "outputs": [
    {
     "name": "stdout",
     "output_type": "stream",
     "text": [
      "Fitting 5 folds for each of 5 candidates, totalling 25 fits\n",
      "Fitting 5 folds for each of 5 candidates, totalling 25 fits\n",
      "Fitting 5 folds for each of 5 candidates, totalling 25 fits\n"
     ]
    },
    {
     "name": "stderr",
     "output_type": "stream",
     "text": [
      "[Parallel(n_jobs=1)]: Using backend SequentialBackend with 1 concurrent workers.\n",
      "[Parallel(n_jobs=1)]: Done  25 out of  25 | elapsed:    0.0s finished\n",
      "[Parallel(n_jobs=1)]: Using backend SequentialBackend with 1 concurrent workers.\n",
      "[Parallel(n_jobs=1)]: Done  25 out of  25 | elapsed:    0.0s finished\n",
      "[Parallel(n_jobs=1)]: Using backend SequentialBackend with 1 concurrent workers.\n",
      "[Parallel(n_jobs=1)]: Done  25 out of  25 | elapsed:    0.0s finished\n"
     ]
    },
    {
     "name": "stdout",
     "output_type": "stream",
     "text": [
      "Fitting 5 folds for each of 5 candidates, totalling 25 fits\n",
      "Fitting 5 folds for each of 5 candidates, totalling 25 fits\n",
      "Fitting 5 folds for each of 5 candidates, totalling 25 fits\n",
      "Fitting 5 folds for each of 5 candidates, totalling 25 fits\n"
     ]
    },
    {
     "name": "stderr",
     "output_type": "stream",
     "text": [
      "[Parallel(n_jobs=1)]: Using backend SequentialBackend with 1 concurrent workers.\n",
      "[Parallel(n_jobs=1)]: Done  25 out of  25 | elapsed:    0.0s finished\n",
      "[Parallel(n_jobs=1)]: Using backend SequentialBackend with 1 concurrent workers.\n",
      "[Parallel(n_jobs=1)]: Done  25 out of  25 | elapsed:    0.0s finished\n",
      "[Parallel(n_jobs=1)]: Using backend SequentialBackend with 1 concurrent workers.\n",
      "[Parallel(n_jobs=1)]: Done  25 out of  25 | elapsed:    0.0s finished\n",
      "[Parallel(n_jobs=1)]: Using backend SequentialBackend with 1 concurrent workers.\n",
      "[Parallel(n_jobs=1)]: Done  25 out of  25 | elapsed:    0.0s finished\n",
      "[Parallel(n_jobs=1)]: Using backend SequentialBackend with 1 concurrent workers.\n",
      "[Parallel(n_jobs=1)]: Done  25 out of  25 | elapsed:    0.0s finished\n",
      "[Parallel(n_jobs=1)]: Using backend SequentialBackend with 1 concurrent workers.\n",
      "[Parallel(n_jobs=1)]: Done  25 out of  25 | elapsed:    0.0s finished\n",
      "[Parallel(n_jobs=1)]: Using backend SequentialBackend with 1 concurrent workers.\n",
      "[Parallel(n_jobs=1)]: Done  25 out of  25 | elapsed:    0.0s finished\n"
     ]
    },
    {
     "name": "stdout",
     "output_type": "stream",
     "text": [
      "Fitting 5 folds for each of 5 candidates, totalling 25 fits\n",
      "Fitting 5 folds for each of 5 candidates, totalling 25 fits\n",
      "Fitting 5 folds for each of 5 candidates, totalling 25 fits\n",
      "Fitting 5 folds for each of 5 candidates, totalling 25 fits\n",
      "Fitting 5 folds for each of 5 candidates, totalling 25 fits\n",
      "Fitting 5 folds for each of 5 candidates, totalling 25 fits\n"
     ]
    },
    {
     "name": "stderr",
     "output_type": "stream",
     "text": [
      "[Parallel(n_jobs=1)]: Using backend SequentialBackend with 1 concurrent workers.\n",
      "[Parallel(n_jobs=1)]: Done  25 out of  25 | elapsed:    0.0s finished\n",
      "[Parallel(n_jobs=1)]: Using backend SequentialBackend with 1 concurrent workers.\n",
      "[Parallel(n_jobs=1)]: Done  25 out of  25 | elapsed:    0.0s finished\n",
      "[Parallel(n_jobs=1)]: Using backend SequentialBackend with 1 concurrent workers.\n",
      "[Parallel(n_jobs=1)]: Done  25 out of  25 | elapsed:    0.0s finished\n"
     ]
    },
    {
     "name": "stdout",
     "output_type": "stream",
     "text": [
      "Fitting 5 folds for each of 5 candidates, totalling 25 fits\n",
      "Fitting 5 folds for each of 5 candidates, totalling 25 fits\n",
      "Fitting 5 folds for each of 5 candidates, totalling 25 fits\n"
     ]
    },
    {
     "name": "stderr",
     "output_type": "stream",
     "text": [
      "[Parallel(n_jobs=1)]: Using backend SequentialBackend with 1 concurrent workers.\n",
      "[Parallel(n_jobs=1)]: Done  25 out of  25 | elapsed:    0.0s finished\n",
      "[Parallel(n_jobs=1)]: Using backend SequentialBackend with 1 concurrent workers.\n",
      "[Parallel(n_jobs=1)]: Done  25 out of  25 | elapsed:    0.0s finished\n",
      "[Parallel(n_jobs=1)]: Using backend SequentialBackend with 1 concurrent workers.\n",
      "[Parallel(n_jobs=1)]: Done  25 out of  25 | elapsed:    0.0s finished\n"
     ]
    },
    {
     "name": "stdout",
     "output_type": "stream",
     "text": [
      "Fitting 5 folds for each of 5 candidates, totalling 25 fits\n",
      "Fitting 5 folds for each of 5 candidates, totalling 25 fits\n",
      "Fitting 5 folds for each of 5 candidates, totalling 25 fits\n"
     ]
    },
    {
     "name": "stderr",
     "output_type": "stream",
     "text": [
      "[Parallel(n_jobs=1)]: Using backend SequentialBackend with 1 concurrent workers.\n",
      "[Parallel(n_jobs=1)]: Done  25 out of  25 | elapsed:    0.0s finished\n",
      "[Parallel(n_jobs=1)]: Using backend SequentialBackend with 1 concurrent workers.\n",
      "[Parallel(n_jobs=1)]: Done  25 out of  25 | elapsed:    0.0s finished\n",
      "[Parallel(n_jobs=1)]: Using backend SequentialBackend with 1 concurrent workers.\n",
      "[Parallel(n_jobs=1)]: Done  25 out of  25 | elapsed:    0.0s finished\n"
     ]
    },
    {
     "name": "stdout",
     "output_type": "stream",
     "text": [
      "Fitting 5 folds for each of 5 candidates, totalling 25 fits\n",
      "Fitting 5 folds for each of 5 candidates, totalling 25 fits\n",
      "Fitting 5 folds for each of 5 candidates, totalling 25 fits\n"
     ]
    },
    {
     "name": "stderr",
     "output_type": "stream",
     "text": [
      "[Parallel(n_jobs=1)]: Using backend SequentialBackend with 1 concurrent workers.\n",
      "[Parallel(n_jobs=1)]: Done  25 out of  25 | elapsed:    0.0s finished\n",
      "[Parallel(n_jobs=1)]: Using backend SequentialBackend with 1 concurrent workers.\n",
      "[Parallel(n_jobs=1)]: Done  25 out of  25 | elapsed:    0.0s finished\n",
      "[Parallel(n_jobs=1)]: Using backend SequentialBackend with 1 concurrent workers.\n",
      "[Parallel(n_jobs=1)]: Done  25 out of  25 | elapsed:    0.0s finished\n"
     ]
    },
    {
     "name": "stdout",
     "output_type": "stream",
     "text": [
      "Fitting 5 folds for each of 5 candidates, totalling 25 fits\n",
      "Fitting 5 folds for each of 5 candidates, totalling 25 fits\n",
      "Fitting 5 folds for each of 5 candidates, totalling 25 fits\n",
      "Fitting 5 folds for each of 5 candidates, totalling 25 fits"
     ]
    },
    {
     "name": "stderr",
     "output_type": "stream",
     "text": [
      "[Parallel(n_jobs=1)]: Using backend SequentialBackend with 1 concurrent workers.\n",
      "[Parallel(n_jobs=1)]: Done  25 out of  25 | elapsed:    0.0s finished\n",
      "[Parallel(n_jobs=1)]: Using backend SequentialBackend with 1 concurrent workers.\n",
      "[Parallel(n_jobs=1)]: Done  25 out of  25 | elapsed:    0.0s finished\n",
      "[Parallel(n_jobs=1)]: Using backend SequentialBackend with 1 concurrent workers.\n",
      "[Parallel(n_jobs=1)]: Done  25 out of  25 | elapsed:    0.0s finished\n"
     ]
    },
    {
     "name": "stdout",
     "output_type": "stream",
     "text": [
      "\n",
      "Fitting 5 folds for each of 5 candidates, totalling 25 fits\n",
      "Fitting 5 folds for each of 5 candidates, totalling 25 fits\n",
      "Fitting 5 folds for each of 5 candidates, totalling 25 fits\n"
     ]
    },
    {
     "name": "stderr",
     "output_type": "stream",
     "text": [
      "[Parallel(n_jobs=1)]: Using backend SequentialBackend with 1 concurrent workers.\n",
      "[Parallel(n_jobs=1)]: Done  25 out of  25 | elapsed:    0.0s finished\n",
      "[Parallel(n_jobs=1)]: Using backend SequentialBackend with 1 concurrent workers.\n",
      "[Parallel(n_jobs=1)]: Done  25 out of  25 | elapsed:    0.0s finished\n",
      "[Parallel(n_jobs=1)]: Using backend SequentialBackend with 1 concurrent workers.\n",
      "[Parallel(n_jobs=1)]: Done  25 out of  25 | elapsed:    0.0s finished\n",
      "[Parallel(n_jobs=1)]: Using backend SequentialBackend with 1 concurrent workers.\n",
      "[Parallel(n_jobs=1)]: Done  25 out of  25 | elapsed:    0.0s finished\n",
      "[Parallel(n_jobs=1)]: Using backend SequentialBackend with 1 concurrent workers.\n",
      "[Parallel(n_jobs=1)]: Done  25 out of  25 | elapsed:    0.0s finished\n",
      "[Parallel(n_jobs=1)]: Using backend SequentialBackend with 1 concurrent workers.\n",
      "[Parallel(n_jobs=1)]: Done  25 out of  25 | elapsed:    0.0s finished\n",
      "[Parallel(n_jobs=1)]: Using backend SequentialBackend with 1 concurrent workers.\n",
      "[Parallel(n_jobs=1)]: Done  25 out of  25 | elapsed:    0.0s finished\n"
     ]
    },
    {
     "name": "stdout",
     "output_type": "stream",
     "text": [
      "Fitting 5 folds for each of 5 candidates, totalling 25 fits\n",
      "Fitting 5 folds for each of 5 candidates, totalling 25 fits\n",
      "Fitting 5 folds for each of 5 candidates, totalling 25 fits\n",
      "Fitting 5 folds for each of 5 candidates, totalling 25 fits\n"
     ]
    },
    {
     "name": "stderr",
     "output_type": "stream",
     "text": [
      "[Parallel(n_jobs=1)]: Using backend SequentialBackend with 1 concurrent workers.\n",
      "[Parallel(n_jobs=1)]: Done  25 out of  25 | elapsed:    0.0s finished\n",
      "[Parallel(n_jobs=1)]: Using backend SequentialBackend with 1 concurrent workers.\n",
      "[Parallel(n_jobs=1)]: Done  25 out of  25 | elapsed:    0.0s finished\n",
      "[Parallel(n_jobs=1)]: Using backend SequentialBackend with 1 concurrent workers.\n",
      "[Parallel(n_jobs=1)]: Done  25 out of  25 | elapsed:    0.0s finished\n"
     ]
    },
    {
     "name": "stdout",
     "output_type": "stream",
     "text": [
      "Fitting 5 folds for each of 5 candidates, totalling 25 fits\n",
      "Fitting 5 folds for each of 5 candidates, totalling 25 fits\n",
      "Fitting 5 folds for each of 5 candidates, totalling 25 fits\n",
      "Fitting 5 folds for each of 5 candidates, totalling 25 fits\n"
     ]
    },
    {
     "name": "stderr",
     "output_type": "stream",
     "text": [
      "[Parallel(n_jobs=1)]: Using backend SequentialBackend with 1 concurrent workers.\n",
      "[Parallel(n_jobs=1)]: Done  25 out of  25 | elapsed:    0.0s finished\n",
      "[Parallel(n_jobs=1)]: Using backend SequentialBackend with 1 concurrent workers.\n",
      "[Parallel(n_jobs=1)]: Done  25 out of  25 | elapsed:    0.0s finished\n",
      "[Parallel(n_jobs=1)]: Using backend SequentialBackend with 1 concurrent workers.\n",
      "[Parallel(n_jobs=1)]: Done  25 out of  25 | elapsed:    0.0s finished\n"
     ]
    },
    {
     "name": "stdout",
     "output_type": "stream",
     "text": [
      "Fitting 5 folds for each of 5 candidates, totalling 25 fits\n",
      "Fitting 5 folds for each of 5 candidates, totalling 25 fits\n",
      "Fitting 5 folds for each of 5 candidates, totalling 25 fits\n"
     ]
    },
    {
     "name": "stderr",
     "output_type": "stream",
     "text": [
      "[Parallel(n_jobs=1)]: Using backend SequentialBackend with 1 concurrent workers.\n",
      "[Parallel(n_jobs=1)]: Done  25 out of  25 | elapsed:    0.0s finished\n",
      "[Parallel(n_jobs=1)]: Using backend SequentialBackend with 1 concurrent workers.\n",
      "[Parallel(n_jobs=1)]: Done  25 out of  25 | elapsed:    0.0s finished\n",
      "[Parallel(n_jobs=1)]: Using backend SequentialBackend with 1 concurrent workers.\n",
      "[Parallel(n_jobs=1)]: Done  25 out of  25 | elapsed:    0.0s finished\n",
      "[Parallel(n_jobs=1)]: Using backend SequentialBackend with 1 concurrent workers.\n"
     ]
    },
    {
     "name": "stdout",
     "output_type": "stream",
     "text": [
      "Fitting 5 folds for each of 5 candidates, totalling 25 fits\n",
      "Fitting 5 folds for each of 5 candidates, totalling 25 fits\n",
      "Fitting 5 folds for each of 5 candidates, totalling 25 fits\n"
     ]
    },
    {
     "name": "stderr",
     "output_type": "stream",
     "text": [
      "[Parallel(n_jobs=1)]: Done  25 out of  25 | elapsed:    0.0s finished\n",
      "[Parallel(n_jobs=1)]: Using backend SequentialBackend with 1 concurrent workers.\n",
      "[Parallel(n_jobs=1)]: Done  25 out of  25 | elapsed:    0.0s finished\n",
      "[Parallel(n_jobs=1)]: Using backend SequentialBackend with 1 concurrent workers.\n",
      "[Parallel(n_jobs=1)]: Done  25 out of  25 | elapsed:    0.0s finished\n",
      "[Parallel(n_jobs=1)]: Using backend SequentialBackend with 1 concurrent workers.\n",
      "[Parallel(n_jobs=1)]: Done  25 out of  25 | elapsed:    0.0s finished\n"
     ]
    },
    {
     "name": "stdout",
     "output_type": "stream",
     "text": [
      "Fitting 5 folds for each of 5 candidates, totalling 25 fits\n",
      "Fitting 5 folds for each of 5 candidates, totalling 25 fits\n",
      "Fitting 5 folds for each of 5 candidates, totalling 25 fits\n",
      "Fitting 5 folds for each of 5 candidates, totalling 25 fits\n"
     ]
    },
    {
     "name": "stderr",
     "output_type": "stream",
     "text": [
      "[Parallel(n_jobs=1)]: Using backend SequentialBackend with 1 concurrent workers.\n",
      "[Parallel(n_jobs=1)]: Done  25 out of  25 | elapsed:    0.0s finished\n",
      "[Parallel(n_jobs=1)]: Using backend SequentialBackend with 1 concurrent workers.\n",
      "[Parallel(n_jobs=1)]: Done  25 out of  25 | elapsed:    0.0s finished\n",
      "[Parallel(n_jobs=1)]: Using backend SequentialBackend with 1 concurrent workers.\n",
      "[Parallel(n_jobs=1)]: Done  25 out of  25 | elapsed:    0.0s finished\n"
     ]
    },
    {
     "name": "stdout",
     "output_type": "stream",
     "text": [
      "Fitting 5 folds for each of 5 candidates, totalling 25 fits\n",
      "Fitting 5 folds for each of 5 candidates, totalling 25 fits\n",
      "Fitting 5 folds for each of 5 candidates, totalling 25 fits\n"
     ]
    },
    {
     "name": "stderr",
     "output_type": "stream",
     "text": [
      "[Parallel(n_jobs=1)]: Using backend SequentialBackend with 1 concurrent workers.\n",
      "[Parallel(n_jobs=1)]: Done  25 out of  25 | elapsed:    0.0s finished\n",
      "[Parallel(n_jobs=1)]: Using backend SequentialBackend with 1 concurrent workers.\n",
      "[Parallel(n_jobs=1)]: Done  25 out of  25 | elapsed:    0.0s finished\n",
      "[Parallel(n_jobs=1)]: Using backend SequentialBackend with 1 concurrent workers.\n",
      "[Parallel(n_jobs=1)]: Done  25 out of  25 | elapsed:    0.0s finished\n"
     ]
    },
    {
     "name": "stdout",
     "output_type": "stream",
     "text": [
      "Fitting 5 folds for each of 5 candidates, totalling 25 fits\n",
      "mean CV 0.8970588235294118\n",
      "mean R2 0.9431940878657675\n",
      "mean R2_train 0.9802470299209503\n",
      "Test Score 0.9333463231035001\n",
      "Test 0.5 Score 0.9333463231035001\n",
      "test r2 = 0.9716191831220544\n",
      "test RMSE: 2.534629120201557 and MAE: 1.628\n",
      "train r2 = 0.9777567765704577\n",
      "train RMSE: 1.9688407382815118 and MAE: 1.117\n"
     ]
    },
    {
     "data": {
      "image/png": "[encoded data removed]",
      "text/plain": [
       "<Figure size 432x288 with 1 Axes>"
      ]
     },
     "metadata": {
      "needs_background": "light"
     },
     "output_type": "display_data"
    }
   ],
   "source": [
    "MaxGlobal=0\n",
    "MaxGlobal_Score=0\n",
    "MaxGlobal_Score_train=0\n",
    "\n",
    "scores = {'CV': [], 'R2': [],'R2_train': []}\n",
    "\n",
    "for j in range(5000,5051):\n",
    "        Max_local=0\n",
    "        from sklearn.model_selection import cross_val_score\n",
    "        from sklearn.ensemble import GradientBoostingRegressor\n",
    "        import numpy as np\n",
    "        import pandas as pd\n",
    "        import pickle\n",
    "        from sklearn import metrics\n",
    "        from sklearn import preprocessing\n",
    "        from sklearn.model_selection import train_test_split\n",
    "        from sklearn.model_selection import cross_val_predict\n",
    "        import matplotlib.pyplot as plt\n",
    "        #from neupy.algorithms import RBFKMeans\n",
    "        from pyGRNN import GRNN\n",
    "        from sklearn.ensemble import RandomForestRegressor\n",
    "        from sklearn.metrics import r2_score\n",
    "        from sklearn import svm\n",
    "        from sklearn.metrics import r2_score\n",
    "        from math import sqrt\n",
    "        from sklearn.metrics import mean_absolute_error as mae\n",
    "        from sklearn.linear_model import LogisticRegression\n",
    "        from sklearn.tree import DecisionTreeRegressor\n",
    "        from sklearn.ensemble import AdaBoostRegressor\n",
    "        from sklearn import linear_model\n",
    "        import seaborn as sn\n",
    "        import joblib\n",
    "        import pandas as pd\n",
    "        from sklearn.linear_model import LogisticRegression\n",
    "        from sklearn.model_selection import GridSearchCV\n",
    "        import warnings\n",
    "        warnings.filterwarnings('ignore', category=FutureWarning)\n",
    "        warnings.filterwarnings('ignore', category=DeprecationWarning)\n",
    "\n",
    "\n",
    "\n",
    "\n",
    "\n",
    "\n",
    "        file_name = 'CA'\n",
    "        dataset = pd.read_csv(file_name + '.csv', header=0)\n",
    "        Test=dataset.loc[dataset['phi'] == 0.5]\n",
    "        data= dataset[dataset.phi != 0.5]\n",
    "\n",
    "        x1 = data.phi\n",
    "        x2= data.ca\n",
    "        X = np.column_stack((x1,x2))\n",
    "        Y= np.asarray(data.uv).reshape(-1, 1)\n",
    "        X_train, X_test,Y_train, Y_test = train_test_split(X, Y, test_size = 0.2,random_state=j,stratify=X[:,0])\n",
    "\n",
    "\n",
    "        xscaler = preprocessing.MinMaxScaler()\n",
    "        X_train_standard=xscaler.fit_transform(X_train)\n",
    "        X_test_standard=xscaler.transform(X_test)\n",
    "\n",
    "        yscaler = preprocessing.MinMaxScaler()\n",
    "        Y_train_standard =yscaler.fit_transform(Y_train)\n",
    "        Y_test_standard =yscaler.transform(Y_test)\n",
    "\n",
    "        Y_train_standard=Y_train_standard.ravel()\n",
    "        Y_test_standard =Y_test_standard.ravel() \n",
    "\n",
    "        X1 = Test.phi\n",
    "        X2= Test.ca\n",
    "        XX = np.column_stack((X1,X2))\n",
    "        YY= np.asarray(Test.uv).reshape(-1, 1)\n",
    "        X_scaled=xscaler.transform(XX)\n",
    "        Y_scaled=yscaler.transform(YY)\n",
    "        Y_scaled=Y_scaled.ravel()\n",
    "\n",
    "        IGRNN = GRNN()\n",
    "        params_IGRNN = {'kernel':[\"RBF\"],\n",
    "                'sigma' : list(np.arange(0.05,0.1,0.01)),\n",
    "                'calibration' : ['None']\n",
    "                 }\n",
    "        grid_IGRNN = GridSearchCV(estimator=IGRNN,\n",
    "                          param_grid=params_IGRNN,\n",
    "                          scoring='neg_root_mean_squared_error',\n",
    "                          cv=5,\n",
    "                          verbose=1\n",
    "                          )\n",
    "        #neg_mean_squared_error\n",
    "        grid_IGRNN.fit(X_train_standard, Y_train_standard.ravel())\n",
    "        best_model = grid_IGRNN.best_estimator_\n",
    "\n",
    "        Cross_validation_GRNN= cross_val_score(best_model, X_train_standard, Y_train_standard, scoring='r2', cv=5)\n",
    "        Cross_validation_Accuracy_GRNN= Cross_validation_GRNN.mean().round(2)\n",
    "        \n",
    "        \n",
    "        if  Cross_validation_Accuracy_GRNN> Max_local:\n",
    "        \n",
    "            Max_local= Cross_validation_Accuracy_GRNN\n",
    "            Y_pred_GRNN=best_model.predict(X_test_standard)\n",
    "            Y_pred_GRNN_train=best_model.predict(X_train_standard)\n",
    "\n",
    "            Score_local= r2_score(Y_test_standard, Y_pred_GRNN)\n",
    "            Score_local_train= r2_score(Y_train_standard, Y_pred_GRNN_train)\n",
    "\n",
    "        scores['CV'].append(Max_local) \n",
    "        scores['R2'].append(Score_local)\n",
    "        scores['R2_train'].append(Score_local_train)\n",
    "\n",
    "        if Max_local > MaxGlobal  and Score_local>MaxGlobal_Score  and Score_local_train>MaxGlobal_Score_train:\n",
    "            MaxGlobal=Max_local\n",
    "            MaxGlobal_Score= Score_local\n",
    "            MaxGlobal_Score_train=Score_local_train\n",
    "            BestFit=best_model\n",
    "            GRNN_X_train_standard=X_train_standard\n",
    "            GRNN_Y_train_standard=Y_train_standard\n",
    "            GRNN_X_test_standard=X_test_standard\n",
    "            GRNN_Y_test_standard=Y_test_standard\n",
    "                    \n",
    "            GRNN_Y_train_standard_realscale=yscaler.inverse_transform(Y_train_standard.reshape(-1, 1))\n",
    "            GRNN_Y_test_standard_realscale=yscaler.inverse_transform(Y_test_standard.reshape(-1, 1))\n",
    "            ypredtrain=BestFit.predict(X_train_standard)\n",
    "            ypredtest=BestFit.predict(X_test_standard)\n",
    "            GRNN_pred_Y_train_standard_realscale=yscaler.inverse_transform(ypredtrain.reshape(-1, 1))\n",
    "            GRNN_pred_Y_test_standard_realscale=yscaler.inverse_transform(ypredtest.reshape(-1, 1))\n",
    "            np.save('GRNN_Y_train_standard_realscale',GRNN_Y_train_standard_realscale)\n",
    "            np.save('GRNN_Y_test_standard_realscale',GRNN_Y_test_standard_realscale)\n",
    "            np.save('GRNN_pred_Y_train_standard_realscale',GRNN_pred_Y_train_standard_realscale)\n",
    "            np.save('GRNN_pred_Y_test_standard_realscale',GRNN_pred_Y_test_standard_realscale)\n",
    "            \n",
    "            Number_Of_Estimators = j\n",
    "            np.save('GRNN_X_train_standard',GRNN_X_train_standard)\n",
    "            np.save('GRNN_Y_train_standard',GRNN_Y_train_standard)\n",
    "            np.save('GRNN_X_test_standard',GRNN_X_test_standard)\n",
    "            np.save('GRNN_Y_test_standard',GRNN_Y_test_standard)\n",
    "            joblib.dump(BestFit, 'GRNN_model.pkl')\n",
    "            Xscaler=xscaler\n",
    "            Yscaler=yscaler\n",
    "            ypredTest=BestFit.predict(X_scaled)\n",
    "            Testscore=r2_score(Y_scaled,ypredTest)\n",
    "\n",
    "S=pd.DataFrame(scores) \n",
    "axis = S.boxplot(whis=(5,95))\n",
    "axis.set_ylim([0,1]);\n",
    "np.save('GRNN_CV',S.CV)\n",
    "np.save('GRNN_R2',S.R2)\n",
    "np.save('GRNN_R2_train',S.R2_train)\n",
    "\n",
    "print(\"mean CV {0}\".format(S.CV.mean()))\n",
    "print(\"mean R2 {0}\".format(S.R2.mean()))\n",
    "print(\"mean R2_train {0}\".format(S.R2_train.mean()))\n",
    "\n",
    "print(\"Test Score {0}\".format(Testscore))\n",
    "\n",
    "\n",
    "\n",
    "print(\"Test 0.5 Score {0}\".format(Testscore))\n",
    "print(\"test r2 = {}\".format(r2_score(GRNN_Y_test_standard_realscale,GRNN_pred_Y_test_standard_realscale)))\n",
    "print(\"test RMSE: {0} and MAE: {1}\".format(sqrt(np.mean((GRNN_Y_test_standard_realscale - GRNN_pred_Y_test_standard_realscale)**2)),mae(GRNN_Y_test_standard_realscale, GRNN_pred_Y_test_standard_realscale).round(3)))\n",
    "\n",
    "print(\"train r2 = {}\".format(r2_score(GRNN_Y_train_standard_realscale,GRNN_pred_Y_train_standard_realscale)))\n",
    "print(\"train RMSE: {0} and MAE: {1}\".format(sqrt(np.mean((GRNN_Y_train_standard_realscale - GRNN_pred_Y_train_standard_realscale)**2)),mae(GRNN_Y_train_standard_realscale, GRNN_pred_Y_train_standard_realscale).round(3)))"
   ]
  },
  {
   "cell_type": "code",
   "execution_count": 4,
   "metadata": {},
   "outputs": [
    {
     "data": {
      "text/plain": [
       "5048"
      ]
     },
     "execution_count": 4,
     "metadata": {},
     "output_type": "execute_result"
    }
   ],
   "source": [
    "Number_Of_Estimators #random state in train-test-split function"
   ]
  },
  {
   "cell_type": "code",
   "execution_count": 5,
   "metadata": {},
   "outputs": [
    {
     "data": {
      "text/plain": [
       "0.93"
      ]
     },
     "execution_count": 5,
     "metadata": {},
     "output_type": "execute_result"
    }
   ],
   "source": [
    "MaxGlobal"
   ]
  },
  {
   "cell_type": "code",
   "execution_count": 6,
   "metadata": {},
   "outputs": [
    {
     "data": {
      "text/plain": [
       "0.9716191831220544"
      ]
     },
     "execution_count": 6,
     "metadata": {},
     "output_type": "execute_result"
    }
   ],
   "source": [
    "MaxGlobal_Score"
   ]
  },
  {
   "cell_type": "code",
   "execution_count": 6,
   "metadata": {},
   "outputs": [
    {
     "data": {
      "text/plain": [
       "['GRNN_model.pkl']"
      ]
     },
     "execution_count": 6,
     "metadata": {},
     "output_type": "execute_result"
    }
   ],
   "source": [
    "joblib.dump(BestFit, 'GRNN_model.pkl')"
   ]
  },
  {
   "cell_type": "code",
   "execution_count": 7,
   "metadata": {},
   "outputs": [
    {
     "name": "stdout",
     "output_type": "stream",
     "text": [
      "Test Score 0.9333463231035001\n"
     ]
    }
   ],
   "source": [
    "print(\"Test Score {0}\".format(Testscore))\n"
   ]
  },
  {
   "cell_type": "code",
   "execution_count": 7,
   "metadata": {},
   "outputs": [
    {
     "name": "stdout",
     "output_type": "stream",
     "text": [
      "r2 = 0.9333463231035001\n",
      "RMSE: 1.0407315934322952 and MAE: 0.831\n"
     ]
    },
    {
     "data": {
      "image/png": "[encoded data removed]",
      "text/plain": [
       "<Figure size 432x288 with 1 Axes>"
      ]
     },
     "metadata": {
      "needs_background": "light"
     },
     "output_type": "display_data"
    }
   ],
   "source": [
    "file_name = 'CA0.5'\n",
    "data = pd.read_csv(file_name + '.csv', header=0)\n",
    "\n",
    "x1 = data.phi\n",
    "x2= data.ca\n",
    "X = np.column_stack((x1,x2))\n",
    "Y= np.asarray(data.uv).reshape(-1, 1)\n",
    "X_scaled=Xscaler.transform(X)\n",
    "Y_scaled=Yscaler.transform(Y)\n",
    "Y_scaled=Y_scaled.ravel()\n",
    "ypred=BestFit.predict(X_scaled)\n",
    "actually_GRNN=Yscaler.inverse_transform(ypred.reshape(-1,1))\n",
    "\n",
    "from sklearn.metrics import r2_score\n",
    "from math import sqrt\n",
    "from sklearn.metrics import mean_absolute_error as mae\n",
    "np.save('actually_GRNN',actually_GRNN)\n",
    "print(\"r2 = {}\".format(r2_score(Y,actually_GRNN)))\n",
    "print(\"RMSE: {0} and MAE: {1}\".format(sqrt(np.mean((Y - actually_GRNN)**2)),mae(Y, actually_GRNN).round(3)))\n",
    "\n",
    "plt.scatter(x2,actually_GRNN,color=\"none\",edgecolor=\"red\")\n",
    "plt.scatter(x2,Y,marker='+')\n",
    "\n",
    "\n"
   ]
  },
  {
   "cell_type": "code",
   "execution_count": null,
   "metadata": {},
   "outputs": [],
   "source": []
  }
 ],
 "metadata": {
  "kernelspec": {
   "display_name": "Python 3",
   "language": "python",
   "name": "python3"
  },
  "language_info": {
   "codemirror_mode": {
    "name": "ipython",
    "version": 3
   },
   "file_extension": ".py",
   "mimetype": "text/x-python",
   "name": "python",
   "nbconvert_exporter": "python",
   "pygments_lexer": "ipython3",
   "version": "3.8.5"
  }
 },
 "nbformat": 4,
 "nbformat_minor": 4
}
