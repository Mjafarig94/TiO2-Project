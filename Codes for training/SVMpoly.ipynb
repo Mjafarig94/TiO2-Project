{
 "cells": [
  {
   "cell_type": "code",
   "execution_count": null,
   "metadata": {},
   "outputs": [],
   "source": [
    "from sklearn.model_selection import cross_val_score\n",
    "from sklearn.ensemble import GradientBoostingRegressor\n",
    "import numpy as np\n",
    "import pandas as pd\n",
    "import pickle\n",
    "from sklearn import metrics\n",
    "from sklearn import preprocessing\n",
    "from sklearn.model_selection import train_test_split\n",
    "from sklearn.model_selection import cross_val_predict\n",
    "import matplotlib.pyplot as plt\n",
    "#from neupy.algorithms import RBFKMeans\n",
    "from neupy.algorithms import GRNN\n",
    "from sklearn.ensemble import RandomForestRegressor\n",
    "from sklearn.metrics import r2_score\n",
    "from sklearn.svm import SVR\n",
    "from sklearn.neural_network import MLPRegressor\n",
    "from sklearn.neural_network import MLPClassifier\n",
    "from sklearn.linear_model import LogisticRegression\n",
    "from sklearn.tree import DecisionTreeRegressor\n",
    "from sklearn.ensemble import AdaBoostRegressor\n",
    "from sklearn import linear_model\n",
    "import seaborn as sn\n",
    "import joblib\n",
    "import pandas as pd\n",
    "from sklearn.linear_model import LogisticRegression\n",
    "from sklearn.model_selection import GridSearchCV\n",
    "import warnings\n",
    "warnings.filterwarnings('ignore', category=FutureWarning)\n",
    "warnings.filterwarnings('ignore', category=DeprecationWarning)\n",
    "\n"
   ]
  },
  {
   "cell_type": "code",
   "execution_count": null,
   "metadata": {},
   "outputs": [],
   "source": [
    "def print_results_max(results):\n",
    "    print('BEST PARAMS: {}\\n'.format(results.best_params_))\n",
    "    MAxMean=0\n",
    "    means = results.cv_results_['mean_test_score']\n",
    "    stds = results.cv_results_['std_test_score']\n",
    "    for mean, std, params in zip(means, stds, results.cv_results_['params']):\n",
    "        if mean > MAxMean :\n",
    "            MAxMean = mean\n",
    "            print('{} (+/-{}) for {}'.format(round(mean, 3), round(std * 2, 3), params))\n",
    "    return MAxMean"
   ]
  },
  {
   "cell_type": "code",
   "execution_count": null,
   "metadata": {},
   "outputs": [],
   "source": []
  },
  {
   "cell_type": "code",
   "execution_count": null,
   "metadata": {},
   "outputs": [],
   "source": []
  },
  {
   "cell_type": "code",
   "execution_count": null,
   "metadata": {},
   "outputs": [],
   "source": [
    "X_test_standard= np.load('X_test_standard.npy')\n",
    "Y_train_standard= np.load('Y_train_standard.npy').ravel()\n",
    "X_train_standard= np.load('X_train_standard.npy')\n",
    "Y_test_standard= np.load('Y_test_standard.npy')"
   ]
  },
  {
   "cell_type": "code",
   "execution_count": null,
   "metadata": {},
   "outputs": [],
   "source": [
    "\n"
   ]
  },
  {
   "cell_type": "code",
   "execution_count": null,
   "metadata": {},
   "outputs": [],
   "source": [
    "len(Y_train_standard)"
   ]
  },
  {
   "cell_type": "code",
   "execution_count": null,
   "metadata": {},
   "outputs": [],
   "source": [
    "SVM =SVR()\n",
    "parameters = {\n",
    "        'kernel' : ['linear', 'poly', 'rbf','sigmoid'],\n",
    "        'degree' : [3,4,5,6],\n",
    "        'epsilon': [0,0.02,0.1,0.15,1,10,20]\n",
    "}\n",
    "\n",
    "cv = GridSearchCV(SVM, parameters, cv=5)\n",
    "cv.fit(X_train_standard, Y_train_standard)\n",
    "\n",
    "print_results_max(cv)\n",
    "MAxMean=print_results_max(cv)\n",
    "MAxMean"
   ]
  },
  {
   "cell_type": "code",
   "execution_count": null,
   "metadata": {},
   "outputs": [],
   "source": [
    "cv.best_estimator_"
   ]
  },
  {
   "cell_type": "code",
   "execution_count": null,
   "metadata": {},
   "outputs": [],
   "source": [
    "joblib.dump(cv.best_estimator_, 'SVM_model.pkl')"
   ]
  },
  {
   "cell_type": "code",
   "execution_count": null,
   "metadata": {},
   "outputs": [],
   "source": [
    "#0.804 (+/-0.212) for {'degree': 3, 'epsilon': 0.02, 'kernel': 'rbf'}"
   ]
  },
  {
   "cell_type": "code",
   "execution_count": null,
   "metadata": {},
   "outputs": [],
   "source": []
  },
  {
   "cell_type": "code",
   "execution_count": null,
   "metadata": {},
   "outputs": [],
   "source": []
  },
  {
   "cell_type": "code",
   "execution_count": null,
   "metadata": {},
   "outputs": [],
   "source": []
  },
  {
   "cell_type": "code",
   "execution_count": 5,
   "metadata": {},
   "outputs": [
    {
     "name": "stdout",
     "output_type": "stream",
     "text": [
      "BEST PARAMS: {'C': 0.01, 'degree': 3, 'epsilon': 0.1, 'kernel': 'poly'}\n",
      "\n",
      "0.35 (+/-0.182) for {'C': 0.01, 'degree': 3, 'epsilon': 0.1, 'kernel': 'poly'}\n",
      "BEST PARAMS: {'C': 0.01, 'degree': 3, 'epsilon': 0.1, 'kernel': 'poly'}\n",
      "\n",
      "0.293 (+/-0.119) for {'C': 0.01, 'degree': 3, 'epsilon': 0.1, 'kernel': 'poly'}\n",
      "BEST PARAMS: {'C': 0.01, 'degree': 3, 'epsilon': 0, 'kernel': 'poly'}\n",
      "\n",
      "0.272 (+/-0.135) for {'C': 0.01, 'degree': 3, 'epsilon': 0.1, 'kernel': 'poly'}\n",
      "0.289 (+/-0.289) for {'C': 0.01, 'degree': 3, 'epsilon': 0, 'kernel': 'poly'}\n",
      "BEST PARAMS: {'C': 0.01, 'degree': 3, 'epsilon': 0.1, 'kernel': 'poly'}\n",
      "\n",
      "0.347 (+/-0.194) for {'C': 0.01, 'degree': 3, 'epsilon': 0.1, 'kernel': 'poly'}\n",
      "BEST PARAMS: {'C': 0.01, 'degree': 3, 'epsilon': 0.1, 'kernel': 'poly'}\n",
      "\n",
      "0.302 (+/-0.155) for {'C': 0.01, 'degree': 3, 'epsilon': 0.1, 'kernel': 'poly'}\n",
      "BEST PARAMS: {'C': 0.01, 'degree': 3, 'epsilon': 0, 'kernel': 'poly'}\n",
      "\n",
      "BEST PARAMS: {'C': 0.01, 'degree': 3, 'epsilon': 0.1, 'kernel': 'poly'}\n",
      "\n",
      "0.364 (+/-0.281) for {'C': 0.01, 'degree': 3, 'epsilon': 0.1, 'kernel': 'poly'}\n",
      "BEST PARAMS: {'C': 0.01, 'degree': 3, 'epsilon': 0, 'kernel': 'poly'}\n",
      "\n",
      "BEST PARAMS: {'C': 0.01, 'degree': 3, 'epsilon': 0.1, 'kernel': 'poly'}\n",
      "\n",
      "0.349 (+/-0.258) for {'C': 0.01, 'degree': 3, 'epsilon': 0.1, 'kernel': 'poly'}\n",
      "BEST PARAMS: {'C': 0.01, 'degree': 3, 'epsilon': 0.1, 'kernel': 'poly'}\n",
      "\n",
      "0.322 (+/-0.111) for {'C': 0.01, 'degree': 3, 'epsilon': 0.1, 'kernel': 'poly'}\n",
      "BEST PARAMS: {'C': 0.01, 'degree': 3, 'epsilon': 0.1, 'kernel': 'poly'}\n",
      "\n",
      "0.293 (+/-0.043) for {'C': 0.01, 'degree': 3, 'epsilon': 0.1, 'kernel': 'poly'}\n",
      "BEST PARAMS: {'C': 0.01, 'degree': 3, 'epsilon': 0.1, 'kernel': 'poly'}\n",
      "\n",
      "0.338 (+/-0.25) for {'C': 0.01, 'degree': 3, 'epsilon': 0.1, 'kernel': 'poly'}\n",
      "BEST PARAMS: {'C': 0.01, 'degree': 3, 'epsilon': 0.1, 'kernel': 'poly'}\n",
      "\n",
      "0.349 (+/-0.281) for {'C': 0.01, 'degree': 3, 'epsilon': 0.1, 'kernel': 'poly'}\n",
      "BEST PARAMS: {'C': 0.01, 'degree': 3, 'epsilon': 0.1, 'kernel': 'poly'}\n",
      "\n",
      "BEST PARAMS: {'C': 0.01, 'degree': 3, 'epsilon': 0.1, 'kernel': 'poly'}\n",
      "\n",
      "0.337 (+/-0.121) for {'C': 0.01, 'degree': 3, 'epsilon': 0.1, 'kernel': 'poly'}\n",
      "BEST PARAMS: {'C': 0.01, 'degree': 3, 'epsilon': 0, 'kernel': 'poly'}\n",
      "\n",
      "0.331 (+/-0.468) for {'C': 0.01, 'degree': 3, 'epsilon': 0.1, 'kernel': 'poly'}\n",
      "0.333 (+/-0.523) for {'C': 0.01, 'degree': 3, 'epsilon': 0, 'kernel': 'poly'}\n",
      "BEST PARAMS: {'C': 0.01, 'degree': 3, 'epsilon': 0.1, 'kernel': 'poly'}\n",
      "\n",
      "0.25 (+/-0.196) for {'C': 0.01, 'degree': 3, 'epsilon': 0.1, 'kernel': 'poly'}\n",
      "BEST PARAMS: {'C': 0.01, 'degree': 3, 'epsilon': 0.1, 'kernel': 'poly'}\n",
      "\n",
      "0.341 (+/-0.059) for {'C': 0.01, 'degree': 3, 'epsilon': 0.1, 'kernel': 'poly'}\n",
      "BEST PARAMS: {'C': 0.01, 'degree': 3, 'epsilon': 0.1, 'kernel': 'poly'}\n",
      "\n",
      "0.303 (+/-0.301) for {'C': 0.01, 'degree': 3, 'epsilon': 0.1, 'kernel': 'poly'}\n",
      "BEST PARAMS: {'C': 0.01, 'degree': 3, 'epsilon': 0.1, 'kernel': 'poly'}\n",
      "\n",
      "0.312 (+/-0.173) for {'C': 0.01, 'degree': 3, 'epsilon': 0.1, 'kernel': 'poly'}\n",
      "BEST PARAMS: {'C': 0.01, 'degree': 3, 'epsilon': 0.1, 'kernel': 'poly'}\n",
      "\n",
      "0.313 (+/-0.136) for {'C': 0.01, 'degree': 3, 'epsilon': 0.1, 'kernel': 'poly'}\n",
      "BEST PARAMS: {'C': 0.01, 'degree': 3, 'epsilon': 0.1, 'kernel': 'poly'}\n",
      "\n",
      "0.286 (+/-0.378) for {'C': 0.01, 'degree': 3, 'epsilon': 0.1, 'kernel': 'poly'}\n",
      "BEST PARAMS: {'C': 0.01, 'degree': 3, 'epsilon': 0.1, 'kernel': 'poly'}\n",
      "\n",
      "0.317 (+/-0.129) for {'C': 0.01, 'degree': 3, 'epsilon': 0.1, 'kernel': 'poly'}\n",
      "BEST PARAMS: {'C': 0.01, 'degree': 3, 'epsilon': 0.1, 'kernel': 'poly'}\n",
      "\n",
      "0.376 (+/-0.267) for {'C': 0.01, 'degree': 3, 'epsilon': 0.1, 'kernel': 'poly'}\n",
      "BEST PARAMS: {'C': 0.01, 'degree': 3, 'epsilon': 0.1, 'kernel': 'poly'}\n",
      "\n",
      "0.341 (+/-0.235) for {'C': 0.01, 'degree': 3, 'epsilon': 0.1, 'kernel': 'poly'}\n",
      "BEST PARAMS: {'C': 0.01, 'degree': 3, 'epsilon': 0.1, 'kernel': 'poly'}\n",
      "\n",
      "0.291 (+/-0.369) for {'C': 0.01, 'degree': 3, 'epsilon': 0.1, 'kernel': 'poly'}\n",
      "BEST PARAMS: {'C': 0.01, 'degree': 3, 'epsilon': 0.1, 'kernel': 'poly'}\n",
      "\n",
      "0.281 (+/-0.284) for {'C': 0.01, 'degree': 3, 'epsilon': 0.1, 'kernel': 'poly'}\n",
      "BEST PARAMS: {'C': 0.01, 'degree': 3, 'epsilon': 0, 'kernel': 'poly'}\n",
      "\n",
      "0.176 (+/-0.54) for {'C': 0.01, 'degree': 3, 'epsilon': 0.1, 'kernel': 'poly'}\n",
      "0.198 (+/-0.294) for {'C': 0.01, 'degree': 3, 'epsilon': 0, 'kernel': 'poly'}\n",
      "BEST PARAMS: {'C': 0.01, 'degree': 3, 'epsilon': 0.1, 'kernel': 'poly'}\n",
      "\n",
      "0.305 (+/-0.361) for {'C': 0.01, 'degree': 3, 'epsilon': 0.1, 'kernel': 'poly'}\n",
      "BEST PARAMS: {'C': 0.01, 'degree': 3, 'epsilon': 0.1, 'kernel': 'poly'}\n",
      "\n",
      "0.223 (+/-0.49) for {'C': 0.01, 'degree': 3, 'epsilon': 0.1, 'kernel': 'poly'}\n",
      "BEST PARAMS: {'C': 0.01, 'degree': 3, 'epsilon': 0.1, 'kernel': 'poly'}\n",
      "\n",
      "0.264 (+/-0.248) for {'C': 0.01, 'degree': 3, 'epsilon': 0.1, 'kernel': 'poly'}\n",
      "BEST PARAMS: {'C': 0.01, 'degree': 3, 'epsilon': 0, 'kernel': 'poly'}\n",
      "\n",
      "0.105 (+/-0.53) for {'C': 0.01, 'degree': 3, 'epsilon': 0, 'kernel': 'poly'}\n",
      "BEST PARAMS: {'C': 0.01, 'degree': 3, 'epsilon': 0.1, 'kernel': 'poly'}\n",
      "\n",
      "0.376 (+/-0.375) for {'C': 0.01, 'degree': 3, 'epsilon': 0.1, 'kernel': 'poly'}\n",
      "BEST PARAMS: {'C': 0.01, 'degree': 3, 'epsilon': 0.1, 'kernel': 'poly'}\n",
      "\n",
      "0.314 (+/-0.176) for {'C': 0.01, 'degree': 3, 'epsilon': 0.1, 'kernel': 'poly'}\n",
      "BEST PARAMS: {'C': 0.01, 'degree': 3, 'epsilon': 0.1, 'kernel': 'poly'}\n",
      "\n",
      "0.29 (+/-0.319) for {'C': 0.01, 'degree': 3, 'epsilon': 0.1, 'kernel': 'poly'}\n",
      "BEST PARAMS: {'C': 0.01, 'degree': 3, 'epsilon': 0.1, 'kernel': 'poly'}\n",
      "\n",
      "0.232 (+/-0.373) for {'C': 0.01, 'degree': 3, 'epsilon': 0.1, 'kernel': 'poly'}\n",
      "BEST PARAMS: {'C': 0.01, 'degree': 3, 'epsilon': 0, 'kernel': 'poly'}\n",
      "\n",
      "0.18 (+/-0.244) for {'C': 0.01, 'degree': 3, 'epsilon': 0.1, 'kernel': 'poly'}\n",
      "0.218 (+/-0.294) for {'C': 0.01, 'degree': 3, 'epsilon': 0, 'kernel': 'poly'}\n",
      "BEST PARAMS: {'C': 0.01, 'degree': 3, 'epsilon': 0.1, 'kernel': 'poly'}\n",
      "\n",
      "0.379 (+/-0.153) for {'C': 0.01, 'degree': 3, 'epsilon': 0.1, 'kernel': 'poly'}\n",
      "BEST PARAMS: {'C': 0.01, 'degree': 3, 'epsilon': 0.1, 'kernel': 'poly'}\n",
      "\n",
      "0.296 (+/-0.156) for {'C': 0.01, 'degree': 3, 'epsilon': 0.1, 'kernel': 'poly'}\n",
      "BEST PARAMS: {'C': 0.01, 'degree': 3, 'epsilon': 0, 'kernel': 'poly'}\n",
      "\n",
      "BEST PARAMS: {'C': 0.01, 'degree': 3, 'epsilon': 0.1, 'kernel': 'poly'}\n",
      "\n",
      "0.344 (+/-0.214) for {'C': 0.01, 'degree': 3, 'epsilon': 0.1, 'kernel': 'poly'}\n",
      "BEST PARAMS: {'C': 0.01, 'degree': 3, 'epsilon': 0, 'kernel': 'poly'}\n",
      "\n",
      "BEST PARAMS: {'C': 0.01, 'degree': 3, 'epsilon': 0, 'kernel': 'poly'}\n",
      "\n",
      "0.208 (+/-0.286) for {'C': 0.01, 'degree': 3, 'epsilon': 0.1, 'kernel': 'poly'}\n",
      "0.21 (+/-0.306) for {'C': 0.01, 'degree': 3, 'epsilon': 0, 'kernel': 'poly'}\n",
      "BEST PARAMS: {'C': 0.01, 'degree': 3, 'epsilon': 0.1, 'kernel': 'poly'}\n",
      "\n",
      "0.369 (+/-0.317) for {'C': 0.01, 'degree': 3, 'epsilon': 0.1, 'kernel': 'poly'}\n",
      "BEST PARAMS: {'C': 0.01, 'degree': 3, 'epsilon': 0, 'kernel': 'poly'}\n",
      "\n",
      "BEST PARAMS: {'C': 0.01, 'degree': 3, 'epsilon': 0.1, 'kernel': 'poly'}\n",
      "\n",
      "0.412 (+/-0.284) for {'C': 0.01, 'degree': 3, 'epsilon': 0.1, 'kernel': 'poly'}\n",
      "BEST PARAMS: {'C': 0.01, 'degree': 3, 'epsilon': 0.1, 'kernel': 'poly'}\n",
      "\n",
      "0.367 (+/-0.318) for {'C': 0.01, 'degree': 3, 'epsilon': 0.1, 'kernel': 'poly'}\n",
      "BEST PARAMS: {'C': 0.01, 'degree': 3, 'epsilon': 0.1, 'kernel': 'poly'}\n",
      "\n",
      "0.233 (+/-0.284) for {'C': 0.01, 'degree': 3, 'epsilon': 0.1, 'kernel': 'poly'}\n",
      "BEST PARAMS: {'C': 0.01, 'degree': 3, 'epsilon': 0.1, 'kernel': 'poly'}\n",
      "\n",
      "0.309 (+/-0.234) for {'C': 0.01, 'degree': 3, 'epsilon': 0.1, 'kernel': 'poly'}\n",
      "BEST PARAMS: {'C': 0.01, 'degree': 3, 'epsilon': 0.1, 'kernel': 'poly'}\n",
      "\n",
      "0.321 (+/-0.18) for {'C': 0.01, 'degree': 3, 'epsilon': 0.1, 'kernel': 'poly'}\n",
      "BEST PARAMS: {'C': 0.01, 'degree': 3, 'epsilon': 0, 'kernel': 'poly'}\n",
      "\n",
      "0.213 (+/-0.284) for {'C': 0.01, 'degree': 3, 'epsilon': 0.1, 'kernel': 'poly'}\n",
      "0.242 (+/-0.322) for {'C': 0.01, 'degree': 3, 'epsilon': 0, 'kernel': 'poly'}\n",
      "mean CV 0.2683474831519739\n",
      "mean R2 0.3150882352941176\n",
      "mean R2_train 0.3376960784313726\n",
      "Test Score -1.6508847262158417\n"
     ]
    },
    {
     "data": {
      "image/png": "[encoded data removed]",
      "text/plain": [
       "<Figure size 432x288 with 1 Axes>"
      ]
     },
     "metadata": {
      "needs_background": "light"
     },
     "output_type": "display_data"
    }
   ],
   "source": [
    "MaxGlobal=0\n",
    "MaxGlobal_Score=0\n",
    "MaxGlobal_Score_train=0\n",
    "\n",
    "scores = {'CV': [], 'R2': [],'R2_train': []}\n",
    "\n",
    "for j in range(5000,5051):\n",
    "    from sklearn.model_selection import cross_val_score\n",
    "    from sklearn.ensemble import GradientBoostingRegressor\n",
    "    import numpy as np\n",
    "    import pandas as pd\n",
    "    import pickle\n",
    "    from sklearn import metrics\n",
    "    from sklearn import preprocessing\n",
    "    from sklearn.model_selection import train_test_split\n",
    "    from sklearn.model_selection import cross_val_predict\n",
    "    import matplotlib.pyplot as plt\n",
    "    #from neupy.algorithms import RBFKMeans\n",
    "    #from neupy.algorithms import GRNN\n",
    "    from sklearn.ensemble import RandomForestRegressor\n",
    "    from sklearn.metrics import r2_score\n",
    "    from sklearn.svm import SVR\n",
    "    from sklearn.neural_network import MLPRegressor\n",
    "    from sklearn.neural_network import MLPClassifier\n",
    "    from sklearn.linear_model import LogisticRegression\n",
    "    from sklearn.tree import DecisionTreeRegressor\n",
    "    from sklearn.ensemble import AdaBoostRegressor\n",
    "    from sklearn import linear_model\n",
    "    import seaborn as sn\n",
    "    import joblib\n",
    "    import pandas as pd\n",
    "    from sklearn.linear_model import LogisticRegression\n",
    "    from sklearn.model_selection import GridSearchCV\n",
    "    import warnings\n",
    "    warnings.filterwarnings('ignore', category=FutureWarning)\n",
    "    warnings.filterwarnings('ignore', category=DeprecationWarning)\n",
    "\n",
    "\n",
    "\n",
    "\n",
    "\n",
    "    file_name = 'CA'\n",
    "    dataset = pd.read_csv(file_name + '.csv', header=0)\n",
    "    Test=dataset.loc[dataset['phi'] == 0.5]\n",
    "    data= dataset[dataset.phi != 0.5]\n",
    "\n",
    "    x1 = data.phi\n",
    "    x2= data.ca\n",
    "    X = np.column_stack((x1,x2))\n",
    "    Y= np.asarray(data.uv).reshape(-1, 1)\n",
    "    X_train, X_test,Y_train, Y_test = train_test_split(X, Y, test_size = 0.2,random_state=j,stratify=X[:,0])\n",
    "\n",
    "\n",
    "    xscaler = preprocessing.MinMaxScaler()\n",
    "    X_train_standard=xscaler.fit_transform(X_train)\n",
    "    X_test_standard=xscaler.transform(X_test)\n",
    "\n",
    "    yscaler = preprocessing.MinMaxScaler()\n",
    "    Y_train_standard =yscaler.fit_transform(Y_train)\n",
    "    Y_test_standard =yscaler.transform(Y_test)\n",
    "\n",
    "    Y_train_standard=Y_train_standard.ravel()\n",
    "    Y_test_standard =Y_test_standard.ravel() \n",
    "\n",
    "    X1 = Test.phi\n",
    "    X2= Test.ca\n",
    "    XX = np.column_stack((X1,X2))\n",
    "    YY= np.asarray(Test.uv).reshape(-1, 1)\n",
    "    X_scaled=xscaler.transform(XX)\n",
    "    Y_scaled=yscaler.transform(YY)\n",
    "    Y_scaled=Y_scaled.ravel()\n",
    "\n",
    "\n",
    "\n",
    "\n",
    "    def print_results_max(results):\n",
    "        print('BEST PARAMS: {}\\n'.format(results.best_params_))\n",
    "        MAxMean=0\n",
    "        means = results.cv_results_['mean_test_score']\n",
    "        stds = results.cv_results_['std_test_score']\n",
    "        for mean, std, params in zip(means, stds, results.cv_results_['params']):\n",
    "            if mean > MAxMean :\n",
    "                MAxMean = mean\n",
    "                print('{} (+/-{}) for {}'.format(round(mean, 3), round(std * 2, 3), params))\n",
    "        return MAxMean\n",
    "\n",
    "\n",
    "\n",
    " # 'kernel' : ['linear', 'rbf','poly'],\n",
    "    SVM =SVR()\n",
    "    parameters = {\n",
    "            'kernel' : ['poly'],\n",
    "            'degree' : [3],\n",
    "            'epsilon': [0.1,0],\n",
    "             'C': list(np.arange(.01,0.02,0.01))\n",
    "    }\n",
    "\n",
    "    cv = GridSearchCV(SVM, parameters, cv=5)\n",
    "    cv.fit(X_train_standard, Y_train_standard)\n",
    "\n",
    "\n",
    "\n",
    "    MAxMean=print_results_max(cv)\n",
    "    Score= cv.best_estimator_.score(X_test_standard, Y_test_standard).round(4)\n",
    "    Score_train= cv.best_estimator_.score(X_train_standard, Y_train_standard).round(4)\n",
    "\n",
    "    scores['CV'].append(MAxMean) \n",
    "    scores['R2'].append(Score)\n",
    "    scores['R2_train'].append(Score_train)\n",
    "\n",
    "    if MAxMean > MaxGlobal and Score>MaxGlobal_Score and Score_train>MaxGlobal_Score_train:\n",
    "        MaxGlobal=MAxMean\n",
    "        MaxGlobal_Score= Score\n",
    "        MaxGlobal_Score_train = Score_train\n",
    "        BestFit=cv.best_estimator_\n",
    "        SVM_X_train_standard=X_train_standard\n",
    "        SVM_Y_train_standard=Y_train_standard\n",
    "        SVM_X_test_standard=X_test_standard\n",
    "        SVM_Y_test_standard=Y_test_standard\n",
    "        Number_Of_Estimators = j\n",
    "        np.save('SVMpoly_X_train_standard',SVM_X_train_standard)\n",
    "        np.save('SVMpoly_Y_train_standard',SVM_Y_train_standard)\n",
    "        np.save('SVMpoly_X_test_standard',SVM_X_test_standard)\n",
    "        np.save('SVMpoly_Y_test_standard',SVM_Y_test_standard)\n",
    "        Xscaler=xscaler\n",
    "        Yscaler=yscaler\n",
    "        ypredTest=BestFit.predict(X_scaled)\n",
    "        Testscore=r2_score(Y_scaled,ypredTest)\n",
    "        joblib.dump(BestFit, 'SVM_modelpoly.pkl')\n",
    "        \n",
    "    \n",
    "S=pd.DataFrame(scores) \n",
    "axis = S.boxplot()\n",
    "axis.set_ylim([0,1]);\n",
    "np.save('SVMpoly_CV',S.CV)\n",
    "np.save('SVMpoly_R2',S.R2)\n",
    "np.save('SVMpoly_R2_train',S.R2_train)\n",
    "print(\"mean CV {0}\".format(S.CV.mean()))\n",
    "print(\"mean R2 {0}\".format(S.R2.mean()))\n",
    "print(\"mean R2_train {0}\".format(S.R2_train.mean()))\n",
    "print(\"Test Score {0}\".format(Testscore))\n"
   ]
  },
  {
   "cell_type": "code",
   "execution_count": 6,
   "metadata": {},
   "outputs": [
    {
     "data": {
      "text/plain": [
       "5000"
      ]
     },
     "execution_count": 6,
     "metadata": {},
     "output_type": "execute_result"
    }
   ],
   "source": [
    "Number_Of_Estimators #linear"
   ]
  },
  {
   "cell_type": "code",
   "execution_count": null,
   "metadata": {},
   "outputs": [],
   "source": [
    "Number_Of_Estimators #rbf"
   ]
  },
  {
   "cell_type": "code",
   "execution_count": 7,
   "metadata": {},
   "outputs": [
    {
     "data": {
      "text/plain": [
       "0.9429642791055526"
      ]
     },
     "execution_count": 7,
     "metadata": {},
     "output_type": "execute_result"
    }
   ],
   "source": [
    "MaxGlobal"
   ]
  },
  {
   "cell_type": "code",
   "execution_count": 8,
   "metadata": {},
   "outputs": [
    {
     "data": {
      "text/plain": [
       "0.9891"
      ]
     },
     "execution_count": 8,
     "metadata": {},
     "output_type": "execute_result"
    }
   ],
   "source": [
    "MaxGlobal_Score"
   ]
  },
  {
   "cell_type": "code",
   "execution_count": 9,
   "metadata": {},
   "outputs": [
    {
     "data": {
      "text/plain": [
       "SVR(C=0.91, degree=1, epsilon=0)"
      ]
     },
     "execution_count": 9,
     "metadata": {},
     "output_type": "execute_result"
    }
   ],
   "source": [
    "BestFit"
   ]
  },
  {
   "cell_type": "code",
   "execution_count": null,
   "metadata": {},
   "outputs": [],
   "source": []
  },
  {
   "cell_type": "code",
   "execution_count": 10,
   "metadata": {},
   "outputs": [
    {
     "data": {
      "text/plain": [
       "<matplotlib.collections.PathCollection at 0x191a08385b0>"
      ]
     },
     "execution_count": 10,
     "metadata": {},
     "output_type": "execute_result"
    },
    {
     "data": {
      "image/png": "[encoded data removed]",
      "text/plain": [
       "<Figure size 432x288 with 1 Axes>"
      ]
     },
     "metadata": {
      "needs_background": "light"
     },
     "output_type": "display_data"
    }
   ],
   "source": [
    "file_name = 'CA0.5'\n",
    "data = pd.read_csv(file_name + '.csv', header=0)\n",
    "\n",
    "x1 = data.phi\n",
    "x2= data.ca\n",
    "X = np.column_stack((x1,x2))\n",
    "Y= np.asarray(data.uv).reshape(-1, 1)\n",
    "X_scaled=Xscaler.transform(X)\n",
    "Y_scaled=Yscaler.transform(Y)\n",
    "Y_scaled=Y_scaled.ravel()\n",
    "ypred=BestFit.predict(X_scaled)\n",
    "from sklearn.metrics import r2_score\n",
    "r2_score(Y_scaled,ypred)\n",
    "actually_svmrbf=Yscaler.inverse_transform(ypred.reshape(-1,1))\n",
    "np.save('actually_svmpoly',actually_svmrbf)\n",
    "plt.scatter(x2,actually_svmrbf)\n",
    "plt.scatter(x2,Y)\n"
   ]
  },
  {
   "cell_type": "code",
   "execution_count": null,
   "metadata": {},
   "outputs": [],
   "source": [
    "#poly"
   ]
  },
  {
   "cell_type": "code",
   "execution_count": null,
   "metadata": {},
   "outputs": [],
   "source": [
    "Number_Of_Estimators"
   ]
  },
  {
   "cell_type": "code",
   "execution_count": null,
   "metadata": {},
   "outputs": [],
   "source": [
    "MaxGlobal"
   ]
  },
  {
   "cell_type": "code",
   "execution_count": null,
   "metadata": {},
   "outputs": [],
   "source": [
    "MaxGlobal_Score"
   ]
  },
  {
   "cell_type": "code",
   "execution_count": null,
   "metadata": {},
   "outputs": [],
   "source": [
    "BestFit"
   ]
  },
  {
   "cell_type": "code",
   "execution_count": null,
   "metadata": {},
   "outputs": [],
   "source": []
  }
 ],
 "metadata": {
  "kernelspec": {
   "display_name": "Python 3",
   "language": "python",
   "name": "python3"
  },
  "language_info": {
   "codemirror_mode": {
    "name": "ipython",
    "version": 3
   },
   "file_extension": ".py",
   "mimetype": "text/x-python",
   "name": "python",
   "nbconvert_exporter": "python",
   "pygments_lexer": "ipython3",
   "version": "3.8.5"
  }
 },
 "nbformat": 4,
 "nbformat_minor": 4
}
