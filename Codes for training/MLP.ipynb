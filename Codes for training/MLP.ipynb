{
 "cells": [
  {
   "cell_type": "code",
   "execution_count": 2,
   "metadata": {
    "scrolled": true
   },
   "outputs": [
    {
     "name": "stdout",
     "output_type": "stream",
     "text": [
      "BEST PARAMS: {'activation': 'tanh', 'hidden_layer_sizes': (2, 2, 1), 'learning_rate': 'constant', 'max_iter': 1000, 'random_state': 5, 'solver': 'lbfgs'}\n",
      "\n",
      "0.491 (+/-0.939) for {'activation': 'logistic', 'hidden_layer_sizes': (1, 1), 'learning_rate': 'constant', 'max_iter': 1000, 'random_state': 5, 'solver': 'lbfgs'}\n",
      "0.888 (+/-0.142) for {'activation': 'logistic', 'hidden_layer_sizes': (2, 2), 'learning_rate': 'constant', 'max_iter': 1000, 'random_state': 5, 'solver': 'lbfgs'}\n",
      "0.904 (+/-0.126) for {'activation': 'logistic', 'hidden_layer_sizes': (2, 2, 1), 'learning_rate': 'constant', 'max_iter': 1000, 'random_state': 5, 'solver': 'lbfgs'}\n",
      "0.912 (+/-0.103) for {'activation': 'tanh', 'hidden_layer_sizes': (2, 2, 1), 'learning_rate': 'constant', 'max_iter': 1000, 'random_state': 5, 'solver': 'lbfgs'}\n",
      "BEST PARAMS: {'activation': 'tanh', 'hidden_layer_sizes': (2, 2, 1), 'learning_rate': 'constant', 'max_iter': 1000, 'random_state': 5, 'solver': 'lbfgs'}\n",
      "\n",
      "0.132 (+/-0.794) for {'activation': 'logistic', 'hidden_layer_sizes': (1, 1), 'learning_rate': 'constant', 'max_iter': 1000, 'random_state': 5, 'solver': 'lbfgs'}\n",
      "0.913 (+/-0.127) for {'activation': 'logistic', 'hidden_layer_sizes': (2, 2), 'learning_rate': 'constant', 'max_iter': 1000, 'random_state': 5, 'solver': 'lbfgs'}\n",
      "0.936 (+/-0.123) for {'activation': 'logistic', 'hidden_layer_sizes': (2, 2, 1), 'learning_rate': 'constant', 'max_iter': 1000, 'random_state': 5, 'solver': 'lbfgs'}\n",
      "0.937 (+/-0.098) for {'activation': 'tanh', 'hidden_layer_sizes': (2, 2), 'learning_rate': 'constant', 'max_iter': 1000, 'random_state': 5, 'solver': 'lbfgs'}\n",
      "0.94 (+/-0.109) for {'activation': 'tanh', 'hidden_layer_sizes': (2, 2, 1), 'learning_rate': 'constant', 'max_iter': 1000, 'random_state': 5, 'solver': 'lbfgs'}\n",
      "BEST PARAMS: {'activation': 'logistic', 'hidden_layer_sizes': (2, 2), 'learning_rate': 'constant', 'max_iter': 1000, 'random_state': 5, 'solver': 'lbfgs'}\n",
      "\n",
      "0.475 (+/-0.871) for {'activation': 'logistic', 'hidden_layer_sizes': (1, 1), 'learning_rate': 'constant', 'max_iter': 1000, 'random_state': 5, 'solver': 'lbfgs'}\n",
      "0.887 (+/-0.151) for {'activation': 'logistic', 'hidden_layer_sizes': (2, 2), 'learning_rate': 'constant', 'max_iter': 1000, 'random_state': 5, 'solver': 'lbfgs'}\n",
      "BEST PARAMS: {'activation': 'logistic', 'hidden_layer_sizes': (2, 2, 1), 'learning_rate': 'constant', 'max_iter': 1000, 'random_state': 5, 'solver': 'lbfgs'}\n",
      "\n",
      "0.525 (+/-0.893) for {'activation': 'logistic', 'hidden_layer_sizes': (1, 1), 'learning_rate': 'constant', 'max_iter': 1000, 'random_state': 5, 'solver': 'lbfgs'}\n",
      "0.912 (+/-0.062) for {'activation': 'logistic', 'hidden_layer_sizes': (2, 2), 'learning_rate': 'constant', 'max_iter': 1000, 'random_state': 5, 'solver': 'lbfgs'}\n",
      "0.942 (+/-0.05) for {'activation': 'logistic', 'hidden_layer_sizes': (2, 2, 1), 'learning_rate': 'constant', 'max_iter': 1000, 'random_state': 5, 'solver': 'lbfgs'}\n",
      "BEST PARAMS: {'activation': 'logistic', 'hidden_layer_sizes': (2, 2, 1), 'learning_rate': 'constant', 'max_iter': 1000, 'random_state': 5, 'solver': 'lbfgs'}\n",
      "\n",
      "0.34 (+/-0.857) for {'activation': 'logistic', 'hidden_layer_sizes': (1, 1), 'learning_rate': 'constant', 'max_iter': 1000, 'random_state': 5, 'solver': 'lbfgs'}\n",
      "0.928 (+/-0.077) for {'activation': 'logistic', 'hidden_layer_sizes': (2, 2), 'learning_rate': 'constant', 'max_iter': 1000, 'random_state': 5, 'solver': 'lbfgs'}\n",
      "0.936 (+/-0.06) for {'activation': 'logistic', 'hidden_layer_sizes': (2, 2, 1), 'learning_rate': 'constant', 'max_iter': 1000, 'random_state': 5, 'solver': 'lbfgs'}\n",
      "BEST PARAMS: {'activation': 'tanh', 'hidden_layer_sizes': (2, 2), 'learning_rate': 'constant', 'max_iter': 1000, 'random_state': 5, 'solver': 'lbfgs'}\n",
      "\n",
      "0.421 (+/-0.98) for {'activation': 'logistic', 'hidden_layer_sizes': (1, 1), 'learning_rate': 'constant', 'max_iter': 1000, 'random_state': 5, 'solver': 'lbfgs'}\n",
      "0.846 (+/-0.237) for {'activation': 'logistic', 'hidden_layer_sizes': (2, 2), 'learning_rate': 'constant', 'max_iter': 1000, 'random_state': 5, 'solver': 'lbfgs'}\n",
      "0.878 (+/-0.199) for {'activation': 'logistic', 'hidden_layer_sizes': (2, 2, 1), 'learning_rate': 'constant', 'max_iter': 1000, 'random_state': 5, 'solver': 'lbfgs'}\n",
      "0.887 (+/-0.176) for {'activation': 'tanh', 'hidden_layer_sizes': (2, 2), 'learning_rate': 'constant', 'max_iter': 1000, 'random_state': 5, 'solver': 'lbfgs'}\n",
      "BEST PARAMS: {'activation': 'tanh', 'hidden_layer_sizes': (2, 2, 1), 'learning_rate': 'constant', 'max_iter': 1000, 'random_state': 5, 'solver': 'lbfgs'}\n",
      "\n",
      "0.676 (+/-0.752) for {'activation': 'logistic', 'hidden_layer_sizes': (1, 1), 'learning_rate': 'constant', 'max_iter': 1000, 'random_state': 5, 'solver': 'lbfgs'}\n",
      "0.915 (+/-0.111) for {'activation': 'logistic', 'hidden_layer_sizes': (2, 2), 'learning_rate': 'constant', 'max_iter': 1000, 'random_state': 5, 'solver': 'lbfgs'}\n",
      "0.925 (+/-0.134) for {'activation': 'tanh', 'hidden_layer_sizes': (2, 2, 1), 'learning_rate': 'constant', 'max_iter': 1000, 'random_state': 5, 'solver': 'lbfgs'}\n",
      "BEST PARAMS: {'activation': 'tanh', 'hidden_layer_sizes': (2, 2, 1), 'learning_rate': 'constant', 'max_iter': 1000, 'random_state': 5, 'solver': 'lbfgs'}\n",
      "\n",
      "0.727 (+/-0.836) for {'activation': 'logistic', 'hidden_layer_sizes': (2, 2), 'learning_rate': 'constant', 'max_iter': 1000, 'random_state': 5, 'solver': 'lbfgs'}\n",
      "0.786 (+/-0.665) for {'activation': 'logistic', 'hidden_layer_sizes': (2, 2, 1), 'learning_rate': 'constant', 'max_iter': 1000, 'random_state': 5, 'solver': 'lbfgs'}\n",
      "0.854 (+/-0.382) for {'activation': 'tanh', 'hidden_layer_sizes': (2, 2, 1), 'learning_rate': 'constant', 'max_iter': 1000, 'random_state': 5, 'solver': 'lbfgs'}\n",
      "BEST PARAMS: {'activation': 'logistic', 'hidden_layer_sizes': (2, 2), 'learning_rate': 'constant', 'max_iter': 1000, 'random_state': 5, 'solver': 'lbfgs'}\n",
      "\n",
      "0.49 (+/-0.915) for {'activation': 'logistic', 'hidden_layer_sizes': (1, 1), 'learning_rate': 'constant', 'max_iter': 1000, 'random_state': 5, 'solver': 'lbfgs'}\n",
      "0.917 (+/-0.138) for {'activation': 'logistic', 'hidden_layer_sizes': (2, 2), 'learning_rate': 'constant', 'max_iter': 1000, 'random_state': 5, 'solver': 'lbfgs'}\n",
      "BEST PARAMS: {'activation': 'tanh', 'hidden_layer_sizes': (2, 2, 1), 'learning_rate': 'constant', 'max_iter': 1000, 'random_state': 5, 'solver': 'lbfgs'}\n",
      "\n",
      "0.532 (+/-0.882) for {'activation': 'logistic', 'hidden_layer_sizes': (1, 1), 'learning_rate': 'constant', 'max_iter': 1000, 'random_state': 5, 'solver': 'lbfgs'}\n",
      "0.933 (+/-0.089) for {'activation': 'logistic', 'hidden_layer_sizes': (2, 2), 'learning_rate': 'constant', 'max_iter': 1000, 'random_state': 5, 'solver': 'lbfgs'}\n",
      "0.938 (+/-0.042) for {'activation': 'logistic', 'hidden_layer_sizes': (2, 2, 1), 'learning_rate': 'constant', 'max_iter': 1000, 'random_state': 5, 'solver': 'lbfgs'}\n",
      "0.945 (+/-0.064) for {'activation': 'tanh', 'hidden_layer_sizes': (2, 2, 1), 'learning_rate': 'constant', 'max_iter': 1000, 'random_state': 5, 'solver': 'lbfgs'}\n",
      "BEST PARAMS: {'activation': 'logistic', 'hidden_layer_sizes': (2, 2), 'learning_rate': 'constant', 'max_iter': 1000, 'random_state': 5, 'solver': 'lbfgs'}\n",
      "\n",
      "0.516 (+/-0.954) for {'activation': 'logistic', 'hidden_layer_sizes': (1, 1), 'learning_rate': 'constant', 'max_iter': 1000, 'random_state': 5, 'solver': 'lbfgs'}\n",
      "0.944 (+/-0.028) for {'activation': 'logistic', 'hidden_layer_sizes': (2, 2), 'learning_rate': 'constant', 'max_iter': 1000, 'random_state': 5, 'solver': 'lbfgs'}\n",
      "BEST PARAMS: {'activation': 'logistic', 'hidden_layer_sizes': (2, 2, 1), 'learning_rate': 'constant', 'max_iter': 1000, 'random_state': 5, 'solver': 'lbfgs'}\n",
      "\n",
      "0.329 (+/-1.009) for {'activation': 'logistic', 'hidden_layer_sizes': (1, 1), 'learning_rate': 'constant', 'max_iter': 1000, 'random_state': 5, 'solver': 'lbfgs'}\n",
      "0.898 (+/-0.27) for {'activation': 'logistic', 'hidden_layer_sizes': (2, 2), 'learning_rate': 'constant', 'max_iter': 1000, 'random_state': 5, 'solver': 'lbfgs'}\n",
      "0.904 (+/-0.177) for {'activation': 'logistic', 'hidden_layer_sizes': (2, 2, 1), 'learning_rate': 'constant', 'max_iter': 1000, 'random_state': 5, 'solver': 'lbfgs'}\n",
      "BEST PARAMS: {'activation': 'logistic', 'hidden_layer_sizes': (2, 2), 'learning_rate': 'constant', 'max_iter': 1000, 'random_state': 5, 'solver': 'lbfgs'}\n",
      "\n",
      "0.928 (+/-0.052) for {'activation': 'logistic', 'hidden_layer_sizes': (2, 2), 'learning_rate': 'constant', 'max_iter': 1000, 'random_state': 5, 'solver': 'lbfgs'}\n"
     ]
    },
    {
     "name": "stdout",
     "output_type": "stream",
     "text": [
      "BEST PARAMS: {'activation': 'logistic', 'hidden_layer_sizes': (2, 2, 1), 'learning_rate': 'constant', 'max_iter': 1000, 'random_state': 5, 'solver': 'lbfgs'}\n",
      "\n",
      "0.393 (+/-0.984) for {'activation': 'logistic', 'hidden_layer_sizes': (1, 1), 'learning_rate': 'constant', 'max_iter': 1000, 'random_state': 5, 'solver': 'lbfgs'}\n",
      "0.859 (+/-0.306) for {'activation': 'logistic', 'hidden_layer_sizes': (2, 2), 'learning_rate': 'constant', 'max_iter': 1000, 'random_state': 5, 'solver': 'lbfgs'}\n",
      "0.874 (+/-0.257) for {'activation': 'logistic', 'hidden_layer_sizes': (2, 2, 1), 'learning_rate': 'constant', 'max_iter': 1000, 'random_state': 5, 'solver': 'lbfgs'}\n",
      "BEST PARAMS: {'activation': 'logistic', 'hidden_layer_sizes': (2, 2, 1), 'learning_rate': 'constant', 'max_iter': 1000, 'random_state': 5, 'solver': 'lbfgs'}\n",
      "\n",
      "0.311 (+/-0.817) for {'activation': 'logistic', 'hidden_layer_sizes': (1, 1), 'learning_rate': 'constant', 'max_iter': 1000, 'random_state': 5, 'solver': 'lbfgs'}\n",
      "0.904 (+/-0.197) for {'activation': 'logistic', 'hidden_layer_sizes': (2, 2), 'learning_rate': 'constant', 'max_iter': 1000, 'random_state': 5, 'solver': 'lbfgs'}\n",
      "0.923 (+/-0.206) for {'activation': 'logistic', 'hidden_layer_sizes': (2, 2, 1), 'learning_rate': 'constant', 'max_iter': 1000, 'random_state': 5, 'solver': 'lbfgs'}\n",
      "BEST PARAMS: {'activation': 'logistic', 'hidden_layer_sizes': (2, 2), 'learning_rate': 'constant', 'max_iter': 1000, 'random_state': 5, 'solver': 'lbfgs'}\n",
      "\n",
      "0.41 (+/-0.736) for {'activation': 'logistic', 'hidden_layer_sizes': (1, 1), 'learning_rate': 'constant', 'max_iter': 1000, 'random_state': 5, 'solver': 'lbfgs'}\n",
      "0.82 (+/-0.282) for {'activation': 'logistic', 'hidden_layer_sizes': (2, 2), 'learning_rate': 'constant', 'max_iter': 1000, 'random_state': 5, 'solver': 'lbfgs'}\n",
      "BEST PARAMS: {'activation': 'tanh', 'hidden_layer_sizes': (2, 2), 'learning_rate': 'constant', 'max_iter': 1000, 'random_state': 5, 'solver': 'lbfgs'}\n",
      "\n",
      "0.513 (+/-1.011) for {'activation': 'logistic', 'hidden_layer_sizes': (1, 1), 'learning_rate': 'constant', 'max_iter': 1000, 'random_state': 5, 'solver': 'lbfgs'}\n",
      "0.933 (+/-0.079) for {'activation': 'logistic', 'hidden_layer_sizes': (2, 2), 'learning_rate': 'constant', 'max_iter': 1000, 'random_state': 5, 'solver': 'lbfgs'}\n",
      "0.944 (+/-0.051) for {'activation': 'logistic', 'hidden_layer_sizes': (2, 2, 1), 'learning_rate': 'constant', 'max_iter': 1000, 'random_state': 5, 'solver': 'lbfgs'}\n",
      "0.951 (+/-0.054) for {'activation': 'tanh', 'hidden_layer_sizes': (2, 2), 'learning_rate': 'constant', 'max_iter': 1000, 'random_state': 5, 'solver': 'lbfgs'}\n",
      "BEST PARAMS: {'activation': 'logistic', 'hidden_layer_sizes': (2, 2), 'learning_rate': 'constant', 'max_iter': 1000, 'random_state': 5, 'solver': 'lbfgs'}\n",
      "\n",
      "0.67 (+/-0.738) for {'activation': 'logistic', 'hidden_layer_sizes': (1, 1), 'learning_rate': 'constant', 'max_iter': 1000, 'random_state': 5, 'solver': 'lbfgs'}\n",
      "0.872 (+/-0.301) for {'activation': 'logistic', 'hidden_layer_sizes': (2, 2), 'learning_rate': 'constant', 'max_iter': 1000, 'random_state': 5, 'solver': 'lbfgs'}\n",
      "BEST PARAMS: {'activation': 'logistic', 'hidden_layer_sizes': (2, 2, 1), 'learning_rate': 'constant', 'max_iter': 1000, 'random_state': 5, 'solver': 'lbfgs'}\n",
      "\n",
      "0.851 (+/-0.285) for {'activation': 'logistic', 'hidden_layer_sizes': (2, 2), 'learning_rate': 'constant', 'max_iter': 1000, 'random_state': 5, 'solver': 'lbfgs'}\n",
      "0.854 (+/-0.186) for {'activation': 'logistic', 'hidden_layer_sizes': (2, 2, 1), 'learning_rate': 'constant', 'max_iter': 1000, 'random_state': 5, 'solver': 'lbfgs'}\n",
      "BEST PARAMS: {'activation': 'logistic', 'hidden_layer_sizes': (2, 2), 'learning_rate': 'constant', 'max_iter': 1000, 'random_state': 5, 'solver': 'lbfgs'}\n",
      "\n",
      "0.337 (+/-0.993) for {'activation': 'logistic', 'hidden_layer_sizes': (1, 1), 'learning_rate': 'constant', 'max_iter': 1000, 'random_state': 5, 'solver': 'lbfgs'}\n",
      "0.949 (+/-0.042) for {'activation': 'logistic', 'hidden_layer_sizes': (2, 2), 'learning_rate': 'constant', 'max_iter': 1000, 'random_state': 5, 'solver': 'lbfgs'}\n",
      "BEST PARAMS: {'activation': 'tanh', 'hidden_layer_sizes': (2, 2), 'learning_rate': 'constant', 'max_iter': 1000, 'random_state': 5, 'solver': 'lbfgs'}\n",
      "\n",
      "0.152 (+/-0.788) for {'activation': 'logistic', 'hidden_layer_sizes': (1, 1), 'learning_rate': 'constant', 'max_iter': 1000, 'random_state': 5, 'solver': 'lbfgs'}\n",
      "0.945 (+/-0.04) for {'activation': 'logistic', 'hidden_layer_sizes': (2, 2), 'learning_rate': 'constant', 'max_iter': 1000, 'random_state': 5, 'solver': 'lbfgs'}\n",
      "0.953 (+/-0.019) for {'activation': 'logistic', 'hidden_layer_sizes': (2, 2, 1), 'learning_rate': 'constant', 'max_iter': 1000, 'random_state': 5, 'solver': 'lbfgs'}\n",
      "0.957 (+/-0.02) for {'activation': 'tanh', 'hidden_layer_sizes': (2, 2), 'learning_rate': 'constant', 'max_iter': 1000, 'random_state': 5, 'solver': 'lbfgs'}\n",
      "BEST PARAMS: {'activation': 'logistic', 'hidden_layer_sizes': (2, 2, 1), 'learning_rate': 'constant', 'max_iter': 1000, 'random_state': 5, 'solver': 'lbfgs'}\n",
      "\n",
      "0.257 (+/-1.095) for {'activation': 'logistic', 'hidden_layer_sizes': (1, 1), 'learning_rate': 'constant', 'max_iter': 1000, 'random_state': 5, 'solver': 'lbfgs'}\n",
      "0.912 (+/-0.146) for {'activation': 'logistic', 'hidden_layer_sizes': (2, 2), 'learning_rate': 'constant', 'max_iter': 1000, 'random_state': 5, 'solver': 'lbfgs'}\n",
      "0.934 (+/-0.07) for {'activation': 'logistic', 'hidden_layer_sizes': (2, 2, 1), 'learning_rate': 'constant', 'max_iter': 1000, 'random_state': 5, 'solver': 'lbfgs'}\n",
      "BEST PARAMS: {'activation': 'tanh', 'hidden_layer_sizes': (2, 2, 1), 'learning_rate': 'constant', 'max_iter': 1000, 'random_state': 5, 'solver': 'lbfgs'}\n",
      "\n",
      "0.091 (+/-0.804) for {'activation': 'logistic', 'hidden_layer_sizes': (1, 1), 'learning_rate': 'constant', 'max_iter': 1000, 'random_state': 5, 'solver': 'lbfgs'}\n",
      "0.913 (+/-0.078) for {'activation': 'logistic', 'hidden_layer_sizes': (2, 2), 'learning_rate': 'constant', 'max_iter': 1000, 'random_state': 5, 'solver': 'lbfgs'}\n",
      "0.916 (+/-0.056) for {'activation': 'logistic', 'hidden_layer_sizes': (2, 2, 1), 'learning_rate': 'constant', 'max_iter': 1000, 'random_state': 5, 'solver': 'lbfgs'}\n",
      "0.923 (+/-0.071) for {'activation': 'tanh', 'hidden_layer_sizes': (2, 2, 1), 'learning_rate': 'constant', 'max_iter': 1000, 'random_state': 5, 'solver': 'lbfgs'}\n",
      "BEST PARAMS: {'activation': 'logistic', 'hidden_layer_sizes': (2, 2, 1), 'learning_rate': 'constant', 'max_iter': 1000, 'random_state': 5, 'solver': 'lbfgs'}\n",
      "\n",
      "0.906 (+/-0.086) for {'activation': 'logistic', 'hidden_layer_sizes': (2, 2), 'learning_rate': 'constant', 'max_iter': 1000, 'random_state': 5, 'solver': 'lbfgs'}\n",
      "0.913 (+/-0.115) for {'activation': 'logistic', 'hidden_layer_sizes': (2, 2, 1), 'learning_rate': 'constant', 'max_iter': 1000, 'random_state': 5, 'solver': 'lbfgs'}\n",
      "BEST PARAMS: {'activation': 'logistic', 'hidden_layer_sizes': (2, 2, 1), 'learning_rate': 'constant', 'max_iter': 1000, 'random_state': 5, 'solver': 'lbfgs'}\n",
      "\n",
      "0.507 (+/-0.895) for {'activation': 'logistic', 'hidden_layer_sizes': (1, 1), 'learning_rate': 'constant', 'max_iter': 1000, 'random_state': 5, 'solver': 'lbfgs'}\n",
      "0.91 (+/-0.138) for {'activation': 'logistic', 'hidden_layer_sizes': (2, 2), 'learning_rate': 'constant', 'max_iter': 1000, 'random_state': 5, 'solver': 'lbfgs'}\n",
      "0.928 (+/-0.112) for {'activation': 'logistic', 'hidden_layer_sizes': (2, 2, 1), 'learning_rate': 'constant', 'max_iter': 1000, 'random_state': 5, 'solver': 'lbfgs'}\n",
      "BEST PARAMS: {'activation': 'logistic', 'hidden_layer_sizes': (2, 2), 'learning_rate': 'constant', 'max_iter': 1000, 'random_state': 5, 'solver': 'lbfgs'}\n",
      "\n",
      "0.916 (+/-0.073) for {'activation': 'logistic', 'hidden_layer_sizes': (1, 1), 'learning_rate': 'constant', 'max_iter': 1000, 'random_state': 5, 'solver': 'lbfgs'}\n",
      "0.926 (+/-0.083) for {'activation': 'logistic', 'hidden_layer_sizes': (2, 2), 'learning_rate': 'constant', 'max_iter': 1000, 'random_state': 5, 'solver': 'lbfgs'}\n",
      "BEST PARAMS: {'activation': 'tanh', 'hidden_layer_sizes': (2, 2), 'learning_rate': 'constant', 'max_iter': 1000, 'random_state': 5, 'solver': 'lbfgs'}\n",
      "\n",
      "0.508 (+/-0.967) for {'activation': 'logistic', 'hidden_layer_sizes': (1, 1), 'learning_rate': 'constant', 'max_iter': 1000, 'random_state': 5, 'solver': 'lbfgs'}\n",
      "0.91 (+/-0.094) for {'activation': 'logistic', 'hidden_layer_sizes': (2, 2), 'learning_rate': 'constant', 'max_iter': 1000, 'random_state': 5, 'solver': 'lbfgs'}\n",
      "0.92 (+/-0.095) for {'activation': 'logistic', 'hidden_layer_sizes': (2, 2, 1), 'learning_rate': 'constant', 'max_iter': 1000, 'random_state': 5, 'solver': 'lbfgs'}\n",
      "0.933 (+/-0.093) for {'activation': 'tanh', 'hidden_layer_sizes': (2, 2), 'learning_rate': 'constant', 'max_iter': 1000, 'random_state': 5, 'solver': 'lbfgs'}\n"
     ]
    },
    {
     "name": "stdout",
     "output_type": "stream",
     "text": [
      "BEST PARAMS: {'activation': 'logistic', 'hidden_layer_sizes': (2, 2, 1), 'learning_rate': 'constant', 'max_iter': 1000, 'random_state': 5, 'solver': 'lbfgs'}\n",
      "\n",
      "0.358 (+/-1.015) for {'activation': 'logistic', 'hidden_layer_sizes': (1, 1), 'learning_rate': 'constant', 'max_iter': 1000, 'random_state': 5, 'solver': 'lbfgs'}\n",
      "0.823 (+/-0.39) for {'activation': 'logistic', 'hidden_layer_sizes': (2, 2), 'learning_rate': 'constant', 'max_iter': 1000, 'random_state': 5, 'solver': 'lbfgs'}\n",
      "0.92 (+/-0.1) for {'activation': 'logistic', 'hidden_layer_sizes': (2, 2, 1), 'learning_rate': 'constant', 'max_iter': 1000, 'random_state': 5, 'solver': 'lbfgs'}\n",
      "BEST PARAMS: {'activation': 'logistic', 'hidden_layer_sizes': (2, 2, 1), 'learning_rate': 'constant', 'max_iter': 1000, 'random_state': 5, 'solver': 'lbfgs'}\n",
      "\n",
      "0.378 (+/-0.878) for {'activation': 'logistic', 'hidden_layer_sizes': (1, 1), 'learning_rate': 'constant', 'max_iter': 1000, 'random_state': 5, 'solver': 'lbfgs'}\n",
      "0.845 (+/-0.321) for {'activation': 'logistic', 'hidden_layer_sizes': (2, 2), 'learning_rate': 'constant', 'max_iter': 1000, 'random_state': 5, 'solver': 'lbfgs'}\n",
      "0.849 (+/-0.259) for {'activation': 'logistic', 'hidden_layer_sizes': (2, 2, 1), 'learning_rate': 'constant', 'max_iter': 1000, 'random_state': 5, 'solver': 'lbfgs'}\n",
      "BEST PARAMS: {'activation': 'tanh', 'hidden_layer_sizes': (2, 2, 1), 'learning_rate': 'constant', 'max_iter': 1000, 'random_state': 5, 'solver': 'lbfgs'}\n",
      "\n",
      "0.914 (+/-0.102) for {'activation': 'logistic', 'hidden_layer_sizes': (1, 1), 'learning_rate': 'constant', 'max_iter': 1000, 'random_state': 5, 'solver': 'lbfgs'}\n",
      "0.927 (+/-0.117) for {'activation': 'logistic', 'hidden_layer_sizes': (2, 2, 1), 'learning_rate': 'constant', 'max_iter': 1000, 'random_state': 5, 'solver': 'lbfgs'}\n",
      "0.93 (+/-0.088) for {'activation': 'tanh', 'hidden_layer_sizes': (2, 2, 1), 'learning_rate': 'constant', 'max_iter': 1000, 'random_state': 5, 'solver': 'lbfgs'}\n",
      "BEST PARAMS: {'activation': 'logistic', 'hidden_layer_sizes': (2, 2, 1), 'learning_rate': 'constant', 'max_iter': 1000, 'random_state': 5, 'solver': 'lbfgs'}\n",
      "\n",
      "0.131 (+/-0.826) for {'activation': 'logistic', 'hidden_layer_sizes': (1, 1), 'learning_rate': 'constant', 'max_iter': 1000, 'random_state': 5, 'solver': 'lbfgs'}\n",
      "0.911 (+/-0.156) for {'activation': 'logistic', 'hidden_layer_sizes': (2, 2), 'learning_rate': 'constant', 'max_iter': 1000, 'random_state': 5, 'solver': 'lbfgs'}\n",
      "0.911 (+/-0.17) for {'activation': 'logistic', 'hidden_layer_sizes': (2, 2, 1), 'learning_rate': 'constant', 'max_iter': 1000, 'random_state': 5, 'solver': 'lbfgs'}\n",
      "BEST PARAMS: {'activation': 'logistic', 'hidden_layer_sizes': (2, 2), 'learning_rate': 'constant', 'max_iter': 1000, 'random_state': 5, 'solver': 'lbfgs'}\n",
      "\n",
      "0.617 (+/-0.82) for {'activation': 'logistic', 'hidden_layer_sizes': (1, 1), 'learning_rate': 'constant', 'max_iter': 1000, 'random_state': 5, 'solver': 'lbfgs'}\n",
      "0.852 (+/-0.263) for {'activation': 'logistic', 'hidden_layer_sizes': (2, 2), 'learning_rate': 'constant', 'max_iter': 1000, 'random_state': 5, 'solver': 'lbfgs'}\n",
      "BEST PARAMS: {'activation': 'logistic', 'hidden_layer_sizes': (2, 2), 'learning_rate': 'constant', 'max_iter': 1000, 'random_state': 5, 'solver': 'lbfgs'}\n",
      "\n",
      "0.721 (+/-0.739) for {'activation': 'logistic', 'hidden_layer_sizes': (1, 1), 'learning_rate': 'constant', 'max_iter': 1000, 'random_state': 5, 'solver': 'lbfgs'}\n",
      "0.914 (+/-0.087) for {'activation': 'logistic', 'hidden_layer_sizes': (2, 2), 'learning_rate': 'constant', 'max_iter': 1000, 'random_state': 5, 'solver': 'lbfgs'}\n",
      "BEST PARAMS: {'activation': 'tanh', 'hidden_layer_sizes': (2, 2, 1), 'learning_rate': 'constant', 'max_iter': 1000, 'random_state': 5, 'solver': 'lbfgs'}\n",
      "\n",
      "0.742 (+/-0.752) for {'activation': 'logistic', 'hidden_layer_sizes': (1, 1), 'learning_rate': 'constant', 'max_iter': 1000, 'random_state': 5, 'solver': 'lbfgs'}\n",
      "0.945 (+/-0.079) for {'activation': 'logistic', 'hidden_layer_sizes': (2, 2), 'learning_rate': 'constant', 'max_iter': 1000, 'random_state': 5, 'solver': 'lbfgs'}\n",
      "0.946 (+/-0.081) for {'activation': 'logistic', 'hidden_layer_sizes': (2, 2, 1), 'learning_rate': 'constant', 'max_iter': 1000, 'random_state': 5, 'solver': 'lbfgs'}\n",
      "0.954 (+/-0.076) for {'activation': 'tanh', 'hidden_layer_sizes': (2, 2, 1), 'learning_rate': 'constant', 'max_iter': 1000, 'random_state': 5, 'solver': 'lbfgs'}\n",
      "BEST PARAMS: {'activation': 'logistic', 'hidden_layer_sizes': (2, 2, 1), 'learning_rate': 'constant', 'max_iter': 1000, 'random_state': 5, 'solver': 'lbfgs'}\n",
      "\n",
      "0.301 (+/-0.906) for {'activation': 'logistic', 'hidden_layer_sizes': (1, 1), 'learning_rate': 'constant', 'max_iter': 1000, 'random_state': 5, 'solver': 'lbfgs'}\n",
      "0.925 (+/-0.045) for {'activation': 'logistic', 'hidden_layer_sizes': (2, 2), 'learning_rate': 'constant', 'max_iter': 1000, 'random_state': 5, 'solver': 'lbfgs'}\n",
      "0.942 (+/-0.022) for {'activation': 'logistic', 'hidden_layer_sizes': (2, 2, 1), 'learning_rate': 'constant', 'max_iter': 1000, 'random_state': 5, 'solver': 'lbfgs'}\n",
      "BEST PARAMS: {'activation': 'logistic', 'hidden_layer_sizes': (2, 2), 'learning_rate': 'constant', 'max_iter': 1000, 'random_state': 5, 'solver': 'lbfgs'}\n",
      "\n",
      "0.449 (+/-1.26) for {'activation': 'logistic', 'hidden_layer_sizes': (1, 1), 'learning_rate': 'constant', 'max_iter': 1000, 'random_state': 5, 'solver': 'lbfgs'}\n",
      "0.934 (+/-0.106) for {'activation': 'logistic', 'hidden_layer_sizes': (2, 2), 'learning_rate': 'constant', 'max_iter': 1000, 'random_state': 5, 'solver': 'lbfgs'}\n",
      "BEST PARAMS: {'activation': 'logistic', 'hidden_layer_sizes': (2, 2, 1), 'learning_rate': 'constant', 'max_iter': 1000, 'random_state': 5, 'solver': 'lbfgs'}\n",
      "\n",
      "0.41 (+/-0.92) for {'activation': 'logistic', 'hidden_layer_sizes': (1, 1), 'learning_rate': 'constant', 'max_iter': 1000, 'random_state': 5, 'solver': 'lbfgs'}\n",
      "0.864 (+/-0.241) for {'activation': 'logistic', 'hidden_layer_sizes': (2, 2), 'learning_rate': 'constant', 'max_iter': 1000, 'random_state': 5, 'solver': 'lbfgs'}\n",
      "0.924 (+/-0.097) for {'activation': 'logistic', 'hidden_layer_sizes': (2, 2, 1), 'learning_rate': 'constant', 'max_iter': 1000, 'random_state': 5, 'solver': 'lbfgs'}\n",
      "BEST PARAMS: {'activation': 'tanh', 'hidden_layer_sizes': (2, 2, 1), 'learning_rate': 'constant', 'max_iter': 1000, 'random_state': 5, 'solver': 'lbfgs'}\n",
      "\n",
      "0.903 (+/-0.119) for {'activation': 'logistic', 'hidden_layer_sizes': (2, 2), 'learning_rate': 'constant', 'max_iter': 1000, 'random_state': 5, 'solver': 'lbfgs'}\n",
      "0.903 (+/-0.101) for {'activation': 'logistic', 'hidden_layer_sizes': (2, 2, 1), 'learning_rate': 'constant', 'max_iter': 1000, 'random_state': 5, 'solver': 'lbfgs'}\n",
      "0.903 (+/-0.117) for {'activation': 'tanh', 'hidden_layer_sizes': (2, 2, 1), 'learning_rate': 'constant', 'max_iter': 1000, 'random_state': 5, 'solver': 'lbfgs'}\n",
      "BEST PARAMS: {'activation': 'logistic', 'hidden_layer_sizes': (2, 2), 'learning_rate': 'constant', 'max_iter': 1000, 'random_state': 5, 'solver': 'lbfgs'}\n",
      "\n",
      "0.061 (+/-0.425) for {'activation': 'logistic', 'hidden_layer_sizes': (1, 1), 'learning_rate': 'constant', 'max_iter': 1000, 'random_state': 5, 'solver': 'lbfgs'}\n",
      "0.876 (+/-0.269) for {'activation': 'logistic', 'hidden_layer_sizes': (2, 2), 'learning_rate': 'constant', 'max_iter': 1000, 'random_state': 5, 'solver': 'lbfgs'}\n",
      "BEST PARAMS: {'activation': 'logistic', 'hidden_layer_sizes': (2, 2, 1), 'learning_rate': 'constant', 'max_iter': 1000, 'random_state': 5, 'solver': 'lbfgs'}\n",
      "\n",
      "0.131 (+/-0.775) for {'activation': 'logistic', 'hidden_layer_sizes': (1, 1), 'learning_rate': 'constant', 'max_iter': 1000, 'random_state': 5, 'solver': 'lbfgs'}\n",
      "0.767 (+/-0.606) for {'activation': 'logistic', 'hidden_layer_sizes': (2, 2), 'learning_rate': 'constant', 'max_iter': 1000, 'random_state': 5, 'solver': 'lbfgs'}\n",
      "0.843 (+/-0.238) for {'activation': 'logistic', 'hidden_layer_sizes': (2, 2, 1), 'learning_rate': 'constant', 'max_iter': 1000, 'random_state': 5, 'solver': 'lbfgs'}\n",
      "BEST PARAMS: {'activation': 'tanh', 'hidden_layer_sizes': (1, 1), 'learning_rate': 'constant', 'max_iter': 1000, 'random_state': 5, 'solver': 'lbfgs'}\n",
      "\n",
      "0.732 (+/-0.755) for {'activation': 'logistic', 'hidden_layer_sizes': (1, 1), 'learning_rate': 'constant', 'max_iter': 1000, 'random_state': 5, 'solver': 'lbfgs'}\n",
      "0.895 (+/-0.123) for {'activation': 'logistic', 'hidden_layer_sizes': (2, 2), 'learning_rate': 'constant', 'max_iter': 1000, 'random_state': 5, 'solver': 'lbfgs'}\n",
      "0.928 (+/-0.071) for {'activation': 'logistic', 'hidden_layer_sizes': (2, 2, 1), 'learning_rate': 'constant', 'max_iter': 1000, 'random_state': 5, 'solver': 'lbfgs'}\n",
      "0.932 (+/-0.08) for {'activation': 'tanh', 'hidden_layer_sizes': (1, 1), 'learning_rate': 'constant', 'max_iter': 1000, 'random_state': 5, 'solver': 'lbfgs'}\n"
     ]
    },
    {
     "name": "stdout",
     "output_type": "stream",
     "text": [
      "BEST PARAMS: {'activation': 'logistic', 'hidden_layer_sizes': (2, 2), 'learning_rate': 'constant', 'max_iter': 1000, 'random_state': 5, 'solver': 'lbfgs'}\n",
      "\n",
      "0.809 (+/-0.282) for {'activation': 'logistic', 'hidden_layer_sizes': (2, 2), 'learning_rate': 'constant', 'max_iter': 1000, 'random_state': 5, 'solver': 'lbfgs'}\n",
      "BEST PARAMS: {'activation': 'tanh', 'hidden_layer_sizes': (2, 2, 1), 'learning_rate': 'constant', 'max_iter': 1000, 'random_state': 5, 'solver': 'lbfgs'}\n",
      "\n",
      "0.888 (+/-0.096) for {'activation': 'logistic', 'hidden_layer_sizes': (1, 1), 'learning_rate': 'constant', 'max_iter': 1000, 'random_state': 5, 'solver': 'lbfgs'}\n",
      "0.893 (+/-0.136) for {'activation': 'tanh', 'hidden_layer_sizes': (2, 2), 'learning_rate': 'constant', 'max_iter': 1000, 'random_state': 5, 'solver': 'lbfgs'}\n",
      "0.895 (+/-0.128) for {'activation': 'tanh', 'hidden_layer_sizes': (2, 2, 1), 'learning_rate': 'constant', 'max_iter': 1000, 'random_state': 5, 'solver': 'lbfgs'}\n",
      "BEST PARAMS: {'activation': 'logistic', 'hidden_layer_sizes': (2, 2, 1), 'learning_rate': 'constant', 'max_iter': 1000, 'random_state': 5, 'solver': 'lbfgs'}\n",
      "\n",
      "0.329 (+/-0.891) for {'activation': 'logistic', 'hidden_layer_sizes': (1, 1), 'learning_rate': 'constant', 'max_iter': 1000, 'random_state': 5, 'solver': 'lbfgs'}\n",
      "0.912 (+/-0.082) for {'activation': 'logistic', 'hidden_layer_sizes': (2, 2), 'learning_rate': 'constant', 'max_iter': 1000, 'random_state': 5, 'solver': 'lbfgs'}\n",
      "0.914 (+/-0.086) for {'activation': 'logistic', 'hidden_layer_sizes': (2, 2, 1), 'learning_rate': 'constant', 'max_iter': 1000, 'random_state': 5, 'solver': 'lbfgs'}\n",
      "BEST PARAMS: {'activation': 'relu', 'hidden_layer_sizes': (2, 2, 1), 'learning_rate': 'constant', 'max_iter': 1000, 'random_state': 5, 'solver': 'lbfgs'}\n",
      "\n",
      "0.441 (+/-1.207) for {'activation': 'logistic', 'hidden_layer_sizes': (1, 1), 'learning_rate': 'constant', 'max_iter': 1000, 'random_state': 5, 'solver': 'lbfgs'}\n",
      "0.626 (+/-1.226) for {'activation': 'logistic', 'hidden_layer_sizes': (2, 2), 'learning_rate': 'constant', 'max_iter': 1000, 'random_state': 5, 'solver': 'lbfgs'}\n",
      "0.63 (+/-1.129) for {'activation': 'tanh', 'hidden_layer_sizes': (2, 2), 'learning_rate': 'constant', 'max_iter': 1000, 'random_state': 5, 'solver': 'lbfgs'}\n",
      "0.65 (+/-0.701) for {'activation': 'relu', 'hidden_layer_sizes': (2, 2, 1), 'learning_rate': 'constant', 'max_iter': 1000, 'random_state': 5, 'solver': 'lbfgs'}\n",
      "BEST PARAMS: {'activation': 'logistic', 'hidden_layer_sizes': (2, 2, 1), 'learning_rate': 'constant', 'max_iter': 1000, 'random_state': 5, 'solver': 'lbfgs'}\n",
      "\n",
      "0.333 (+/-0.882) for {'activation': 'logistic', 'hidden_layer_sizes': (1, 1), 'learning_rate': 'constant', 'max_iter': 1000, 'random_state': 5, 'solver': 'lbfgs'}\n",
      "0.894 (+/-0.128) for {'activation': 'logistic', 'hidden_layer_sizes': (2, 2), 'learning_rate': 'constant', 'max_iter': 1000, 'random_state': 5, 'solver': 'lbfgs'}\n",
      "0.894 (+/-0.14) for {'activation': 'logistic', 'hidden_layer_sizes': (2, 2, 1), 'learning_rate': 'constant', 'max_iter': 1000, 'random_state': 5, 'solver': 'lbfgs'}\n",
      "BEST PARAMS: {'activation': 'logistic', 'hidden_layer_sizes': (2, 2), 'learning_rate': 'constant', 'max_iter': 1000, 'random_state': 5, 'solver': 'lbfgs'}\n",
      "\n",
      "0.916 (+/-0.136) for {'activation': 'logistic', 'hidden_layer_sizes': (1, 1), 'learning_rate': 'constant', 'max_iter': 1000, 'random_state': 5, 'solver': 'lbfgs'}\n",
      "0.927 (+/-0.092) for {'activation': 'logistic', 'hidden_layer_sizes': (2, 2), 'learning_rate': 'constant', 'max_iter': 1000, 'random_state': 5, 'solver': 'lbfgs'}\n",
      "BEST PARAMS: {'activation': 'tanh', 'hidden_layer_sizes': (2, 2, 1), 'learning_rate': 'constant', 'max_iter': 1000, 'random_state': 5, 'solver': 'lbfgs'}\n",
      "\n",
      "0.449 (+/-1.014) for {'activation': 'logistic', 'hidden_layer_sizes': (1, 1), 'learning_rate': 'constant', 'max_iter': 1000, 'random_state': 5, 'solver': 'lbfgs'}\n",
      "0.896 (+/-0.172) for {'activation': 'logistic', 'hidden_layer_sizes': (2, 2), 'learning_rate': 'constant', 'max_iter': 1000, 'random_state': 5, 'solver': 'lbfgs'}\n",
      "0.905 (+/-0.135) for {'activation': 'logistic', 'hidden_layer_sizes': (2, 2, 1), 'learning_rate': 'constant', 'max_iter': 1000, 'random_state': 5, 'solver': 'lbfgs'}\n",
      "0.913 (+/-0.11) for {'activation': 'tanh', 'hidden_layer_sizes': (2, 2), 'learning_rate': 'constant', 'max_iter': 1000, 'random_state': 5, 'solver': 'lbfgs'}\n",
      "0.918 (+/-0.131) for {'activation': 'tanh', 'hidden_layer_sizes': (2, 2, 1), 'learning_rate': 'constant', 'max_iter': 1000, 'random_state': 5, 'solver': 'lbfgs'}\n",
      "BEST PARAMS: {'activation': 'logistic', 'hidden_layer_sizes': (2, 2), 'learning_rate': 'constant', 'max_iter': 1000, 'random_state': 5, 'solver': 'lbfgs'}\n",
      "\n",
      "0.694 (+/-0.725) for {'activation': 'logistic', 'hidden_layer_sizes': (1, 1), 'learning_rate': 'constant', 'max_iter': 1000, 'random_state': 5, 'solver': 'lbfgs'}\n",
      "0.928 (+/-0.056) for {'activation': 'logistic', 'hidden_layer_sizes': (2, 2), 'learning_rate': 'constant', 'max_iter': 1000, 'random_state': 5, 'solver': 'lbfgs'}\n",
      "BEST PARAMS: {'activation': 'logistic', 'hidden_layer_sizes': (2, 2), 'learning_rate': 'constant', 'max_iter': 1000, 'random_state': 5, 'solver': 'lbfgs'}\n",
      "\n",
      "0.523 (+/-0.959) for {'activation': 'logistic', 'hidden_layer_sizes': (1, 1), 'learning_rate': 'constant', 'max_iter': 1000, 'random_state': 5, 'solver': 'lbfgs'}\n",
      "0.905 (+/-0.095) for {'activation': 'logistic', 'hidden_layer_sizes': (2, 2), 'learning_rate': 'constant', 'max_iter': 1000, 'random_state': 5, 'solver': 'lbfgs'}\n",
      "BEST PARAMS: {'activation': 'tanh', 'hidden_layer_sizes': (2, 2), 'learning_rate': 'constant', 'max_iter': 1000, 'random_state': 5, 'solver': 'lbfgs'}\n",
      "\n",
      "0.861 (+/-0.261) for {'activation': 'logistic', 'hidden_layer_sizes': (1, 1), 'learning_rate': 'constant', 'max_iter': 1000, 'random_state': 5, 'solver': 'lbfgs'}\n",
      "0.863 (+/-0.277) for {'activation': 'logistic', 'hidden_layer_sizes': (2, 2), 'learning_rate': 'constant', 'max_iter': 1000, 'random_state': 5, 'solver': 'lbfgs'}\n",
      "0.88 (+/-0.169) for {'activation': 'tanh', 'hidden_layer_sizes': (2, 2), 'learning_rate': 'constant', 'max_iter': 1000, 'random_state': 5, 'solver': 'lbfgs'}\n",
      "mean CV 0.9036015438377147\n",
      "mean R2 0.9165980392156864\n",
      "mean R2_train 0.9611529411764709\n",
      "Test 0.5 Score 0.8408091494938358\n",
      "test r2 = 0.975960521815507\n"
     ]
    },
    {
     "ename": "NameError",
     "evalue": "name 'mae' is not defined",
     "output_type": "error",
     "traceback": [
      "\u001b[1;31m---------------------------------------------------------------------------\u001b[0m",
      "\u001b[1;31mNameError\u001b[0m                                 Traceback (most recent call last)",
      "\u001b[1;32m<ipython-input-2-332e95511d07>\u001b[0m in \u001b[0;36m<module>\u001b[1;34m\u001b[0m\n\u001b[0;32m    162\u001b[0m \u001b[0mprint\u001b[0m\u001b[1;33m(\u001b[0m\u001b[1;34m\"Test 0.5 Score {0}\"\u001b[0m\u001b[1;33m.\u001b[0m\u001b[0mformat\u001b[0m\u001b[1;33m(\u001b[0m\u001b[0mTestscore\u001b[0m\u001b[1;33m)\u001b[0m\u001b[1;33m)\u001b[0m\u001b[1;33m\u001b[0m\u001b[1;33m\u001b[0m\u001b[0m\n\u001b[0;32m    163\u001b[0m \u001b[0mprint\u001b[0m\u001b[1;33m(\u001b[0m\u001b[1;34m\"test r2 = {}\"\u001b[0m\u001b[1;33m.\u001b[0m\u001b[0mformat\u001b[0m\u001b[1;33m(\u001b[0m\u001b[0mr2_score\u001b[0m\u001b[1;33m(\u001b[0m\u001b[0mMLP_Y_test_standard_realscale\u001b[0m\u001b[1;33m,\u001b[0m\u001b[0mMLP_pred_Y_test_standard_realscale\u001b[0m\u001b[1;33m)\u001b[0m\u001b[1;33m)\u001b[0m\u001b[1;33m)\u001b[0m\u001b[1;33m\u001b[0m\u001b[1;33m\u001b[0m\u001b[0m\n\u001b[1;32m--> 164\u001b[1;33m \u001b[0mprint\u001b[0m\u001b[1;33m(\u001b[0m\u001b[1;34m\"test RMSE: {0} and MAE: {1}\"\u001b[0m\u001b[1;33m.\u001b[0m\u001b[0mformat\u001b[0m\u001b[1;33m(\u001b[0m\u001b[0msqrt\u001b[0m\u001b[1;33m(\u001b[0m\u001b[0mnp\u001b[0m\u001b[1;33m.\u001b[0m\u001b[0mmean\u001b[0m\u001b[1;33m(\u001b[0m\u001b[1;33m(\u001b[0m\u001b[0mMLP_Y_test_standard_realscale\u001b[0m \u001b[1;33m-\u001b[0m \u001b[0mMLP_pred_Y_test_standard_realscale\u001b[0m\u001b[1;33m)\u001b[0m\u001b[1;33m**\u001b[0m\u001b[1;36m2\u001b[0m\u001b[1;33m)\u001b[0m\u001b[1;33m)\u001b[0m\u001b[1;33m,\u001b[0m\u001b[0mmae\u001b[0m\u001b[1;33m(\u001b[0m\u001b[0mMLP_Y_test_standard_realscale\u001b[0m\u001b[1;33m,\u001b[0m \u001b[0mMLP_pred_Y_test_standard_realscale\u001b[0m\u001b[1;33m)\u001b[0m\u001b[1;33m.\u001b[0m\u001b[0mround\u001b[0m\u001b[1;33m(\u001b[0m\u001b[1;36m3\u001b[0m\u001b[1;33m)\u001b[0m\u001b[1;33m)\u001b[0m\u001b[1;33m)\u001b[0m\u001b[1;33m\u001b[0m\u001b[1;33m\u001b[0m\u001b[0m\n\u001b[0m\u001b[0;32m    165\u001b[0m \u001b[1;33m\u001b[0m\u001b[0m\n\u001b[0;32m    166\u001b[0m \u001b[0mprint\u001b[0m\u001b[1;33m(\u001b[0m\u001b[1;34m\"train r2 = {}\"\u001b[0m\u001b[1;33m.\u001b[0m\u001b[0mformat\u001b[0m\u001b[1;33m(\u001b[0m\u001b[0mr2_score\u001b[0m\u001b[1;33m(\u001b[0m\u001b[0mMLP_Y_train_standard_realscale\u001b[0m\u001b[1;33m,\u001b[0m\u001b[0mMLP_pred_Y_train_standard_realscale\u001b[0m\u001b[1;33m)\u001b[0m\u001b[1;33m)\u001b[0m\u001b[1;33m)\u001b[0m\u001b[1;33m\u001b[0m\u001b[1;33m\u001b[0m\u001b[0m\n",
      "\u001b[1;31mNameError\u001b[0m: name 'mae' is not defined"
     ]
    },
    {
     "data": {
      "image/png": "[encoded data removed]",
      "text/plain": [
       "<Figure size 432x288 with 1 Axes>"
      ]
     },
     "metadata": {
      "needs_background": "light"
     },
     "output_type": "display_data"
    }
   ],
   "source": [
    "MaxGlobal=0\n",
    "MaxGlobal_Score=0\n",
    "MaxGlobal_Score_train=0\n",
    "\n",
    "scores = {'CV': [], 'R2': [],'R2_train': []}\n",
    "\n",
    "for j in range(5000,5051):\n",
    "    from sklearn.model_selection import cross_val_score\n",
    "    from sklearn.ensemble import GradientBoostingRegressor\n",
    "    import numpy as np\n",
    "    import pandas as pd\n",
    "    import pickle\n",
    "    from sklearn import metrics\n",
    "    from sklearn import preprocessing\n",
    "    from sklearn.model_selection import train_test_split\n",
    "    from sklearn.model_selection import cross_val_predict\n",
    "    import matplotlib.pyplot as plt\n",
    "    #from neupy.algorithms import RBFKMeans\n",
    "    #from neupy.algorithms import GRNN\n",
    "    from sklearn.ensemble import RandomForestRegressor\n",
    "    from sklearn.metrics import r2_score\n",
    "    from sklearn import svm\n",
    "    from sklearn.neural_network import MLPRegressor\n",
    "    from sklearn.neural_network import MLPClassifier\n",
    "    from sklearn.linear_model import LogisticRegression\n",
    "    from sklearn.tree import DecisionTreeRegressor\n",
    "    from sklearn.ensemble import AdaBoostRegressor\n",
    "    from sklearn import linear_model\n",
    "    import seaborn as sn\n",
    "    import joblib\n",
    "    import pandas as pd\n",
    "    from sklearn.linear_model import LogisticRegression\n",
    "    from sklearn.model_selection import GridSearchCV\n",
    "    from math import sqrt\n",
    "    import warnings\n",
    "    warnings.filterwarnings('ignore', category=FutureWarning)\n",
    "    warnings.filterwarnings('ignore', category=DeprecationWarning)\n",
    "\n",
    "\n",
    "\n",
    "\n",
    "\n",
    "\n",
    "    \n",
    "\n",
    "\n",
    "    def print_results_max(results):\n",
    "        print('BEST PARAMS: {}\\n'.format(results.best_params_))\n",
    "        MAxMean=0\n",
    "        means = results.cv_results_['mean_test_score']\n",
    "        stds = results.cv_results_['std_test_score']\n",
    "        for mean, std, params in zip(means, stds, results.cv_results_['params']):\n",
    "            if mean > MAxMean :\n",
    "                MAxMean = mean\n",
    "                print('{} (+/-{}) for {}'.format(round(mean, 3), round(std * 2, 3), params))\n",
    "        return MAxMean\n",
    "\n",
    "\n",
    "    file_name = 'CA'\n",
    "    dataset = pd.read_csv(file_name + '.csv', header=0)\n",
    "    Test=dataset.loc[dataset['phi'] == 0.5]\n",
    "    data= dataset[dataset.phi != 0.5]\n",
    "\n",
    "    x1 = data.phi\n",
    "    x2= data.ca\n",
    "    X = np.column_stack((x1,x2))\n",
    "    Y= np.asarray(data.uv).reshape(-1, 1)\n",
    "    X_train, X_test,Y_train, Y_test = train_test_split(X, Y, test_size = 0.2,random_state=j,stratify=X[:,0])\n",
    "\n",
    "\n",
    "    xscaler = preprocessing.MinMaxScaler()\n",
    "    X_train_standard=xscaler.fit_transform(X_train)\n",
    "    X_test_standard=xscaler.transform(X_test)\n",
    "\n",
    "    yscaler = preprocessing.MinMaxScaler()\n",
    "    Y_train_standard =yscaler.fit_transform(Y_train)\n",
    "    Y_test_standard =yscaler.transform(Y_test)\n",
    "\n",
    "    Y_train_standard=Y_train_standard.ravel()\n",
    "    Y_test_standard =Y_test_standard.ravel() \n",
    "    \n",
    "    X1 = Test.phi\n",
    "    X2= Test.ca\n",
    "    XX = np.column_stack((X1,X2))\n",
    "    YY= np.asarray(Test.uv).reshape(-1, 1)\n",
    "    X_scaled=xscaler.transform(XX)\n",
    "    Y_scaled=yscaler.transform(YY)\n",
    "    Y_scaled=Y_scaled.ravel()\n",
    "   \n",
    "    \n",
    "    MLP =MLPRegressor()\n",
    "\n",
    "\n",
    "\n",
    "    parameters = {\n",
    "            'hidden_layer_sizes' : [(1,1),(2,2),(2,2,1)],\n",
    "            'activation' : [ 'logistic', 'tanh', 'relu'],\n",
    "             'max_iter':[1000],\n",
    "            'solver': ['lbfgs'],\n",
    "            'learning_rate' : ['constant'],\n",
    "            'random_state' :[5]\n",
    "\n",
    "    }\n",
    "\n",
    "    cv = GridSearchCV(MLP, parameters, cv=5)\n",
    "    cv.fit(X_train_standard, Y_train_standard)\n",
    "    MAxMean=print_results_max(cv)\n",
    "    Score= cv.best_estimator_.score(X_test_standard, Y_test_standard).round(4)\n",
    "    Score_train= cv.best_estimator_.score(X_train_standard, Y_train_standard).round(4)\n",
    "\n",
    "    scores['CV'].append(MAxMean) \n",
    "    scores['R2'].append(Score)\n",
    "    scores['R2_train'].append(Score_train)\n",
    "\n",
    "    if MAxMean > MaxGlobal  and Score>MaxGlobal_Score and Score_train>MaxGlobal_Score_train:\n",
    "        MaxGlobal=MAxMean\n",
    "        MaxGlobal_Score= Score\n",
    "        MaxGlobal_Score_train = Score_train\n",
    "\n",
    "        BestFit=cv.best_estimator_\n",
    "        MLP_X_train_standard=X_train_standard\n",
    "        MLP_Y_train_standard=Y_train_standard\n",
    "        MLP_X_test_standard=X_test_standard\n",
    "        MLP_Y_test_standard=Y_test_standard\n",
    "        \n",
    "        MLP_Y_train_standard_realscale=yscaler.inverse_transform(Y_train_standard.reshape(-1, 1))\n",
    "        MLP_Y_test_standard_realscale=yscaler.inverse_transform(Y_test_standard.reshape(-1, 1))\n",
    "        ypredtrain=BestFit.predict(X_train_standard)\n",
    "        ypredtest=BestFit.predict(X_test_standard)\n",
    "        MLP_pred_Y_train_standard_realscale=yscaler.inverse_transform(ypredtrain.reshape(-1, 1))\n",
    "        MLP_pred_Y_test_standard_realscale=yscaler.inverse_transform(ypredtest.reshape(-1, 1))\n",
    "        np.save('MLP_Y_train_standard_realscale',MLP_Y_train_standard_realscale)\n",
    "        np.save('MLP_Y_test_standard_realscale',MLP_Y_test_standard_realscale)\n",
    "        np.save('MLP_pred_Y_train_standard_realscale',MLP_pred_Y_train_standard_realscale)\n",
    "        np.save('MLP_pred_Y_test_standard_realscale',MLP_pred_Y_test_standard_realscale)\n",
    "        \n",
    "        Number_Of_Estimators = j\n",
    "        np.save('MLP_X_train_standard',MLP_X_train_standard)\n",
    "        np.save('MLP_Y_train_standard',MLP_Y_train_standard)\n",
    "        np.save('MLP_X_test_standard',MLP_X_test_standard)\n",
    "        np.save('MLP_Y_test_standard',MLP_Y_test_standard)\n",
    "        Xscaler=xscaler\n",
    "        Yscaler=yscaler\n",
    "        ypredTest=BestFit.predict(X_scaled)\n",
    "        Testscore=r2_score(Y_scaled,ypredTest)\n",
    "        joblib.dump(BestFit, 'MLP_model.pkl')\n",
    "        joblib.dump(Xscaler, 'MLP_Xscaler.pkl')\n",
    "        joblib.dump(Yscaler, 'MLP_Yscaler.pkl')\n",
    "    \n",
    "S=pd.DataFrame(scores) \n",
    "axis = S.boxplot(whis=(5,95))\n",
    "axis.set_ylim([0,1]);\n",
    "np.save('MLP_CV',S.CV)\n",
    "np.save('MLP_R2',S.R2)\n",
    "np.save('MLP_R2_train',S.R2_train)\n",
    "\n",
    "print(\"mean CV {0}\".format(S.CV.mean()))\n",
    "print(\"mean R2 {0}\".format(S.R2.mean()))\n",
    "print(\"mean R2_train {0}\".format(S.R2_train.mean()))\n",
    "\n",
    "\n",
    "print(\"Test 0.5 Score {0}\".format(Testscore))\n",
    "print(\"test r2 = {}\".format(r2_score(MLP_Y_test_standard_realscale,MLP_pred_Y_test_standard_realscale)))\n",
    "print(\"test RMSE: {0} and MAE: {1}\".format(sqrt(np.mean((MLP_Y_test_standard_realscale - MLP_pred_Y_test_standard_realscale)**2)),mae(MLP_Y_test_standard_realscale, MLP_pred_Y_test_standard_realscale).round(3)))\n",
    "\n",
    "print(\"train r2 = {}\".format(r2_score(MLP_Y_train_standard_realscale,MLP_pred_Y_train_standard_realscale)))\n",
    "print(\"train RMSE: {0} and MAE: {1}\".format(sqrt(np.mean((MLP_Y_train_standard_realscale - MLP_pred_Y_train_standard_realscale)**2)),mae(MLP_Y_train_standard_realscale, MLP_pred_Y_train_standard_realscale).round(3)))"
   ]
  },
  {
   "cell_type": "code",
   "execution_count": 3,
   "metadata": {},
   "outputs": [
    {
     "data": {
      "text/plain": [
       "5006"
      ]
     },
     "execution_count": 3,
     "metadata": {},
     "output_type": "execute_result"
    }
   ],
   "source": [
    "Number_Of_Estimators #random state in train-test-split function"
   ]
  },
  {
   "cell_type": "code",
   "execution_count": 4,
   "metadata": {},
   "outputs": [
    {
     "data": {
      "text/plain": [
       "0.9247559148793346"
      ]
     },
     "execution_count": 4,
     "metadata": {},
     "output_type": "execute_result"
    }
   ],
   "source": [
    "MaxGlobal"
   ]
  },
  {
   "cell_type": "code",
   "execution_count": 5,
   "metadata": {},
   "outputs": [
    {
     "data": {
      "text/plain": [
       "0.976"
      ]
     },
     "execution_count": 5,
     "metadata": {},
     "output_type": "execute_result"
    }
   ],
   "source": [
    "MaxGlobal_Score"
   ]
  },
  {
   "cell_type": "code",
   "execution_count": 6,
   "metadata": {},
   "outputs": [
    {
     "data": {
      "text/plain": [
       "0.9734"
      ]
     },
     "execution_count": 6,
     "metadata": {},
     "output_type": "execute_result"
    }
   ],
   "source": [
    "MaxGlobal_Score_train"
   ]
  },
  {
   "cell_type": "code",
   "execution_count": 7,
   "metadata": {},
   "outputs": [
    {
     "data": {
      "text/plain": [
       "['MLP_model.pkl']"
      ]
     },
     "execution_count": 7,
     "metadata": {},
     "output_type": "execute_result"
    }
   ],
   "source": [
    "joblib.dump(BestFit, 'MLP_model.pkl')"
   ]
  },
  {
   "cell_type": "code",
   "execution_count": 8,
   "metadata": {},
   "outputs": [
    {
     "data": {
      "text/plain": [
       "MLPRegressor(activation='tanh', hidden_layer_sizes=(2, 2, 1), max_iter=1000,\n",
       "             random_state=5, solver='lbfgs')"
      ]
     },
     "execution_count": 8,
     "metadata": {},
     "output_type": "execute_result"
    }
   ],
   "source": [
    "BestFit"
   ]
  },
  {
   "cell_type": "code",
   "execution_count": 9,
   "metadata": {},
   "outputs": [
    {
     "name": "stdout",
     "output_type": "stream",
     "text": [
      "r2 = 0.8408091494938357\n",
      "RMSE: 1.6083691493948675 and MAE: 1.137\n"
     ]
    },
    {
     "data": {
      "text/plain": [
       "<matplotlib.collections.PathCollection at 0x1e49681b070>"
      ]
     },
     "execution_count": 9,
     "metadata": {},
     "output_type": "execute_result"
    },
    {
     "data": {
      "image/png": "[encoded data removed]",
      "text/plain": [
       "<Figure size 432x288 with 1 Axes>"
      ]
     },
     "metadata": {
      "needs_background": "light"
     },
     "output_type": "display_data"
    }
   ],
   "source": [
    "file_name = 'CA0.5'\n",
    "data = pd.read_csv(file_name + '.csv', header=0)\n",
    "\n",
    "x1 = data.phi\n",
    "x2= data.ca\n",
    "X = np.column_stack((x1,x2))\n",
    "Y= np.asarray(data.uv).reshape(-1, 1)\n",
    "Xscaler=joblib.load('MLP_Xscaler.pkl')\n",
    "Yscaler=joblib.load('MLP_Yscaler.pkl')\n",
    "\n",
    "X_scaled=Xscaler.transform(X)\n",
    "Y_scaled=Yscaler.transform(Y)\n",
    "Y_scaled=Y_scaled.ravel()\n",
    "ypred=BestFit.predict(X_scaled)\n",
    "actually_MLP=Yscaler.inverse_transform(ypred.reshape(-1,1))\n",
    "\n",
    "from sklearn.metrics import r2_score\n",
    "from math import sqrt\n",
    "from sklearn.metrics import mean_absolute_error as mae\n",
    "np.save('actually_MLP',actually_MLP)\n",
    "print(\"r2 = {}\".format(r2_score(Y,actually_MLP)))\n",
    "print(\"RMSE: {0} and MAE: {1}\".format(sqrt(np.mean((Y - actually_MLP)**2)),mae(Y, actually_MLP).round(3)))\n",
    "\n",
    "plt.scatter(x2,actually_MLP,color=\"none\",edgecolor=\"red\")\n",
    "plt.scatter(x2,Y,marker='+')\n",
    "\n",
    "\n"
   ]
  },
  {
   "cell_type": "code",
   "execution_count": null,
   "metadata": {},
   "outputs": [],
   "source": []
  },
  {
   "cell_type": "code",
   "execution_count": null,
   "metadata": {},
   "outputs": [],
   "source": []
  }
 ],
 "metadata": {
  "kernelspec": {
   "display_name": "Python 3",
   "language": "python",
   "name": "python3"
  },
  "language_info": {
   "codemirror_mode": {
    "name": "ipython",
    "version": 3
   },
   "file_extension": ".py",
   "mimetype": "text/x-python",
   "name": "python",
   "nbconvert_exporter": "python",
   "pygments_lexer": "ipython3",
   "version": "3.8.5"
  }
 },
 "nbformat": 4,
 "nbformat_minor": 4
}
